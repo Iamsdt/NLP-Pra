{
 "cells": [
  {
   "cell_type": "markdown",
   "metadata": {},
   "source": [
    "# Topics\n",
    "\n",
    "1. Text Preprocessing\n",
    "2. Lamenization\n",
    "4. Tagging\n",
    "3. NER"
   ]
  },
  {
   "cell_type": "markdown",
   "metadata": {
    "ExecuteTime": {
     "end_time": "2020-04-25T17:02:32.348323Z",
     "start_time": "2020-04-25T17:02:32.343360Z"
    }
   },
   "source": [
    "### Text cleaning"
   ]
  },
  {
   "cell_type": "code",
   "execution_count": 1,
   "metadata": {
    "ExecuteTime": {
     "end_time": "2020-04-25T16:40:09.722960Z",
     "start_time": "2020-04-25T16:40:09.717800Z"
    }
   },
   "outputs": [],
   "source": [
    "sample = \"Hello! How are you? I am file. Can you check my latest post? https://fb.com\" "
   ]
  },
  {
   "cell_type": "code",
   "execution_count": 3,
   "metadata": {
    "ExecuteTime": {
     "end_time": "2020-04-25T16:41:32.013679Z",
     "start_time": "2020-04-25T16:41:31.480810Z"
    }
   },
   "outputs": [],
   "source": [
    "import spacy\n",
    "\n",
    "nlp = spacy.load(\"en_core_web_sm\")"
   ]
  },
  {
   "cell_type": "code",
   "execution_count": 4,
   "metadata": {
    "ExecuteTime": {
     "end_time": "2020-04-25T16:41:50.599963Z",
     "start_time": "2020-04-25T16:41:50.588155Z"
    }
   },
   "outputs": [],
   "source": [
    "data = nlp(sample)"
   ]
  },
  {
   "cell_type": "markdown",
   "metadata": {},
   "source": [
    "tokenization"
   ]
  },
  {
   "cell_type": "code",
   "execution_count": 10,
   "metadata": {
    "ExecuteTime": {
     "end_time": "2020-04-25T16:43:07.175311Z",
     "start_time": "2020-04-25T16:43:07.167240Z"
    }
   },
   "outputs": [
    {
     "name": "stdout",
     "output_type": "stream",
     "text": [
      "['Hello', '!', 'How', 'are', 'you', '?', 'I', 'am', 'file', '.', 'Can', 'you', 'check', 'my', 'latest', 'post', '?', 'https://fb.com']\n"
     ]
    }
   ],
   "source": [
    "print([token.text for token in data])"
   ]
  },
  {
   "cell_type": "markdown",
   "metadata": {},
   "source": [
    "lamenazation"
   ]
  },
  {
   "cell_type": "code",
   "execution_count": 15,
   "metadata": {
    "ExecuteTime": {
     "end_time": "2020-04-25T16:45:02.768942Z",
     "start_time": "2020-04-25T16:45:02.757718Z"
    }
   },
   "outputs": [
    {
     "name": "stdout",
     "output_type": "stream",
     "text": [
      "Hello! How are you? I am file. Can you check my latest post? https://fb.com\n",
      "hello ! how be -PRON- ? -PRON- be file . Can -PRON- check -PRON- late post ? https://fb.com\n"
     ]
    }
   ],
   "source": [
    "lameas = [token.lemma_ for token in data]\n",
    "print(sample)\n",
    "print(' '.join(lameas))"
   ]
  },
  {
   "cell_type": "code",
   "execution_count": 18,
   "metadata": {
    "ExecuteTime": {
     "end_time": "2020-04-25T16:46:11.526164Z",
     "start_time": "2020-04-25T16:46:11.516450Z"
    }
   },
   "outputs": [
    {
     "name": "stdout",
     "output_type": "stream",
     "text": [
      "hello how be -PRON- -PRON- be file Can -PRON- check -PRON- late post\n"
     ]
    }
   ],
   "source": [
    "a_lemmas = [lemma for lemma in lameas if lemma.isalpha() or lemma == '-PRON-']\n",
    "print(' '.join(a_lemmas))"
   ]
  },
  {
   "cell_type": "code",
   "execution_count": 19,
   "metadata": {
    "ExecuteTime": {
     "end_time": "2020-04-25T16:48:48.319557Z",
     "start_time": "2020-04-25T16:48:48.307657Z"
    }
   },
   "outputs": [
    {
     "name": "stdout",
     "output_type": "stream",
     "text": [
      "[('Hello', 'INTJ'), ('!', 'PUNCT'), ('How', 'ADV'), ('are', 'AUX'), ('you', 'PRON'), ('?', 'PUNCT'), ('I', 'PRON'), ('am', 'AUX'), ('file', 'NOUN'), ('.', 'PUNCT'), ('Can', 'VERB'), ('you', 'PRON'), ('check', 'VERB'), ('my', 'DET'), ('latest', 'ADJ'), ('post', 'NOUN'), ('?', 'PUNCT'), ('https://fb.com', 'X')]\n"
     ]
    }
   ],
   "source": [
    "pos = [(token.text, token.pos_) for token in data]\n",
    "\n",
    "print(pos)"
   ]
  },
  {
   "cell_type": "code",
   "execution_count": 33,
   "metadata": {
    "ExecuteTime": {
     "end_time": "2020-04-25T16:53:23.934072Z",
     "start_time": "2020-04-25T16:53:23.922563Z"
    }
   },
   "outputs": [
    {
     "data": {
      "text/plain": [
       "'Hello How are you I am file Can you check my latest post'"
      ]
     },
     "execution_count": 33,
     "metadata": {},
     "output_type": "execute_result"
    }
   ],
   "source": [
    "tokens = [token.text for token in data if token.pos_ != 'X' and token.pos_ != 'PUNCT']\n",
    "' '.join(tokens)"
   ]
  },
  {
   "cell_type": "markdown",
   "metadata": {},
   "source": [
    "### Text Preprocessing 2"
   ]
  },
  {
   "cell_type": "code",
   "execution_count": 36,
   "metadata": {
    "ExecuteTime": {
     "end_time": "2020-04-25T17:05:03.698627Z",
     "start_time": "2020-04-25T17:05:03.685105Z"
    }
   },
   "outputs": [],
   "source": [
    "article = '\\'\\'\\'Debugging\\'\\'\\' is the process of finding and resolving of defects that prevent correct operation of computer software or a system.  \\n\\nNumerous books have been written about debugging (see below: #Further reading|Further reading), as it involves numerous aspects, including interactive debugging, control flow, integration testing, Logfile|log files, monitoring (Application monitoring|application, System Monitoring|system), memory dumps, Profiling (computer programming)|profiling, Statistical Process Control, and special design tactics to improve detection while simplifying changes.\\n\\nOrigin\\nA computer log entry from the Mark&nbsp;II, with a moth taped to the page\\n\\nThe terms \"bug\" and \"debugging\" are popularly attributed to Admiral Grace Hopper in the 1940s.[http://foldoc.org/Grace+Hopper Grace Hopper]  from FOLDOC While she was working on a Harvard Mark II|Mark II Computer at Harvard University, her associates discovered a moth stuck in a relay and thereby impeding operation, whereupon she remarked that they were \"debugging\" the system. However the term \"bug\" in the meaning of technical error dates back at least to 1878 and Thomas Edison (see software bug for a full discussion), and \"debugging\" seems to have been used as a term in aeronautics before entering the world of computers. Indeed, in an interview Grace Hopper remarked that she was not coining the term{{Citation needed|date=July 2015}}. The moth fit the already existing terminology, so it was saved.  A letter from J. Robert Oppenheimer (director of the WWII atomic bomb \"Manhattan\" project at Los Alamos, NM) used the term in a letter to Dr. Ernest Lawrence at UC Berkeley, dated October 27, 1944,http://bancroft.berkeley.edu/Exhibits/physics/images/bigscience25.jpg regarding the recruitment of additional technical staff.\\n\\nThe Oxford English Dictionary entry for \"debug\" quotes the term \"debugging\" used in reference to airplane engine testing in a 1945 article in the Journal of the Royal Aeronautical Society. An article in \"Airforce\" (June 1945 p.&nbsp;50) also refers to debugging, this time of aircraft cameras.  Hopper\\'s computer bug|bug was found on September 9, 1947. The term was not adopted by computer programmers until the early 1950s.\\nThe seminal article by GillS. Gill, [http://www.jstor.org/stable/98663 The Diagnosis of Mistakes in Programmes on the EDSAC], Proceedings of the Royal Society of London. Series A, Mathematical and Physical Sciences, Vol. 206, No. 1087 (May 22, 1951), pp. 538-554 in 1951 is the earliest in-depth discussion of programming errors, but it does not use the term \"bug\" or \"debugging\".\\nIn the Association for Computing Machinery|ACM\\'s digital library, the term \"debugging\" is first used in three papers from 1952 ACM National Meetings.Robert V. D. Campbell, [http://portal.acm.org/citation.cfm?id=609784.609786 Evolution of automatic computation], Proceedings of the 1952 ACM national meeting (Pittsburgh), p 29-32, 1952.Alex Orden, [http://portal.acm.org/citation.cfm?id=609784.609793 Solution of systems of linear inequalities on a digital computer], Proceedings of the 1952 ACM national meeting (Pittsburgh), p. 91-95, 1952.Howard B. Demuth, John B. Jackson, Edmund Klein, N. Metropolis, Walter Orvedahl, James H. Richardson, [http://portal.acm.org/citation.cfm?id=800259.808982 MANIAC], Proceedings of the 1952 ACM national meeting (Toronto), p. 13-16 Two of the three use the term in quotation marks.\\nBy 1963 \"debugging\" was a common enough term to be mentioned in passing without explanation on page 1 of the Compatible Time-Sharing System|CTSS manual.[http://www.bitsavers.org/pdf/mit/ctss/CTSS_ProgrammersGuide.pdf The Compatible Time-Sharing System], M.I.T. Press, 1963\\n\\nKidwell\\'s article \\'\\'Stalking the Elusive Computer Bug\\'\\'Peggy Aldrich Kidwell, [http://ieeexplore.ieee.org/xpl/freeabs_all.jsp?tp=&arnumber=728224&isnumber=15706 Stalking the Elusive Computer Bug], IEEE Annals of the History of Computing, 1998. discusses the etymology of \"bug\" and \"debug\" in greater detail.\\n\\nScope\\nAs software and electronic systems have become generally more complex, the various common debugging techniques have expanded with more methods to detect anomalies, assess impact, and schedule software patches or full updates to a system. The words \"anomaly\" and \"discrepancy\" can be used, as being more neutral terms, to avoid the words \"error\" and \"defect\" or \"bug\" where there might be an implication that all so-called \\'\\'errors\\'\\', \\'\\'defects\\'\\' or \\'\\'bugs\\'\\' must be fixed (at all costs). Instead, an impact assessment can be made to determine if changes to remove an \\'\\'anomaly\\'\\' (or \\'\\'discrepancy\\'\\') would be cost-effective for the system, or perhaps a scheduled new release might render the change(s) unnecessary. Not all issues are life-critical or mission-critical in a system. Also, it is important to avoid the situation where a change might be more upsetting to users, long-term, than living with the known problem(s) (where the \"cure would be worse than the disease\"). Basing decisions of the acceptability of some anomalies can avoid a culture of a \"zero-defects\" mandate, where people might be tempted to deny the existence of problems so that the result would appear as zero \\'\\'defects\\'\\'. Considering the collateral issues, such as the cost-versus-benefit impact assessment, then broader debugging techniques will expand to determine the frequency of anomalies (how often the same \"bugs\" occur) to help assess their impact to the overall system.\\n\\nTools\\nDebugging on video game consoles is usually done with special hardware such as this Xbox (console)|Xbox debug unit intended for developers.\\n\\nDebugging ranges in complexity from fixing simple errors to performing lengthy and tiresome tasks of data collection, analysis, and scheduling updates.  The debugging skill of the programmer can be a major factor in the ability to debug a problem, but the difficulty of software debugging varies greatly with the complexity of the system, and also depends, to some extent, on the programming language(s) used and the available tools, such as \\'\\'debuggers\\'\\'. Debuggers are software tools which enable the programmer to monitor the execution (computers)|execution of a program, stop it, restart it, set breakpoints, and change values in memory. The term \\'\\'debugger\\'\\' can also refer to the person who is doing the debugging.\\n\\nGenerally, high-level programming languages, such as Java (programming language)|Java, make debugging easier, because they have features such as exception handling that make real sources of erratic behaviour easier to spot. In programming languages such as C (programming language)|C or assembly language|assembly, bugs may cause silent problems such as memory corruption, and it is often difficult to see where the initial problem happened. In those cases, memory debugging|memory debugger tools may be needed.\\n\\nIn certain situations, general purpose software tools that are language specific in nature can be very useful.  These take the form of \\'\\'List of tools for static code analysis|static code analysis tools\\'\\'.  These tools look for a very specific set of known problems, some common and some rare, within the source code.  All such issues detected by these tools would rarely be picked up by a compiler or interpreter, thus they are not syntax checkers, but more semantic checkers.  Some tools claim to be able to detect 300+ unique problems. Both commercial and free tools exist in various languages.  These tools can be extremely useful when checking very large source trees, where it is impractical to do code walkthroughs.  A typical example of a problem detected would be a variable dereference that occurs \\'\\'before\\'\\' the variable is assigned a value.  Another example would be to perform strong type checking when the language does not require such.  Thus, they are better at locating likely errors, versus actual errors.  As a result, these tools have a reputation of false positives.  The old Unix \\'\\'Lint programming tool|lint\\'\\' program is an early example.\\n\\nFor debugging electronic hardware (e.g., computer hardware) as well as low-level software (e.g., BIOSes, device drivers) and firmware, instruments such as oscilloscopes, logic analyzers or in-circuit emulator|in-circuit emulators (ICEs) are often used, alone or in combination.  An ICE may perform many of the typical software debugger\\'s tasks on low-level software and firmware.\\n\\nDebugging process \\nNormally the first step in debugging is to attempt to reproduce the problem. This can be a non-trivial task, for example as with Parallel computing|parallel processes or some unusual software bugs. Also, specific user environment and usage history can make it difficult to reproduce the problem.\\n\\nAfter the bug is reproduced, the input of the program may need to be simplified to make it easier to debug. For example, a bug in a compiler can make it Crash (computing)|crash when parsing some large source file. However, after simplification of the test case, only few lines from the original source file can be sufficient to reproduce the same crash. Such simplification can be made manually, using a Divide and conquer algorithm|divide-and-conquer approach. The programmer will try to remove some parts of original test case and check if the problem still exists. When debugging the problem in a Graphical user interface|GUI, the programmer can try to skip some user interaction from the original problem description and check if remaining actions are sufficient for bugs to appear.\\n\\nAfter the test case is sufficiently simplified, a programmer can use a debugger tool to examine program states (values of variables, plus the call stack) and track down the origin of the problem(s). Alternatively, Tracing (software)|tracing can be used. In simple cases, tracing is just a few print statements, which output the values of variables at certain points of program execution.{{citation needed|date=February 2016}}\\n\\n Techniques \\n \\'\\'Interactive debugging\\'\\'\\n \\'\\'{{visible anchor|Print debugging}}\\'\\' (or tracing) is the act of watching (live or recorded) trace statements, or print statements, that indicate the flow of execution of a process. This is sometimes called \\'\\'{{visible anchor|printf debugging}}\\'\\', due to the use of the printf function in C. This kind of debugging was turned on by the command TRON in the original versions of the novice-oriented BASIC programming language. TRON stood for, \"Trace On.\" TRON caused the line numbers of each BASIC command line to print as the program ran.\\n \\'\\'Remote debugging\\'\\' is the process of debugging a program running on a system different from the debugger. To start remote debugging, a debugger connects to a remote system over a network. The debugger can then control the execution of the program on the remote system and retrieve information about its state.\\n \\'\\'Post-mortem debugging\\'\\' is debugging of the program after it has already Crash (computing)|crashed. Related techniques often include various tracing techniques (for example,[http://www.drdobbs.com/tools/185300443 Postmortem Debugging, Stephen Wormuller, Dr. Dobbs Journal, 2006]) and/or analysis of memory dump (or core dump) of the crashed process. The dump of the process could be obtained automatically by the system (for example, when process has terminated due to an unhandled exception), or by a programmer-inserted instruction, or manually by the interactive user.\\n \\'\\'\"Wolf fence\" algorithm:\\'\\' Edward Gauss described this simple but very useful and now famous algorithm in a 1982 article for communications of the ACM as follows: \"There\\'s one wolf in Alaska; how do you find it? First build a fence down the middle of the state, wait for the wolf to howl, determine which side of the fence it is on. Repeat process on that side only, until you get to the point where you can see the wolf.\"<ref name=\"communications of the ACM\">{{cite journal | title=\"Pracniques: The \"Wolf Fence\" Algorithm for Debugging\", | author=E. J. Gauss | year=1982}} This is implemented e.g. in the Git (software)|Git version control system as the command \\'\\'git bisect\\'\\', which uses the above algorithm to determine which Commit (data management)|commit introduced a particular bug.\\n \\'\\'Delta Debugging\\'\\'{{snd}} a technique of automating test case simplification.Andreas Zeller: <cite>Why Programs Fail: A Guide to Systematic Debugging</cite>, Morgan Kaufmann, 2005. ISBN 1-55860-866-4{{rp|p.123}}<!-- for redirect from \\'Saff Squeeze\\' -->\\n \\'\\'Saff Squeeze\\'\\'{{snd}} a technique of isolating failure within the test using progressive inlining of parts of the failing test.[http://www.threeriversinstitute.org/HitEmHighHitEmLow.html Kent Beck, Hit \\'em High, Hit \\'em Low: Regression Testing and the Saff Squeeze]\\n\\nDebugging for embedded systems\\nIn contrast to the general purpose computer software design environment, a primary characteristic of embedded environments is the sheer number of different platforms available to the developers (CPU architectures, vendors, operating systems and their variants). Embedded systems are, by definition, not general-purpose designs: they are typically developed for a single task (or small range of tasks), and the platform is chosen specifically to optimize that application. Not only does this fact make life tough for embedded system developers, it also makes debugging and testing of these systems harder as well, since different debugging tools are needed in different platforms.\\n\\nto identify and fix bugs in the system (e.g. logical or synchronization problems in the code, or a design error in the hardware);\\nto collect information about the operating states of the system that may then be used to analyze the system: to find ways to boost its performance or to optimize other important characteristics (e.g. energy consumption, reliability, real-time response etc.).\\n\\nAnti-debugging\\nAnti-debugging is \"the implementation of one or more techniques within computer code that hinders attempts at reverse engineering or debugging a target process\".<ref name=\"veracode-antidebugging\">{{cite web |url=http://www.veracode.com/blog/2008/12/anti-debugging-series-part-i/ |title=Anti-Debugging Series - Part I |last=Shields |first=Tyler |date=2008-12-02 |work=Veracode |accessdate=2009-03-17}} It is actively used by recognized publishers in copy protection|copy-protection schemas, but is also used by malware to complicate its detection and elimination.<ref name=\"soft-prot\">[http://people.seas.harvard.edu/~mgagnon/software_protection_through_anti_debugging.pdf Software Protection through Anti-Debugging Michael N Gagnon, Stephen Taylor, Anup Ghosh] Techniques used in anti-debugging include:\\nAPI-based: check for the existence of a debugger using system information\\nException-based: check to see if exceptions are interfered with\\nProcess and thread blocks: check whether process and thread blocks have been manipulated\\nModified code: check for code modifications made by a debugger handling software breakpoints\\nHardware- and register-based: check for hardware breakpoints and CPU registers\\nTiming and latency: check the time taken for the execution of instructions\\nDetecting and penalizing debugger<ref name=\"soft-prot\" /><!-- reference does not exist -->\\n\\nAn early example of anti-debugging existed in early versions of Microsoft Word which, if a debugger was detected, produced a message that said: \"The tree of evil bears bitter fruit. Now trashing program disk.\", after which it caused the floppy disk drive to emit alarming noises with the intent of scaring the user away from attempting it again.<ref name=\"SecurityEngineeringRA\">{{cite book | url=http://www.cl.cam.ac.uk/~rja14/book.html | author=Ross J. Anderson | title=Security Engineering | isbn = 0-471-38922-6 | page=684 }}<ref name=\"toastytech\">{{cite web | url=http://toastytech.com/guis/word1153.html | title=Microsoft Word for DOS 1.15}}\\n'"
   ]
  },
  {
   "cell_type": "code",
   "execution_count": 39,
   "metadata": {
    "ExecuteTime": {
     "end_time": "2020-04-25T17:05:59.156131Z",
     "start_time": "2020-04-25T17:05:58.787543Z"
    }
   },
   "outputs": [],
   "source": [
    "data = nlp(article)"
   ]
  },
  {
   "cell_type": "code",
   "execution_count": 60,
   "metadata": {
    "ExecuteTime": {
     "end_time": "2020-04-25T17:18:44.134412Z",
     "start_time": "2020-04-25T17:18:44.122161Z"
    }
   },
   "outputs": [],
   "source": [
    "txt = \" \\n\\n Numerous books\"\n",
    "\n",
    "doc = nlp(txt)\n",
    "\n",
    "poses = [(token.text, token.pos_) for token in data]"
   ]
  },
  {
   "cell_type": "code",
   "execution_count": 69,
   "metadata": {
    "ExecuteTime": {
     "end_time": "2020-04-25T17:21:05.517165Z",
     "start_time": "2020-04-25T17:21:05.504825Z"
    }
   },
   "outputs": [
    {
     "name": "stdout",
     "output_type": "stream",
     "text": [
      "dict_items([((\"'\", 'PUNCT'), 86), (('Debugging', 'VERB'), 5), (('is', 'AUX'), 25), (('the', 'DET'), 134), (('process', 'NOUN'), 9), (('of', 'ADP'), 81), (('finding', 'VERB'), 1), (('and', 'CCONJ'), 42), (('resolving', 'NOUN'), 1), (('defects', 'NOUN'), 4), (('that', 'DET'), 10), (('prevent', 'VERB'), 1), (('correct', 'ADJ'), 1), (('operation', 'NOUN'), 2), (('computer', 'NOUN'), 9), (('software', 'NOUN'), 13), (('or', 'CCONJ'), 25), (('a', 'DET'), 55), (('system', 'NOUN'), 17), (('.', 'PUNCT'), 79), ((' \\n\\n', 'SPACE'), 1), (('Numerous', 'ADJ'), 1), (('books', 'NOUN'), 1), (('have', 'AUX'), 7), (('been', 'AUX'), 3), (('written', 'VERB'), 1), (('about', 'ADP'), 3), (('debugging', 'VERB'), 9), (('(', 'PUNCT'), 36), (('see', 'VERB'), 5), (('below', 'ADV'), 1), ((':', 'PUNCT'), 17), (('#', 'SYM'), 1), (('Further', 'ADJ'), 1), (('reading|Further', 'NOUN'), 1), (('reading', 'NOUN'), 1), ((')', 'PUNCT'), 30), ((',', 'PUNCT'), 149), (('as', 'SCONJ'), 17), (('it', 'PRON'), 17), (('involves', 'VERB'), 1), (('numerous', 'ADJ'), 1), (('aspects', 'NOUN'), 1), (('including', 'VERB'), 1), (('interactive', 'ADJ'), 2), (('debugging', 'NOUN'), 13), (('control', 'NOUN'), 2), (('flow', 'NOUN'), 2), (('integration', 'NOUN'), 1), (('testing', 'NOUN'), 3), (('Logfile|log', 'ADJ'), 1), (('files', 'NOUN'), 1), (('monitoring', 'VERB'), 1), (('Application', 'PROPN'), 1), (('monitoring|application', 'PROPN'), 1), (('System', 'PROPN'), 1), (('Monitoring|system', 'PROPN'), 1), (('memory', 'NOUN'), 5), (('dumps', 'NOUN'), 1), (('Profiling', 'NOUN'), 1), (('programming)|profiling', 'NOUN'), 1), (('Statistical', 'PROPN'), 1), (('Process', 'PROPN'), 1), (('Control', 'PROPN'), 1), (('special', 'ADJ'), 2), (('design', 'NOUN'), 3), (('tactics', 'NOUN'), 1), (('to', 'PART'), 42), (('improve', 'VERB'), 1), (('detection', 'NOUN'), 2), (('while', 'SCONJ'), 1), (('simplifying', 'VERB'), 1), (('changes', 'NOUN'), 2), (('\\n\\n', 'SPACE'), 17), (('Origin', 'NOUN'), 1), (('\\n', 'SPACE'), 18), (('A', 'DET'), 4), (('log', 'NOUN'), 1), (('entry', 'NOUN'), 2), (('from', 'ADP'), 10), (('Mark&nbsp;II', 'PROPN'), 1), (('with', 'ADP'), 8), (('moth', 'NOUN'), 2), (('taped', 'VERB'), 1), (('to', 'ADP'), 20), (('page', 'NOUN'), 2), (('The', 'DET'), 16), (('terms', 'NOUN'), 2), (('\"', 'PUNCT'), 58), (('bug', 'NOUN'), 9), (('debugging', 'ADJ'), 14), (('are', 'AUX'), 12), (('popularly', 'ADV'), 1), (('attributed', 'VERB'), 1), (('Admiral', 'PROPN'), 1), (('Grace', 'PROPN'), 3), (('Hopper', 'PROPN'), 4), (('in', 'ADP'), 40), (('1940s.[http://foldoc.org', 'NUM'), 1), (('/', 'SYM'), 17), (('Grace+Hopper', 'PROPN'), 1), ((']', 'PUNCT'), 10), ((' ', 'SPACE'), 15), (('FOLDOC', 'PROPN'), 1), (('While', 'SCONJ'), 1), (('she', 'PRON'), 3), (('was', 'AUX'), 8), (('working', 'VERB'), 1), (('on', 'ADP'), 13), (('Harvard', 'PROPN'), 2), (('Mark', 'PROPN'), 1), (('II|Mark', 'PROPN'), 1), (('II', 'PROPN'), 1), (('Computer', 'PROPN'), 3), (('at', 'ADP'), 8), (('University', 'PROPN'), 1), (('her', 'DET'), 1), (('associates', 'NOUN'), 1), (('discovered', 'VERB'), 1), (('stuck', 'VERB'), 1), (('relay', 'NOUN'), 1), (('thereby', 'ADV'), 1), (('impeding', 'VERB'), 1), (('whereupon', 'ADV'), 1), (('remarked', 'VERB'), 2), (('that', 'SCONJ'), 4), (('they', 'PRON'), 5), (('were', 'AUX'), 1), (('However', 'ADV'), 2), (('term', 'NOUN'), 11), (('meaning', 'NOUN'), 1), (('technical', 'ADJ'), 2), (('error', 'NOUN'), 3), (('dates', 'VERB'), 1), (('back', 'ADV'), 1), (('least', 'ADJ'), 1), (('1878', 'NUM'), 1), (('Thomas', 'PROPN'), 1), (('Edison', 'PROPN'), 1), (('for', 'ADP'), 24), (('full', 'ADJ'), 2), (('discussion', 'NOUN'), 2), (('seems', 'VERB'), 1), (('used', 'VERB'), 12), (('aeronautics', 'PROPN'), 1), (('before', 'ADP'), 2), (('entering', 'VERB'), 1), (('world', 'NOUN'), 1), (('computers', 'NOUN'), 1), (('Indeed', 'ADV'), 1), (('an', 'DET'), 6), (('interview', 'NOUN'), 1), (('not', 'PART'), 7), (('coining', 'VERB'), 1), (('term{{Citation', 'NOUN'), 1), (('needed|date', 'PROPN'), 2), (('=', 'SYM'), 8), (('July', 'PROPN'), 1), (('2015', 'NUM'), 1), (('}', 'PUNCT'), 20), (('moth', 'ADJ'), 1), (('fit', 'VERB'), 1), (('already', 'ADV'), 2), (('existing', 'VERB'), 1), (('terminology', 'NOUN'), 1), (('so', 'CCONJ'), 1), (('saved', 'VERB'), 1), (('letter', 'NOUN'), 2), (('J.', 'PROPN'), 3), (('Robert', 'PROPN'), 2), (('Oppenheimer', 'PROPN'), 1), (('director', 'NOUN'), 1), (('WWII', 'PROPN'), 1), (('atomic', 'NOUN'), 1), (('bomb', 'NOUN'), 1), (('Manhattan', 'PROPN'), 1), (('project', 'NOUN'), 1), (('Los', 'PROPN'), 1), (('Alamos', 'PROPN'), 1), (('NM', 'PROPN'), 1), (('Dr.', 'PROPN'), 2), (('Ernest', 'PROPN'), 1), (('Lawrence', 'PROPN'), 1), (('UC', 'PROPN'), 1), (('Berkeley', 'PROPN'), 1), (('dated', 'VERB'), 1), (('October', 'PROPN'), 1), (('27', 'NUM'), 1), (('1944,http://bancroft.berkeley.edu', 'PROPN'), 1), (('Exhibits', 'PROPN'), 1), (('physics', 'NOUN'), 1), (('images', 'NOUN'), 1), (('bigscience25.jpg', 'NOUN'), 1), (('regarding', 'VERB'), 1), (('recruitment', 'NOUN'), 1), (('additional', 'ADJ'), 1), (('staff', 'NOUN'), 1), (('Oxford', 'PROPN'), 1), (('English', 'PROPN'), 1), (('Dictionary', 'PROPN'), 1), (('debug', 'PROPN'), 2), (('quotes', 'VERB'), 1), (('reference', 'NOUN'), 2), (('airplane', 'NOUN'), 1), (('engine', 'NOUN'), 1), (('1945', 'NUM'), 2), (('article', 'NOUN'), 5), (('Journal', 'PROPN'), 2), (('Royal', 'PROPN'), 2), (('Aeronautical', 'PROPN'), 1), (('Society', 'PROPN'), 2), (('An', 'DET'), 3), (('Airforce', 'PROPN'), 1), (('June', 'PROPN'), 1), (('p.&nbsp;50', 'PROPN'), 1), (('also', 'ADV'), 5), (('refers', 'VERB'), 1), (('this', 'DET'), 4), (('time', 'NOUN'), 3), (('aircraft', 'NOUN'), 1), (('cameras', 'NOUN'), 1), ((\"'s\", 'PART'), 4), (('bug|bug', 'NOUN'), 1), (('found', 'VERB'), 1), (('September', 'PROPN'), 1), (('9', 'NUM'), 1), (('1947', 'NUM'), 1), (('adopted', 'VERB'), 1), (('by', 'ADP'), 12), (('programmers', 'NOUN'), 1), (('until', 'ADP'), 2), (('early', 'ADJ'), 4), (('1950s', 'NOUN'), 1), (('seminal', 'ADJ'), 1), (('GillS.', 'PROPN'), 1), (('Gill', 'PROPN'), 1), (('[', 'PUNCT'), 5), (('http://www.jstor.org/stable/98663', 'VERB'), 1), (('Diagnosis', 'PROPN'), 1), (('Mistakes', 'PROPN'), 1), (('Programmes', 'NOUN'), 1), (('EDSAC', 'PROPN'), 1), (('Proceedings', 'NOUN'), 4), (('London', 'PROPN'), 1), (('Series', 'PROPN'), 2), (('A', 'PROPN'), 1), (('Mathematical', 'PROPN'), 1), (('Physical', 'PROPN'), 1), (('Sciences', 'PROPN'), 1), (('Vol', 'PROPN'), 1), (('.', 'PROPN'), 2), (('206', 'NUM'), 1), (('No', 'NOUN'), 1), (('.', 'NOUN'), 1), (('1087', 'NUM'), 1), (('May', 'PROPN'), 1), (('22', 'NUM'), 1), (('1951', 'NUM'), 2), (('pp', 'PROPN'), 1), (('538', 'NUM'), 1), (('-', 'SYM'), 4), (('554', 'NUM'), 1), (('earliest', 'ADJ'), 1), (('-', 'PUNCT'), 44), (('depth', 'NOUN'), 1), (('programming', 'NOUN'), 7), (('errors', 'NOUN'), 5), (('but', 'CCONJ'), 5), (('does', 'AUX'), 4), (('use', 'VERB'), 2), (('In', 'ADP'), 6), (('Association', 'PROPN'), 1), (('Computing', 'PROPN'), 2), (('Machinery|ACM', 'PROPN'), 1), (('digital', 'ADJ'), 2), (('library', 'NOUN'), 1), (('first', 'ADV'), 1), (('three', 'NUM'), 2), (('papers', 'NOUN'), 1), (('1952', 'NUM'), 4), (('ACM', 'PROPN'), 5), (('National', 'PROPN'), 1), (('Meetings', 'PROPN'), 1), (('V.', 'PROPN'), 1), (('D.', 'PROPN'), 1), (('Campbell', 'PROPN'), 1), (('http://portal.acm.org/citation.cfm?id=609784.609786', 'NUM'), 1), (('Evolution', 'NOUN'), 1), (('automatic', 'ADJ'), 1), (('computation', 'NOUN'), 1), (('national', 'ADJ'), 3), (('meeting', 'NOUN'), 3), (('Pittsburgh', 'PROPN'), 2), (('p', 'PROPN'), 1), (('29', 'NUM'), 1), (('32', 'NUM'), 1), (('1952.Alex', 'NUM'), 1), (('Orden', 'PROPN'), 1), (('http://portal.acm.org/citation.cfm?id=609784.609793', 'NUM'), 1), (('Solution', 'NOUN'), 1), (('systems', 'NOUN'), 6), (('linear', 'ADJ'), 1), (('inequalities', 'NOUN'), 1), (('p.', 'NOUN'), 2), (('91', 'NUM'), 1), (('95', 'NUM'), 1), (('1952.Howard', 'PROPN'), 1), (('B.', 'PROPN'), 2), (('Demuth', 'PROPN'), 1), (('John', 'PROPN'), 1), (('Jackson', 'PROPN'), 1), (('Edmund', 'PROPN'), 1), (('Klein', 'PROPN'), 1), (('N.', 'PROPN'), 1), (('Metropolis', 'PROPN'), 1), (('Walter', 'PROPN'), 1), (('Orvedahl', 'PROPN'), 1), (('James', 'PROPN'), 1), (('H.', 'PROPN'), 1), (('Richardson', 'PROPN'), 1), (('http://portal.acm.org/citation.cfm?id=800259.808982', 'PROPN'), 1), (('MANIAC', 'PROPN'), 1), (('Toronto', 'PROPN'), 1), (('13', 'NUM'), 1), (('16', 'NUM'), 1), (('Two', 'NUM'), 1), (('use', 'NOUN'), 2), (('quotation', 'NOUN'), 1), (('marks', 'NOUN'), 1), (('By', 'ADP'), 1), (('1963', 'NUM'), 2), (('common', 'ADJ'), 3), (('enough', 'ADJ'), 1), (('be', 'AUX'), 24), (('mentioned', 'VERB'), 1), (('passing', 'VERB'), 1), (('without', 'ADP'), 1), (('explanation', 'NOUN'), 1), (('1', 'NUM'), 2), (('Compatible', 'ADJ'), 2), (('Time', 'PROPN'), 2), (('Sharing', 'VERB'), 1), (('System|CTSS', 'ADJ'), 1), (('manual.[http://www.bitsavers.org', 'NOUN'), 1), (('pdf', 'PROPN'), 1), (('mit', 'PROPN'), 1), (('ctss', 'PROPN'), 1), (('CTSS_ProgrammersGuide.pdf', 'PROPN'), 1), (('Sharing', 'PROPN'), 1), (('System', 'NOUN'), 1), (('M.I.T.', 'PROPN'), 1), (('Press', 'PROPN'), 1), (('Kidwell', 'PROPN'), 2), (('Stalking', 'VERB'), 2), (('Elusive', 'PROPN'), 2), ((\"Bug''Peggy\", 'PUNCT'), 1), (('Aldrich', 'PROPN'), 1), (('http://ieeexplore.ieee.org/xpl/freeabs_all.jsp?tp=&arnumber=728224&isnumber=15706', 'PROPN'), 1), (('Bug', 'PROPN'), 1), (('IEEE', 'PROPN'), 1), (('Annals', 'PROPN'), 1), (('History', 'NOUN'), 1), (('1998', 'NUM'), 1), (('discusses', 'VERB'), 1), (('etymology', 'NOUN'), 1), (('debug', 'NOUN'), 1), (('greater', 'ADJ'), 1), (('detail', 'NOUN'), 1), (('Scope', 'NOUN'), 1), (('As', 'SCONJ'), 2), (('electronic', 'ADJ'), 2), (('become', 'VERB'), 1), (('generally', 'ADV'), 1), (('more', 'ADV'), 4), (('complex', 'ADJ'), 1), (('various', 'ADJ'), 3), (('techniques', 'NOUN'), 5), (('expanded', 'VERB'), 1), (('more', 'ADJ'), 2), (('methods', 'NOUN'), 1), (('detect', 'VERB'), 2), (('anomalies', 'NOUN'), 3), (('assess', 'NOUN'), 1), (('impact', 'NOUN'), 4), (('schedule', 'NOUN'), 1), (('patches', 'NOUN'), 1), (('updates', 'NOUN'), 2), (('words', 'NOUN'), 2), (('anomaly', 'X'), 1), (('discrepancy', 'NOUN'), 2), (('can', 'VERB'), 17), (('being', 'AUX'), 1), (('neutral', 'ADJ'), 1), (('avoid', 'VERB'), 3), (('defect', 'VERB'), 1), (('where', 'ADV'), 7), (('there', 'PRON'), 1), (('might', 'VERB'), 4), (('implication', 'NOUN'), 1), (('all', 'DET'), 3), (('so', 'ADV'), 1), (('called', 'VERB'), 2), (('bugs', 'NOUN'), 6), (('must', 'VERB'), 1), (('fixed', 'VERB'), 1), (('costs', 'NOUN'), 1), (('Instead', 'ADV'), 1), (('assessment', 'NOUN'), 2), (('made', 'VERB'), 3), (('determine', 'VERB'), 4), (('if', 'SCONJ'), 5), (('remove', 'VERB'), 2), (('anomaly', 'PROPN'), 1), (('would', 'VERB'), 6), (('cost', 'NOUN'), 2), (('effective', 'ADJ'), 1), (('perhaps', 'ADV'), 1), (('scheduled', 'VERB'), 1), (('new', 'ADJ'), 1), (('release', 'NOUN'), 1), (('render', 'VERB'), 1), (('change(s', 'PROPN'), 1), (('unnecessary', 'ADJ'), 1), (('Not', 'PART'), 2), (('issues', 'NOUN'), 3), (('life', 'NOUN'), 2), (('critical', 'ADJ'), 2), (('mission', 'NOUN'), 1), (('Also', 'ADV'), 2), (('important', 'ADJ'), 2), (('situation', 'NOUN'), 1), (('change', 'NOUN'), 1), (('upsetting', 'ADJ'), 1), (('users', 'NOUN'), 1), (('long', 'ADJ'), 1), (('than', 'SCONJ'), 2), (('living', 'VERB'), 1), (('known', 'VERB'), 2), (('problem(s', 'PROPN'), 2), (('cure', 'NOUN'), 1), (('worse', 'ADJ'), 1), (('disease', 'NOUN'), 1), (('Basing', 'VERB'), 1), (('decisions', 'NOUN'), 1), (('acceptability', 'NOUN'), 1), (('some', 'DET'), 8), (('culture', 'NOUN'), 1), (('zero', 'NUM'), 2), (('mandate', 'NOUN'), 1), (('people', 'NOUN'), 1), (('tempted', 'VERB'), 1), (('deny', 'VERB'), 1), (('existence', 'NOUN'), 2), (('problems', 'NOUN'), 5), (('so', 'SCONJ'), 1), (('result', 'NOUN'), 2), (('appear', 'VERB'), 2), (('Considering', 'VERB'), 1), (('collateral', 'ADJ'), 1), (('such', 'ADJ'), 10), (('versus', 'ADP'), 2), (('benefit', 'NOUN'), 1), (('then', 'ADV'), 3), (('broader', 'ADV'), 1), (('will', 'VERB'), 2), (('expand', 'VERB'), 1), (('frequency', 'NOUN'), 1), (('how', 'ADV'), 2), (('often', 'ADV'), 4), (('same', 'ADJ'), 2), (('occur', 'VERB'), 1), (('help', 'VERB'), 1), (('assess', 'VERB'), 1), (('their', 'DET'), 2), (('overall', 'ADJ'), 1), (('Tools', 'NOUN'), 1), (('video', 'NOUN'), 1), (('game', 'NOUN'), 1), (('consoles', 'NOUN'), 1), (('usually', 'ADV'), 1), (('done', 'VERB'), 1), (('hardware', 'NOUN'), 5), (('Xbox', 'PROPN'), 1), (('console)|Xbox', 'PROPN'), 1), (('unit', 'NOUN'), 1), (('intended', 'VERB'), 1), (('developers', 'NOUN'), 3), (('ranges', 'NOUN'), 1), (('complexity', 'NOUN'), 2), (('fixing', 'VERB'), 1), (('simple', 'ADJ'), 3), (('performing', 'VERB'), 1), (('lengthy', 'ADJ'), 1), (('tiresome', 'VERB'), 1), (('tasks', 'NOUN'), 3), (('data', 'NOUN'), 2), (('collection', 'NOUN'), 1), (('analysis', 'NOUN'), 3), (('scheduling', 'NOUN'), 1), (('skill', 'NOUN'), 1), (('programmer', 'NOUN'), 5), (('major', 'ADJ'), 1), (('factor', 'NOUN'), 1), (('ability', 'NOUN'), 1), (('debug', 'VERB'), 2), (('problem', 'NOUN'), 8), (('difficulty', 'NOUN'), 1), (('varies', 'NOUN'), 1), (('greatly', 'ADV'), 1), (('depends', 'VERB'), 1), (('extent', 'NOUN'), 1), (('language(s', 'PROPN'), 1), (('available', 'ADJ'), 2), (('tools', 'NOUN'), 13), (('debuggers', 'NOUN'), 1), (('Debuggers', 'NOUN'), 1), (('which', 'DET'), 7), (('enable', 'VERB'), 1), (('monitor', 'VERB'), 1), (('execution', 'NOUN'), 4), (('computers)|execution', 'NOUN'), 1), (('program', 'NOUN'), 10), (('stop', 'VERB'), 1), (('restart', 'VERB'), 1), (('set', 'NOUN'), 2), (('breakpoints', 'NOUN'), 3), (('change', 'VERB'), 1), (('values', 'NOUN'), 3), (('debugger', 'NOUN'), 11), (('refer', 'VERB'), 1), (('person', 'NOUN'), 1), (('who', 'PRON'), 1), (('doing', 'VERB'), 1), (('Generally', 'ADV'), 1), (('high', 'ADJ'), 1), (('level', 'NOUN'), 3), (('languages', 'NOUN'), 3), (('Java', 'PROPN'), 1), (('language)|Java', 'NOUN'), 1), (('make', 'VERB'), 6), (('easier', 'ADJ'), 3), (('because', 'SCONJ'), 1), (('features', 'NOUN'), 1), (('exception', 'NOUN'), 2), (('handling', 'NOUN'), 2), (('real', 'ADJ'), 2), (('sources', 'NOUN'), 1), (('erratic', 'ADJ'), 1), (('behaviour', 'NOUN'), 1), (('spot', 'VERB'), 1), (('programming', 'VERB'), 1), (('C', 'PROPN'), 1), (('language)|C', 'NOUN'), 1), (('assembly', 'NOUN'), 1), (('language|assembly', 'ADV'), 1), (('may', 'VERB'), 5), (('cause', 'VERB'), 1), (('silent', 'ADJ'), 1), (('corruption', 'NOUN'), 1), (('difficult', 'ADJ'), 2), (('initial', 'ADJ'), 1), (('happened', 'VERB'), 1), (('those', 'DET'), 1), (('cases', 'NOUN'), 2), (('debugging|memory', 'NOUN'), 1), (('needed', 'VERB'), 2), (('certain', 'ADJ'), 2), (('situations', 'NOUN'), 1), (('general', 'ADJ'), 3), (('purpose', 'NOUN'), 3), (('language', 'NOUN'), 3), (('specific', 'ADJ'), 3), (('nature', 'NOUN'), 1), (('very', 'ADV'), 4), (('useful', 'ADJ'), 3), (('These', 'DET'), 3), (('take', 'VERB'), 1), (('form', 'NOUN'), 1), (('List', 'NOUN'), 1), (('static', 'ADJ'), 1), (('code', 'NOUN'), 8), (('analysis|static', 'PROPN'), 1), (('look', 'VERB'), 1), (('rare', 'ADJ'), 1), (('within', 'ADP'), 3), (('source', 'NOUN'), 4), (('All', 'DET'), 1), (('detected', 'VERB'), 3), (('these', 'DET'), 3), (('rarely', 'ADV'), 1), (('picked', 'VERB'), 1), (('up', 'ADP'), 1), (('compiler', 'NOUN'), 2), (('interpreter', 'NOUN'), 1), (('thus', 'ADV'), 1), (('syntax', 'NOUN'), 1), (('checkers', 'NOUN'), 2), (('semantic', 'ADJ'), 1), (('Some', 'DET'), 1), (('claim', 'VERB'), 1), (('able', 'ADJ'), 1), (('300', 'NUM'), 1), (('+', 'CCONJ'), 1), (('unique', 'ADJ'), 1), (('Both', 'CCONJ'), 1), (('commercial', 'ADJ'), 1), (('free', 'ADJ'), 1), (('exist', 'VERB'), 2), (('extremely', 'ADV'), 1), (('when', 'ADV'), 4), (('checking', 'VERB'), 2), (('large', 'ADJ'), 2), (('trees', 'NOUN'), 1), (('impractical', 'ADJ'), 1), (('do', 'AUX'), 2), (('walkthroughs', 'NOUN'), 1), (('typical', 'ADJ'), 2), (('example', 'NOUN'), 7), (('variable', 'ADJ'), 1), (('dereference', 'NOUN'), 1), (('occurs', 'VERB'), 1), (('variable', 'NOUN'), 1), (('assigned', 'VERB'), 1), (('value', 'NOUN'), 1), (('Another', 'DET'), 1), (('perform', 'VERB'), 2), (('strong', 'ADJ'), 1), (('type', 'NOUN'), 1), (('require', 'VERB'), 1), (('Thus', 'ADV'), 1), (('better', 'ADJ'), 1), (('locating', 'VERB'), 1), (('likely', 'ADJ'), 1), (('actual', 'ADJ'), 1), (('reputation', 'NOUN'), 1), (('false', 'ADJ'), 1), (('positives', 'NOUN'), 1), (('old', 'ADJ'), 1), (('Unix', 'PROPN'), 1), (('Lint', 'PROPN'), 1), (('tool|lint', 'PROPN'), 1), (('For', 'ADP'), 2), (('e.g.', 'ADV'), 4), (('as', 'ADV'), 2), (('well', 'ADV'), 2), (('low', 'ADJ'), 2), (('BIOSes', 'PROPN'), 1), (('device', 'NOUN'), 1), (('drivers', 'NOUN'), 1), (('firmware', 'NOUN'), 2), (('instruments', 'NOUN'), 1), (('oscilloscopes', 'NOUN'), 1), (('logic', 'NOUN'), 1), (('analyzers', 'NOUN'), 1), (('circuit', 'NOUN'), 2), (('emulator|in', 'ADJ'), 1), (('emulators', 'NOUN'), 1), (('ICEs', 'PROPN'), 1), (('alone', 'ADV'), 1), (('combination', 'NOUN'), 1), (('ICE', 'PROPN'), 1), (('many', 'ADJ'), 1), (('Normally', 'ADV'), 1), (('first', 'ADJ'), 1), (('step', 'NOUN'), 1), (('attempt', 'VERB'), 1), (('reproduce', 'VERB'), 3), (('This', 'DET'), 4), (('non', 'ADJ'), 1), (('-', 'ADJ'), 8), (('trivial', 'ADJ'), 1), (('task', 'NOUN'), 2), (('Parallel', 'PROPN'), 1), (('computing|parallel', 'PROPN'), 1), (('processes', 'NOUN'), 1), (('unusual', 'ADJ'), 1), (('user', 'NOUN'), 5), (('environment', 'NOUN'), 2), (('usage', 'NOUN'), 1), (('history', 'NOUN'), 1), (('After', 'ADP'), 2), (('reproduced', 'VERB'), 1), (('input', 'NOUN'), 1), (('need', 'VERB'), 1), (('simplified', 'VERB'), 2), (('Crash', 'PROPN'), 2), (('computing)|crash', 'NOUN'), 1), (('parsing', 'VERB'), 1), (('file', 'NOUN'), 2), (('after', 'ADP'), 3), (('simplification', 'NOUN'), 3), (('test', 'NOUN'), 5), (('case', 'NOUN'), 4), (('only', 'ADV'), 3), (('few', 'ADJ'), 2), (('lines', 'NOUN'), 1), (('original', 'ADJ'), 4), (('sufficient', 'ADJ'), 2), (('crash', 'NOUN'), 1), (('Such', 'ADJ'), 1), (('manually', 'ADV'), 2), (('using', 'VERB'), 3), (('Divide', 'PROPN'), 1), (('conquer', 'VERB'), 1), (('algorithm|divide', 'NOUN'), 1), (('conquer', 'NOUN'), 1), (('approach', 'NOUN'), 1), (('try', 'VERB'), 2), (('parts', 'NOUN'), 2), (('check', 'VERB'), 8), (('still', 'ADV'), 1), (('exists', 'VERB'), 1), (('When', 'ADV'), 1), (('Graphical', 'PROPN'), 1), (('interface|GUI', 'PROPN'), 1), (('skip', 'VERB'), 1), (('interaction', 'NOUN'), 1), (('description', 'NOUN'), 1), (('remaining', 'ADJ'), 1), (('actions', 'NOUN'), 1), (('sufficiently', 'ADV'), 1), (('tool', 'NOUN'), 1), (('examine', 'VERB'), 1), (('states', 'NOUN'), 2), (('variables', 'NOUN'), 2), (('plus', 'CCONJ'), 1), (('call', 'NOUN'), 1), (('stack', 'NOUN'), 1), (('track', 'VERB'), 1), (('down', 'ADP'), 2), (('origin', 'NOUN'), 1), (('Alternatively', 'ADV'), 1), (('Tracing', 'VERB'), 1), (('software)|tracing', 'NOUN'), 1), (('tracing', 'VERB'), 2), (('just', 'ADV'), 1), (('print', 'NOUN'), 2), (('statements', 'NOUN'), 3), (('output', 'VERB'), 1), (('points', 'NOUN'), 1), (('execution.{{citation', 'PROPN'), 1), (('February', 'PROPN'), 1), (('2016', 'NUM'), 1), (('\\n\\n ', 'SPACE'), 1), (('Techniques', 'PROPN'), 1), (('\\n ', 'SPACE'), 7), (('Interactive', 'ADJ'), 1), (('{', 'PUNCT'), 4), (('visible', 'ADJ'), 2), (('anchor|Print', 'NOUN'), 1), (('act', 'NOUN'), 1), (('watching', 'VERB'), 1), (('live', 'VERB'), 1), (('recorded', 'VERB'), 1), (('trace', 'NOUN'), 1), (('indicate', 'VERB'), 1), (('sometimes', 'ADV'), 1), (('anchor|printf', 'NOUN'), 1), (('due', 'ADP'), 2), (('printf', 'ADJ'), 1), (('function', 'NOUN'), 1), (('C.', 'PROPN'), 1), (('kind', 'NOUN'), 1), (('turned', 'VERB'), 1), (('command', 'NOUN'), 3), (('TRON', 'NOUN'), 1), (('versions', 'NOUN'), 2), (('novice', 'ADV'), 1), (('oriented', 'VERB'), 1), (('BASIC', 'ADJ'), 2), (('TRON', 'PROPN'), 2), (('stood', 'VERB'), 1), (('Trace', 'VERB'), 1), (('On', 'ADP'), 1), (('caused', 'VERB'), 2), (('line', 'NOUN'), 2), (('numbers', 'NOUN'), 1), (('each', 'DET'), 1), (('print', 'VERB'), 1), (('ran', 'VERB'), 1), (('Remote', 'ADJ'), 1), (('running', 'VERB'), 1), (('different', 'ADJ'), 4), (('To', 'PART'), 1), (('start', 'VERB'), 1), (('remote', 'ADJ'), 3), (('connects', 'VERB'), 1), (('over', 'ADP'), 1), (('network', 'NOUN'), 1), (('control', 'VERB'), 1), (('retrieve', 'VERB'), 1), (('information', 'NOUN'), 3), (('its', 'DET'), 3), (('state', 'NOUN'), 2), (('Post', 'NOUN'), 1), (('mortem', 'ADJ'), 1), (('has', 'AUX'), 2), (('computing)|crashed', 'VERB'), 1), (('Related', 'ADJ'), 1), (('include', 'VERB'), 2), (('tracing', 'NOUN'), 1), (('example,[http://www.drdobbs.com', 'X'), 1), (('tools/185300443', 'NOUN'), 1), (('Postmortem', 'PROPN'), 1), (('Debugging', 'PROPN'), 3), (('Stephen', 'PROPN'), 2), (('Wormuller', 'PROPN'), 1), (('Dobbs', 'PROPN'), 1), (('2006', 'NUM'), 1), (('and/or', 'CCONJ'), 1), (('dump', 'NOUN'), 3), (('core', 'NOUN'), 1), (('crashed', 'VERB'), 1), (('could', 'VERB'), 1), (('obtained', 'VERB'), 1), (('automatically', 'ADV'), 1), (('terminated', 'VERB'), 1), (('unhandled', 'ADJ'), 1), (('programmer', 'ADJ'), 1), (('inserted', 'VERB'), 1), (('instruction', 'NOUN'), 1), (('Wolf', 'PROPN'), 2), (('fence', 'NOUN'), 3), (('algorithm', 'NOUN'), 3), (('Edward', 'PROPN'), 1), (('Gauss', 'PROPN'), 2), (('described', 'VERB'), 1), (('now', 'ADV'), 1), (('famous', 'ADJ'), 1), (('1982', 'NUM'), 1), (('communications', 'NOUN'), 1), (('follows', 'VERB'), 1), (('There', 'PRON'), 1), ((\"'s\", 'AUX'), 1), (('one', 'NUM'), 2), (('wolf', 'NOUN'), 3), (('Alaska', 'PROPN'), 1), ((';', 'PUNCT'), 2), (('you', 'PRON'), 3), (('find', 'VERB'), 2), (('?', 'PUNCT'), 1), (('First', 'ADV'), 1), (('build', 'VERB'), 1), (('middle', 'NOUN'), 1), (('wait', 'VERB'), 1), (('howl', 'NOUN'), 1), (('side', 'NOUN'), 2), (('Repeat', 'VERB'), 1), (('get', 'VERB'), 1), (('point', 'NOUN'), 1), (('\"<ref', 'ADJ'), 1), (('name=\"communications', 'NOUN'), 1), (('ACM\">{{cite', 'PROPN'), 1), (('journal', 'NOUN'), 1), (('|', 'PROPN'), 9), (('title=\"Pracniques', 'NOUN'), 1), (('Fence', 'PROPN'), 1), (('Algorithm', 'PROPN'), 1), (('author', 'NOUN'), 2), (('=', 'PUNCT'), 3), (('E.', 'PROPN'), 1), (('year=1982', 'PROPN'), 1), (('implemented', 'VERB'), 1), (('Git', 'PROPN'), 1), (('software)|Git', 'NUM'), 1), (('version', 'NOUN'), 1), (('git', 'PROPN'), 1), (('bisect', 'PROPN'), 1), (('uses', 'VERB'), 1), (('above', 'ADJ'), 1), (('Commit', 'PROPN'), 1), (('management)|commit', 'PROPN'), 1), (('introduced', 'VERB'), 1), (('particular', 'ADJ'), 1), (('Delta', 'PROPN'), 1), ((\"Debugging''{{snd\", 'NUM'), 1), (('technique', 'NOUN'), 2), (('automating', 'VERB'), 1), (('Andreas', 'PROPN'), 1), (('Zeller', 'PROPN'), 1), (('<', 'X'), 3), (('cite', 'VERB'), 1), (('>', 'X'), 4), (('Why', 'ADV'), 1), (('Programs', 'NOUN'), 1), (('Fail', 'VERB'), 1), (('Guide', 'NOUN'), 1), (('Systematic', 'ADJ'), 1), (('Debugging</cite', 'NOUN'), 1), (('Morgan', 'PROPN'), 1), (('Kaufmann', 'PROPN'), 1), (('2005', 'NUM'), 1), (('ISBN', 'PROPN'), 1), (('55860', 'NUM'), 1), (('866', 'NUM'), 1), (('4{{rp|p.123}}<!--', 'NUM'), 1), (('redirect', 'NOUN'), 1), (('Saff', 'PROPN'), 3), (('Squeeze', 'PROPN'), 2), (('--', 'PUNCT'), 2), ((\"Squeeze''{{snd\", 'NUM'), 1), (('isolating', 'VERB'), 1), (('failure', 'NOUN'), 1), (('progressive', 'ADJ'), 1), (('inlining', 'NOUN'), 1), (('failing', 'VERB'), 1), (('test.[http://www.threeriversinstitute.org', 'NOUN'), 1), (('HitEmHighHitEmLow.html', 'PROPN'), 1), (('Kent', 'PROPN'), 1), (('Beck', 'PROPN'), 1), (('Hit', 'PROPN'), 1), ((\"'em\", 'PRON'), 2), (('High', 'ADJ'), 1), (('Hit', 'VERB'), 1), (('Low', 'ADJ'), 1), (('Regression', 'NOUN'), 1), (('Testing', 'NOUN'), 1), (('embedded', 'ADJ'), 1), (('contrast', 'NOUN'), 1), (('primary', 'ADJ'), 1), (('characteristic', 'NOUN'), 1), (('embedded', 'VERB'), 2), (('environments', 'NOUN'), 1), (('sheer', 'ADJ'), 1), (('number', 'NOUN'), 1), (('platforms', 'NOUN'), 2), (('CPU', 'PROPN'), 2), (('architectures', 'NOUN'), 1), (('vendors', 'NOUN'), 1), (('operating', 'VERB'), 2), (('variants', 'NOUN'), 1), (('Embedded', 'VERB'), 1), (('definition', 'NOUN'), 1), (('designs', 'NOUN'), 1), (('typically', 'ADV'), 1), (('developed', 'VERB'), 1), (('single', 'ADJ'), 1), (('small', 'ADJ'), 1), (('range', 'NOUN'), 1), (('platform', 'NOUN'), 1), (('chosen', 'VERB'), 1), (('specifically', 'ADV'), 1), (('optimize', 'VERB'), 2), (('application', 'NOUN'), 1), (('fact', 'NOUN'), 1), (('tough', 'ADJ'), 1), (('makes', 'VERB'), 1), (('harder', 'ADV'), 1), (('since', 'SCONJ'), 1), (('identify', 'VERB'), 1), (('fix', 'VERB'), 1), (('logical', 'ADJ'), 1), (('synchronization', 'NOUN'), 1), (('collect', 'VERB'), 1), (('analyze', 'VERB'), 1), (('ways', 'NOUN'), 1), (('boost', 'VERB'), 1), (('performance', 'NOUN'), 1), (('other', 'ADJ'), 1), (('characteristics', 'NOUN'), 1), (('e.g.', 'PROPN'), 1), (('energy', 'NOUN'), 1), (('consumption', 'NOUN'), 1), (('reliability', 'NOUN'), 1), (('response', 'NOUN'), 1), (('etc', 'X'), 1), (('Anti', 'ADJ'), 3), (('implementation', 'NOUN'), 1), (('hinders', 'VERB'), 1), (('attempts', 'VERB'), 1), (('reverse', 'ADJ'), 1), (('engineering', 'NOUN'), 1), (('target', 'NOUN'), 1), (('process\".<ref', 'PROPN'), 1), (('name=\"veracode', 'X'), 1), (('antidebugging\">{{cite', 'X'), 1), (('web', 'NOUN'), 2), (('|url', 'NOUN'), 1), (('=', 'NOUN'), 1), (('http://www.veracode.com', 'X'), 1), (('blog/2008/12', 'ADJ'), 1), (('anti', 'ADJ'), 3), (('series', 'NOUN'), 1), (('part', 'NOUN'), 1), (('i/', 'PROPN'), 1), (('|title', 'NUM'), 1), (('Part', 'PROPN'), 1), (('I', 'PRON'), 1), (('|last', 'PUNCT'), 1), (('Shields', 'NOUN'), 1), (('|first', 'NUM'), 1), (('Tyler', 'PROPN'), 1), (('|date=2008', 'PROPN'), 1), (('12', 'NUM'), 1), (('02', 'NUM'), 1), (('|work', 'NUM'), 1), (('Veracode', 'PROPN'), 1), (('|accessdate=2009', 'PROPN'), 1), (('03', 'NUM'), 1), (('17', 'NUM'), 1), (('It', 'PRON'), 1), (('actively', 'ADV'), 1), (('recognized', 'VERB'), 1), (('publishers', 'NOUN'), 1), (('copy', 'ADJ'), 1), (('protection|copy', 'PROPN'), 1), (('protection', 'NOUN'), 1), (('schemas', 'NOUN'), 1), (('malware', 'PROPN'), 1), (('complicate', 'VERB'), 1), (('elimination.<ref', 'ADJ'), 1), (('name=\"soft', 'PROPN'), 2), (('prot\">[http://people.seas.harvard.edu/~mgagnon', 'PROPN'), 1), (('software_protection_through_anti_debugging.pdf', 'VERB'), 1), (('Software', 'PROPN'), 1), (('Protection', 'PROPN'), 1), (('through', 'ADP'), 1), (('Anti', 'PROPN'), 1), (('Debugging', 'ADJ'), 1), (('Michael', 'PROPN'), 1), (('N', 'PROPN'), 1), (('Gagnon', 'PROPN'), 1), (('Taylor', 'PROPN'), 1), (('Anup', 'PROPN'), 1), (('Ghosh', 'PROPN'), 1), (('Techniques', 'NOUN'), 1), (('API', 'PROPN'), 1), (('based', 'VERB'), 3), (('Exception', 'NOUN'), 1), (('exceptions', 'NOUN'), 1), (('interfered', 'VERB'), 1), (('Process', 'NOUN'), 1), (('thread', 'NOUN'), 2), (('blocks', 'NOUN'), 2), (('whether', 'SCONJ'), 1), (('manipulated', 'VERB'), 1), (('Modified', 'VERB'), 1), (('modifications', 'NOUN'), 1), (('Hardware-', 'PROPN'), 1), (('register', 'NOUN'), 1), (('registers', 'VERB'), 1), (('Timing', 'PROPN'), 1), (('latency', 'NOUN'), 1), (('taken', 'VERB'), 1), (('instructions', 'NOUN'), 1), (('Detecting', 'PROPN'), 1), (('penalizing', 'VERB'), 1), (('ref', 'PROPN'), 2), (('prot', 'PROPN'), 1), (('/><!--', 'PROPN'), 1), (('existed', 'VERB'), 1), (('Microsoft', 'PROPN'), 2), (('Word', 'PROPN'), 2), (('produced', 'VERB'), 1), (('message', 'NOUN'), 1), (('said', 'VERB'), 1), (('tree', 'NOUN'), 1), (('evil', 'ADJ'), 1), (('bears', 'VERB'), 1), (('bitter', 'ADJ'), 1), (('fruit', 'NOUN'), 1), (('Now', 'ADV'), 1), (('trashing', 'VERB'), 1), (('disk', 'NOUN'), 2), (('floppy', 'ADJ'), 1), (('drive', 'NOUN'), 1), (('emit', 'VERB'), 1), (('alarming', 'VERB'), 1), (('noises', 'NOUN'), 1), (('intent', 'NOUN'), 1), (('scaring', 'VERB'), 1), (('away', 'ADV'), 1), (('attempting', 'VERB'), 1), (('again.<ref', 'ADJ'), 1), (('name=\"SecurityEngineeringRA\">{{cite', 'PROPN'), 1), (('book', 'NOUN'), 1), (('url', 'PROPN'), 2), (('=', 'X'), 2), (('http://www.cl.cam.ac.uk/~rja14', 'PROPN'), 1), (('book.html', 'PROPN'), 1), (('Ross', 'PROPN'), 1), (('Anderson', 'PROPN'), 1), (('title', 'NOUN'), 2), (('Security', 'PROPN'), 1), (('Engineering', 'PROPN'), 1), (('isbn', 'ADV'), 1), (('0', 'NUM'), 1), (('471', 'NUM'), 1), (('38922', 'NUM'), 1), (('6', 'NUM'), 1), (('|', 'NUM'), 1), (('page=684', 'NUM'), 1), (('name=\"toastytech\">{{cite', 'PROPN'), 1), (('http://toastytech.com', 'X'), 1), (('guis', 'PROPN'), 1), (('word1153.html', 'PROPN'), 1), (('DOS', 'PROPN'), 1), (('1.15', 'NUM'), 1)])\n"
     ]
    }
   ],
   "source": [
    "from collections import Counter\n",
    "\n",
    "count = Counter(poses)\n",
    "print(count.items())"
   ]
  },
  {
   "cell_type": "code",
   "execution_count": 83,
   "metadata": {
    "ExecuteTime": {
     "end_time": "2020-04-25T17:27:42.257770Z",
     "start_time": "2020-04-25T17:27:42.242158Z"
    }
   },
   "outputs": [
    {
     "name": "stdout",
     "output_type": "stream",
     "text": [
      "Debugging is the process of finding and resolving of defects that prevent correct operation of computer software or a system Numerous books have been written about debugging see below # Further reading|Further reading as it involves numerous aspects including interactive debugging control flow integration testing Logfile|log files monitoring Application monitoring|application System Monitoring|system memory dumps Profiling computer programming)|profiling Statistical Process Control and special design tactics to improve detection while simplifying changes Origin A computer log entry from the Mark&nbsp;II with a moth taped to the page The terms bug and debugging are popularly attributed to Admiral Grace Hopper in the 1940s.[http://foldoc.org / Grace+Hopper Grace Hopper from FOLDOC While she was working on a Harvard Mark II|Mark II Computer at Harvard University her associates discovered a moth stuck in a relay and thereby impeding operation whereupon she remarked that they were debugging the system However the term bug in the meaning of technical error dates back at least to 1878 and Thomas Edison see software bug for a full discussion and debugging seems to have been used as a term in aeronautics before entering the world of computers Indeed in an interview Grace Hopper remarked that she was not coining the term{{Citation needed|date = July 2015 The moth fit the already existing terminology so it was saved A letter from J. Robert Oppenheimer director of the WWII atomic bomb Manhattan project at Los Alamos NM used the term in a letter to Dr. Ernest Lawrence at UC Berkeley dated October 27 1944,http://bancroft.berkeley.edu / Exhibits / physics / images / bigscience25.jpg regarding the recruitment of additional technical staff The Oxford English Dictionary entry for debug quotes the term debugging used in reference to airplane engine testing in a 1945 article in the Journal of the Royal Aeronautical Society An article in Airforce June 1945 p.&nbsp;50 also refers to debugging this time of aircraft cameras Hopper 's computer bug|bug was found on September 9 1947 The term was not adopted by computer programmers until the early 1950s The seminal article by GillS. Gill http://www.jstor.org/stable/98663 The Diagnosis of Mistakes in Programmes on the EDSAC Proceedings of the Royal Society of London Series A Mathematical and Physical Sciences Vol . 206 No . 1087 May 22 1951 pp . 538 - 554 in 1951 is the earliest in depth discussion of programming errors but it does not use the term bug or debugging In the Association for Computing Machinery|ACM 's digital library the term debugging is first used in three papers from 1952 ACM National Meetings Robert V. D. Campbell http://portal.acm.org/citation.cfm?id=609784.609786 Evolution of automatic computation Proceedings of the 1952 ACM national meeting Pittsburgh p 29 - 32 1952.Alex Orden http://portal.acm.org/citation.cfm?id=609784.609793 Solution of systems of linear inequalities on a digital computer Proceedings of the 1952 ACM national meeting Pittsburgh p. 91 95 1952.Howard B. Demuth John B. Jackson Edmund Klein N. Metropolis Walter Orvedahl James H. Richardson http://portal.acm.org/citation.cfm?id=800259.808982 MANIAC Proceedings of the 1952 ACM national meeting Toronto p. 13 - 16 Two of the three use the term in quotation marks By 1963 debugging was a common enough term to be mentioned in passing without explanation on page 1 of the Compatible Time Sharing System|CTSS manual.[http://www.bitsavers.org / pdf / mit / ctss / CTSS_ProgrammersGuide.pdf The Compatible Time Sharing System M.I.T. Press 1963 Kidwell 's article Stalking the Elusive Computer Aldrich Kidwell http://ieeexplore.ieee.org/xpl/freeabs_all.jsp?tp=&arnumber=728224&isnumber=15706 Stalking the Elusive Computer Bug IEEE Annals of the History of Computing 1998 discusses the etymology of bug and debug in greater detail Scope As software and electronic systems have become generally more complex the various common debugging techniques have expanded with more methods to detect anomalies assess impact and schedule software patches or full updates to a system The words and discrepancy can be used as being more neutral terms to avoid the words error and defect or bug where there might be an implication that all so called errors defects or bugs must be fixed at all costs Instead an impact assessment can be made to determine if changes to remove an anomaly or discrepancy would be cost effective for the system or perhaps a scheduled new release might render the change(s unnecessary Not all issues are life critical or mission critical in a system Also it is important to avoid the situation where a change might be more upsetting to users long term than living with the known problem(s where the cure would be worse than the disease Basing decisions of the acceptability of some anomalies can avoid a culture of a zero defects mandate where people might be tempted to deny the existence of problems so that the result would appear as zero defects Considering the collateral issues such as the cost versus benefit impact assessment then broader debugging techniques will expand to determine the frequency of anomalies how often the same bugs occur to help assess their impact to the overall system Tools Debugging on video game consoles is usually done with special hardware such as this Xbox console)|Xbox debug unit intended for developers Debugging ranges in complexity from fixing simple errors to performing lengthy and tiresome tasks of data collection analysis and scheduling updates The debugging skill of the programmer can be a major factor in the ability to debug a problem but the difficulty of software debugging varies greatly with the complexity of the system and also depends to some extent on the programming language(s used and the available tools such as debuggers Debuggers are software tools which enable the programmer to monitor the execution computers)|execution of a program stop it restart it set breakpoints and change values in memory The term debugger can also refer to the person who is doing the debugging Generally high level programming languages such as Java programming language)|Java make debugging easier because they have features such as exception handling that make real sources of erratic behaviour easier to spot In programming languages such as C programming language)|C or assembly language|assembly bugs may cause silent problems such as memory corruption and it is often difficult to see where the initial problem happened In those cases memory debugging|memory debugger tools may be needed In certain situations general purpose software tools that are language specific in nature can be very useful These take the form of List of tools for static code analysis|static code analysis tools These tools look for a very specific set of known problems some common and some rare within the source code All such issues detected by these tools would rarely be picked up by a compiler or interpreter thus they are not syntax checkers but more semantic checkers Some tools claim to be able to detect 300 + unique problems Both commercial and free tools exist in various languages These tools can be extremely useful when checking very large source trees where it is impractical to do code walkthroughs A typical example of a problem detected would be a variable dereference that occurs before the variable is assigned a value Another example would be to perform strong type checking when the language does not require such Thus they are better at locating likely errors versus actual errors As a result these tools have a reputation of false positives The old Unix Lint programming tool|lint program is an early example For debugging electronic hardware e.g. computer hardware as well as low level software e.g. BIOSes device drivers and firmware instruments such as oscilloscopes logic analyzers or in circuit emulator|in circuit emulators ICEs are often used alone or in combination An ICE may perform many of the typical software debugger 's tasks on low level software and firmware Debugging process Normally the first step in debugging is to attempt to reproduce the problem This can be a non - trivial task for example as with Parallel computing|parallel processes or some unusual software bugs Also specific user environment and usage history can make it difficult to reproduce the problem After the bug is reproduced the input of the program may need to be simplified to make it easier to debug For example a bug in a compiler can make it Crash computing)|crash when parsing some large source file However after simplification of the test case only few lines from the original source file can be sufficient to reproduce the same crash Such simplification can be made manually using a Divide and conquer algorithm|divide and conquer approach The programmer will try to remove some parts of original test case and check if the problem still exists When debugging the problem in a Graphical user interface|GUI the programmer can try to skip some user interaction from the original problem description and check if remaining actions are sufficient for bugs to appear After the test case is sufficiently simplified a programmer can use a debugger tool to examine program states values of variables plus the call stack and track down the origin of the problem(s Alternatively Tracing software)|tracing can be used In simple cases tracing is just a few print statements which output the values of variables at certain points of program execution.{{citation needed|date = February 2016 Techniques Interactive debugging visible anchor|Print debugging or tracing is the act of watching live or recorded trace statements or print statements that indicate the flow of execution of a process This is sometimes called visible anchor|printf debugging due to the use of the printf function in C. This kind of debugging was turned on by the command TRON in the original versions of the novice oriented BASIC programming language TRON stood for Trace On TRON caused the line numbers of each BASIC command line to print as the program ran Remote debugging is the process of debugging a program running on a system different from the debugger To start remote debugging a debugger connects to a remote system over a network The debugger can then control the execution of the program on the remote system and retrieve information about its state Post mortem debugging is debugging of the program after it has already Crash computing)|crashed Related techniques often include various tracing techniques for / tools/185300443 Postmortem Debugging Stephen Wormuller Dr. Dobbs Journal 2006 and/or analysis of memory dump or core dump of the crashed process The dump of the process could be obtained automatically by the system for example when process has terminated due to an unhandled exception or by a programmer inserted instruction or manually by the interactive user Wolf fence algorithm Edward Gauss described this simple but very useful and now famous algorithm in a 1982 article for communications of the ACM as follows There 's one wolf in Alaska how do you find it First build a fence down the middle of the state wait for the wolf to howl determine which side of the fence it is on Repeat process on that side only until you get to the point where you can see the wolf \"<ref name=\"communications of the ACM\">{{cite journal | title=\"Pracniques The Wolf Fence Algorithm for Debugging | author E. J. Gauss | year=1982 This is implemented e.g. in the Git software)|Git version control system as the command git bisect which uses the above algorithm to determine which Commit data management)|commit introduced a particular bug Delta Debugging''{{snd a technique of automating test case simplification Andreas Zeller cite Why Programs Fail A Guide to Systematic Debugging</cite Morgan Kaufmann 2005 ISBN 1 55860 866 4{{rp|p.123}}<!-- for redirect from Saff Squeeze Saff Squeeze''{{snd a technique of isolating failure within the test using progressive inlining of parts of the failing test.[http://www.threeriversinstitute.org / HitEmHighHitEmLow.html Kent Beck Hit 'em High Hit 'em Low Regression Testing and the Saff Squeeze Debugging for embedded systems In contrast to the general purpose computer software design environment a primary characteristic of embedded environments is the sheer number of different platforms available to the developers CPU architectures vendors operating systems and their variants Embedded systems are by definition not general purpose designs they are typically developed for a single task or small range of tasks and the platform is chosen specifically to optimize that application Not only does this fact make life tough for embedded system developers it also makes debugging and testing of these systems harder as well since different debugging tools are needed in different platforms to identify and fix bugs in the system e.g. logical or synchronization problems in the code or a design error in the hardware to collect information about the operating states of the system that may then be used to analyze the system to find ways to boost its performance or to optimize other important characteristics e.g. energy consumption reliability real time response Anti - debugging Anti - debugging is the implementation of one or more techniques within computer code that hinders attempts at reverse engineering or debugging a target process\".<ref web |url = / blog/2008/12 / anti - debugging series part i/ |title = Anti - Debugging Series Part I = Shields |first = Tyler |date=2008 12 02 |work = Veracode |accessdate=2009 03 17 It is actively used by recognized publishers in copy protection|copy protection schemas but is also used by malware to complicate its detection and elimination.<ref name=\"soft prot\">[http://people.seas.harvard.edu/~mgagnon / software_protection_through_anti_debugging.pdf Software Protection through Anti - Debugging Michael N Gagnon Stephen Taylor Anup Ghosh Techniques used in anti - debugging include API based check for the existence of a debugger using system information Exception based check to see if exceptions are interfered with Process and thread blocks check whether process and thread blocks have been manipulated Modified code check for code modifications made by a debugger handling software breakpoints Hardware- and register based check for hardware breakpoints and CPU registers Timing and latency check the time taken for the execution of instructions Detecting and penalizing debugger ref name=\"soft prot /><!-- reference does not exist An early example of anti - debugging existed in early versions of Microsoft Word which if a debugger was detected produced a message that said The tree of evil bears bitter fruit Now trashing program disk after which it caused the floppy disk drive to emit alarming noises with the intent of scaring the user away from attempting it again.<ref name=\"SecurityEngineeringRA\">{{cite book | url http://www.cl.cam.ac.uk/~rja14 / book.html | author Ross J. Anderson | title Security Engineering | isbn = 0 - 471 38922 6 | page=684 ref name=\"toastytech\">{{cite web | url / guis / word1153.html | title = Microsoft Word for DOS 1.15\n"
     ]
    }
   ],
   "source": [
    "tokens = [token.text for token in data if token.pos_ != 'X' and token.pos_ != 'PUNCT' and token.pos_ != 'SPACE']\n",
    "a_token = ' '.join(tokens)\n",
    "print(a_token)"
   ]
  },
  {
   "cell_type": "code",
   "execution_count": 85,
   "metadata": {
    "ExecuteTime": {
     "end_time": "2020-04-25T17:28:18.717549Z",
     "start_time": "2020-04-25T17:28:18.473356Z"
    }
   },
   "outputs": [
    {
     "name": "stdout",
     "output_type": "stream",
     "text": [
      "debugging be the process of find and resolving of defect that prevent correct operation of computer software or a system numerous book have be write about debug see below further read as -PRON- involve numerous aspect include interactive debugging control flow integration test file monitor Application System memory dump Profiling computer Statistical Process Control and special design tactic to improve detection while simplify change Origin a computer log entry from the with a moth tape to the page the term bug and debugging be popularly attribute to Admiral Grace Hopper in the Grace Hopper from FOLDOC while -PRON- be work on a Harvard Mark II Computer at Harvard University -PRON- associate discover a moth stick in a relay and thereby impede operation whereupon -PRON- remark that -PRON- be debug the system however the term bug in the meaning of technical error date back at least to and Thomas Edison see software bug for a full discussion and debugging seem to have be use as a term in aeronautics before enter the world of computer indeed in an interview Grace Hopper remark that -PRON- be not coin the July the moth fit the already exist terminology so -PRON- be save a letter from Robert Oppenheimer director of the WWII atomic bomb Manhattan project at Los Alamos NM use the term in a letter to Ernest Lawrence at UC Berkeley date October exhibit physic image regard the recruitment of additional technical staff the Oxford English Dictionary entry for debug quote the term debugging use in reference to airplane engine testing in a article in the Journal of the Royal Aeronautical Society an article in Airforce June also refer to debug this time of aircraft camera Hopper computer be find on September the term be not adopt by computer programmer until the early the seminal article by Gill the Diagnosis of Mistakes in programme on the EDSAC Proceedings of the Royal Society of London Series A Mathematical and Physical Sciences Vol no May pp in be the early in depth discussion of programming error but -PRON- do not use the term bug or debug in the Association for Computing digital library the term debugging be first use in three paper from ACM National Meetings Robert Campbell Evolution of automatic computation proceeding of the ACM national meeting Pittsburgh p Orden solution of system of linear inequality on a digital computer proceeding of the ACM national meeting Pittsburgh Demuth John Jackson Edmund Klein Metropolis Walter Orvedahl James Richardson MANIAC Proceedings of the ACM national meeting Toronto two of the three use the term in quotation mark by debugging be a common enough term to be mention in pass without explanation on page of the Compatible Time Sharing pdf mit ctss the Compatible Time Sharing System Press Kidwell article stalk the Elusive Computer Aldrich Kidwell stalk the Elusive Computer Bug IEEE Annals of the history of compute discuss the etymology of bug and debug in great detail Scope as software and electronic system have become generally more complex the various common debugging technique have expand with more method to detect anomaly assess impact and schedule software patch or full update to a system the word and discrepancy can be use as be more neutral term to avoid the word error and defect or bug where there may be an implication that all so call error defect or bug must be fix at all cost instead an impact assessment can be make to determine if change to remove an anomaly or discrepancy would be cost effective for the system or perhaps a schedule new release may render the unnecessary not all issue be life critical or mission critical in a system also -PRON- be important to avoid the situation where a change may be more upsetting to user long term than live with the know where the cure would be bad than the disease Basing decision of the acceptability of some anomaly can avoid a culture of a zero defect mandate where people may be tempt to deny the existence of problem so that the result would appear as zero defect consider the collateral issue such as the cost versus benefit impact assessment then broader debugging technique will expand to determine the frequency of anomaly how often the same bug occur to help assess -PRON- impact to the overall system tool debug on video game console be usually do with special hardware such as this Xbox debug unit intend for developer Debugging range in complexity from fix simple error to perform lengthy and tiresome task of datum collection analysis and scheduling update the debugging skill of the programmer can be a major factor in the ability to debug a problem but the difficulty of software debugging varie greatly with the complexity of the system and also depend to some extent on the programming use and the available tool such as debugger debugger be software tool which enable the programmer to monitor the execution of a program stop -PRON- restart -PRON- set breakpoint and change value in memory the term debugger can also refer to the person who be do the debugging generally high level programming language such as Java programming make debug easy because -PRON- have feature such as exception handling that make real source of erratic behaviour easy to spot in programming language such as C programming or assembly bug may cause silent problem such as memory corruption and -PRON- be often difficult to see where the initial problem happen in those case memory debugger tool may be need in certain situation general purpose software tool that be language specific in nature can be very useful these take the form of list of tool for static code code analysis tool these tool look for a very specific set of know problem some common and some rare within the source code all such issue detect by these tool would rarely be pick up by a compiler or interpreter thus -PRON- be not syntax checker but more semantic checker some tool claim to be able to detect unique problem both commercial and free tool exist in various language these tool can be extremely useful when check very large source tree where -PRON- be impractical to do code walkthrough a typical example of a problem detect would be a variable dereference that occur before the variable be assign a value another example would be to perform strong type check when the language do not require such thus -PRON- be well at locate likely error versus actual error as a result these tool have a reputation of false positive the old Unix Lint programming program be an early example for debug electronic hardware computer hardware as well as low level software biose device driver and firmware instrument such as oscilloscope logic analyzer or in circuit circuit emulator ice be often use alone or in combination an ICE may perform many of the typical software debugger task on low level software and firmware debug process normally the first step in debugging be to attempt to reproduce the problem this can be a non trivial task for example as with Parallel process or some unusual software bug also specific user environment and usage history can make -PRON- difficult to reproduce the problem after the bug be reproduce the input of the program may need to be simplify to make -PRON- easy to debug for example a bug in a compiler can make -PRON- Crash when parse some large source file however after simplification of the test case only few line from the original source file can be sufficient to reproduce the same crash such simplification can be make manually use a Divide and conquer and conquer approach the programmer will try to remove some part of original test case and check if the problem still exist when debug the problem in a Graphical user the programmer can try to skip some user interaction from the original problem description and check if remaining action be sufficient for bug to appear after the test case be sufficiently simplify a programmer can use a debugger tool to examine program state value of variable plus the call stack and track down the origin of the Alternatively trace can be use in simple case trace be just a few print statement which output the value of variable at certain point of program February Techniques Interactive debug visible debugging or tracing be the act of watch live or record trace statement or print statement that indicate the flow of execution of a process this be sometimes call visible debugging due to the use of the printf function in this kind of debugging be turn on by the command tron in the original version of the novice orient basic programming language TRON stand for Trace on TRON cause the line number of each basic command line to print as the program run Remote debugging be the process of debug a program run on a system different from the debugger to start remote debug a debugger connect to a remote system over a network the debugger can then control the execution of the program on the remote system and retrieve information about -PRON- state Post mortem debugging be debug of the program after -PRON- have already Crash related technique often include various tracing technique for Postmortem Debugging Stephen Wormuller Dobbs Journal analysis of memory dump or core dump of the crash process the dump of the process could be obtain automatically by the system for example when process have terminate due to an unhandled exception or by a programm insert instruction or manually by the interactive user Wolf fence algorithm Edward Gauss describe this simple but very useful and now famous algorithm in a article for communication of the ACM as follow there be one wolf in Alaska how do -PRON- find -PRON- first build a fence down the middle of the state wait for the wolf to howl determine which side of the fence -PRON- be on Repeat process on that side only until -PRON- get to the point where -PRON- can see the wolf ref of the journal the Wolf Fence Algorithm for Debugging author Gauss this be implement in the Git version control system as the command git bisect which use the above algorithm to determine which Commit data introduce a particular bug Delta a technique of automate test case simplification Andreas Zeller cite why program fail a guide to systematic Morgan Kaufmann ISBN for redirect from Saff Squeeze Saff a technique of isolate failure within the test use progressive inlining of part of the fail Kent Beck Hit -PRON- high hit -PRON- Low Regression Testing and the Saff Squeeze debug for embed system in contrast to the general purpose computer software design environment a primary characteristic of embed environment be the sheer number of different platform available to the developer CPU architecture vendor operate system and -PRON- variant embed system be by definition not general purpose design -PRON- be typically develop for a single task or small range of task and the platform be choose specifically to optimize that application not only do this fact make life tough for embed system developer -PRON- also make debugging and testing of these system harder as well since different debugging tool be need in different platform to identify and fix bug in the system logical or synchronization problem in the code or a design error in the hardware to collect information about the operate state of the system that may then be use to analyze the system to find way to boost -PRON- performance or to optimize other important characteristic energy consumption reliability real time response anti debugging anti debugging be the implementation of one or more technique within computer code that hinder attempt at reverse engineering or debug a target web anti debugging series part anti Debugging Series Part -PRON- shield Tyler Veracode -PRON- be actively use by recognize publisher in copy protection schema but be also use by malware to complicate -PRON- detection and Software Protection through Anti debugging Michael N Gagnon Stephen Taylor Anup Ghosh Techniques use in anti debugging include API base check for the existence of a debugger use system information exception base check to see if exception be interfere with process and thread block check whether process and thread block have be manipulate modify code check for code modification make by a debugger handling software breakpoint and register base check for hardware breakpoint and CPU register timing and latency check the time take for the execution of instruction detect and penalize debugger ref prot reference do not exist an early example of anti debugging exist in early version of Microsoft Word which if a debugger be detect produce a message that say the tree of evil bear bitter fruit now trash program disk after which -PRON- cause the floppy disk drive to emit alarm noise with the intent of scare the user away from attempt -PRON- book url author Ross Anderson title Security Engineering isbn ref web url guis title Microsoft Word for DOS\n"
     ]
    }
   ],
   "source": [
    "out = [token.lemma_ for token in nlp(a_token) if token.lemma_.isalpha() or token.lemma_ == '-PRON-']\n",
    "a_lemmas = ' '.join(out)\n",
    "print(a_lemmas)"
   ]
  },
  {
   "cell_type": "markdown",
   "metadata": {
    "ExecuteTime": {
     "end_time": "2020-04-25T17:26:05.543106Z",
     "start_time": "2020-04-25T17:26:05.530429Z"
    }
   },
   "source": [
    "### Remove stop words"
   ]
  },
  {
   "cell_type": "code",
   "execution_count": 89,
   "metadata": {
    "ExecuteTime": {
     "end_time": "2020-04-25T17:30:08.514647Z",
     "start_time": "2020-04-25T17:30:08.288158Z"
    }
   },
   "outputs": [
    {
     "name": "stdout",
     "output_type": "stream",
     "text": [
      "debug be the process of find and resolving of defect that prevent correct operation of computer software or a system numerous book have be write about debug see below further read as -PRON- involve numerous aspect include interactive debug control flow integration test file monitor application System memory dump profiling computer Statistical Process Control and special design tactic to improve detection while simplify change Origin a computer log entry from the with a moth tape to the page the term bug and debugging be popularly attribute to Admiral Grace Hopper in the Grace Hopper from FOLDOC while -PRON- be work on a Harvard Mark II Computer at Harvard University -PRON- associate discover a moth stick in a relay and thereby impede operation whereupon -pron- remark that -PRON- be debug the system however the term bug in the meaning of technical error date back at least to and Thomas Edison see software bug for a full discussion and debugging seem to have be use as a term in aeronautics before enter the world of computer indeed in an interview Grace Hopper remark that -PRON- be not coin the July the moth fit the already exist terminology so -PRON- be save a letter from Robert Oppenheimer director of the WWII atomic bomb Manhattan project at Los Alamos NM use the term in a letter to Ernest Lawrence at UC Berkeley date October exhibit physic image regard the recruitment of additional technical staff the Oxford English Dictionary entry for debug quote the term debug use in reference to airplane engine testing in a article in the Journal of the Royal Aeronautical Society an article in Airforce June also refer to debug this time of aircraft camera Hopper computer be find on September the term be not adopt by computer programmer until the early the seminal article by Gill the Diagnosis of Mistakes in programme on the EDSAC Proceedings of the Royal Society of London Series A Mathematical and Physical Sciences Vol no May pp in be the early in depth discussion of programming error but -PRON- do not use the term bug or debug in the Association for Computing digital library the term debugging be first use in three paper from ACM National Meetings Robert Campbell Evolution of automatic computation proceeding of the ACM national meeting Pittsburgh p Orden solution of system of linear inequality on a digital computer proceeding of the ACM national meeting Pittsburgh Demuth John Jackson Edmund Klein Metropolis Walter Orvedahl James Richardson MANIAC Proceedings of the ACM national meeting Toronto two of the three use the term in quotation mark by debug be a common enough term to be mention in pass without explanation on page of the Compatible Time Sharing pdf mit ctss the Compatible Time Sharing System Press Kidwell article stalk the Elusive Computer Aldrich Kidwell stalk the Elusive Computer Bug IEEE Annals of the history of compute discuss the etymology of bug and debug in great detail Scope as software and electronic system have become generally more complex the various common debugging technique have expand with more method to detect anomaly assess impact and schedule software patch or full update to a system the word and discrepancy can be use as be more neutral term to avoid the word error and defect or bug where there may be an implication that all so call error defect or bug must be fix at all cost instead an impact assessment can be make to determine if change to remove an anomaly or discrepancy would be cost effective for the system or perhaps a schedule new release may render the unnecessary not all issue be life critical or mission critical in a system also -PRON- be important to avoid the situation where a change may be more upsetting to user long term than live with the know where the cure would be bad than the disease Basing decision of the acceptability of some anomaly can avoid a culture of a zero defect mandate where people may be tempt to deny the existence of problem so that the result would appear as zero defect consider the collateral issue such as the cost versus benefit impact assessment then broad debugging technique will expand to determine the frequency of anomaly how often the same bug occur to help assess -PRON- impact to the overall system tool debug on video game console be usually do with special hardware such as this Xbox debug unit intend for developer debugging range in complexity from fix simple error to perform lengthy and tiresome task of datum collection analysis and scheduling update the debugging skill of the programmer can be a major factor in the ability to debug a problem but the difficulty of software debugging varie greatly with the complexity of the system and also depend to some extent on the programming use and the available tool such as debugger debugger be software tool which enable the programmer to monitor the execution of a program stop -PRON- restart -PRON- set breakpoint and change value in memory the term debugger can also refer to the person who be do the debug generally high level programming language such as Java programming make debug easy because -PRON- have feature such as exception handling that make real source of erratic behaviour easy to spot in programming language such as C programming or assembly bug may cause silent problem such as memory corruption and -PRON- be often difficult to see where the initial problem happen in those case memory debugger tool may be nee in certain situation general purpose software tool that be language specific in nature can be very useful these take the form of list of tool for static code code analysis tool these tool look for a very specific set of know problem some common and some rare within the source code all such issue detect by these tool would rarely be pick up by a compiler or interpreter thus -PRON- be not syntax checker but more semantic checker some tool claim to be able to detect unique problem both commercial and free tool exist in various language these tool can be extremely useful when check very large source tree where -PRON- be impractical to do code walkthrough a typical example of a problem detect would be a variable dereference that occur before the variable be assign a value another example would be to perform strong type check when the language do not require such thus -pron- be well at locate likely error versus actual error as a result these tool have a reputation of false positive the old Unix Lint programming program be an early example for debug electronic hardware computer hardware as well as low level software biose device driver and firmware instrument such as oscilloscope logic analyzer or in circuit circuit emulator ice be often use alone or in combination an ICE may perform many of the typical software debugger task on low level software and firmware debug process normally the first step in debugging be to attempt to reproduce the problem this can be a non trivial task for example as with parallel process or some unusual software bug also specific user environment and usage history can make -PRON- difficult to reproduce the problem after the bug be reproduce the input of the program may need to be simplify to make -PRON- easy to debug for example a bug in a compiler can make -PRON- crash when parse some large source file however after simplification of the test case only few line from the original source file can be sufficient to reproduce the same crash such simplification can be make manually use a Divide and conquer and conquer approach the programmer will try to remove some part of original test case and check if the problem still exist when debug the problem in a graphical user the programmer can try to skip some user interaction from the original problem description and check if remain action be sufficient for bug to appear after the test case be sufficiently simplify a programmer can use a debugger tool to examine program state value of variable plus the call stack and track down the origin of the Alternatively trace can be use in simple case trace be just a few print statement which output the value of variable at certain point of program February Techniques Interactive debug visible debugging or tracing be the act of watch live or record trace statement or print statement that indicate the flow of execution of a process this be sometimes call visible debugging due to the use of the printf function in this kind of debugging be turn on by the command tron in the original version of the novice orient basic programming language TRON stand for Trace on TRON cause the line number of each basic command line to print as the program run remote debugging be the process of debug a program run on a system different from the debugger to start remote debug a debugger connect to a remote system over a network the debugger can then control the execution of the program on the remote system and retrieve information about -PRON- state Post mortem debugging be debug of the program after -pron- have already Crash related technique often include various tracing technique for Postmortem Debugging Stephen Wormuller Dobbs Journal analysis of memory dump or core dump of the crash process the dump of the process could be obtain automatically by the system for example when process have terminate due to an unhandled exception or by a programm insert instruction or manually by the interactive user Wolf fence algorithm Edward Gauss describe this simple but very useful and now famous algorithm in a article for communication of the ACM as follow there be one wolf in Alaska how do -PRON- find -PRON- first build a fence down the middle of the state wait for the wolf to howl determine which side of the fence -PRON- be on Repeat process on that side only until -PRON- get to the point where -PRON- can see the wolf ref of the journal the Wolf Fence Algorithm for debugging author Gauss this be implement in the Git version control system as the command git bisect which use the above algorithm to determine which Commit datum introduce a particular bug Delta a technique of automate test case simplification Andreas Zeller cite why program fail a guide to systematic Morgan Kaufmann ISBN for redirect from Saff Squeeze Saff a technique of isolate failure within the test use progressive inlining of part of the fail Kent Beck Hit -PRON- high hit -PRON- Low Regression Testing and the Saff Squeeze debug for embed system in contrast to the general purpose computer software design environment a primary characteristic of embed environment be the sheer number of different platform available to the developer CPU architecture vendor operate system and -pron- variant embed system be by definition not general purpose design -PRON- be typically develop for a single task or small range of task and the platform be choose specifically to optimize that application not only do this fact make life tough for embed system developer -PRON- also make debugging and testing of these system harder as well since different debugging tool be nee in different platform to identify and fix bug in the system logical or synchronization problem in the code or a design error in the hardware to collect information about the operate state of the system that may then be use to analyze the system to find way to boost -PRON- performance or to optimize other important characteristic energy consumption reliability real time response anti debugging anti debugging be the implementation of one or more technique within computer code that hinder attempt at reverse engineering or debug a target web anti debugging series part anti Debugging Series Part -PRON- shield Tyler Veracode -pron- be actively use by recognize publisher in copy protection schema but be also use by malware to complicate -PRON- detection and Software Protection through anti debugging Michael N Gagnon Stephen Taylor Anup Ghosh Techniques use in anti debugging include api base check for the existence of a debugger use system information exception base check to see if exception be interfere with process and thread block check whether process and thread block have be manipulate modify code check for code modification make by a debugger handling software breakpoint and register base check for hardware breakpoint and CPU register timing and latency check the time take for the execution of instruction detect and penalize debugger ref prot reference do not exist an early example of anti debugging exist in early version of Microsoft Word which if a debugger be detect produce a message that say the tree of evil bear bitter fruit now trash program disk after which -PRON- cause the floppy disk drive to emit alarm noise with the intent of scare the user away from attempt -PRON- book url author Ross Anderson title Security Engineering isbn ref web url guis title Microsoft Word for DOS\n"
     ]
    }
   ],
   "source": [
    "stopwords = spacy.lang.en.stop_words.STOP_WORDS\n",
    "\n",
    "out = [token.lemma_ for token in nlp(a_lemmas) if token not in stopwords]\n",
    "a_stop = (' '.join(out))\n",
    "print(a_stop)"
   ]
  },
  {
   "cell_type": "code",
   "execution_count": 91,
   "metadata": {
    "ExecuteTime": {
     "end_time": "2020-04-25T17:30:26.980680Z",
     "start_time": "2020-04-25T17:30:26.969471Z"
    }
   },
   "outputs": [
    {
     "data": {
      "text/plain": [
       "(12820, 12846, 15240)"
      ]
     },
     "execution_count": 91,
     "metadata": {},
     "output_type": "execute_result"
    }
   ],
   "source": [
    "len(a_stop), len(a_lemmas), len(a_token)"
   ]
  },
  {
   "cell_type": "markdown",
   "metadata": {
    "ExecuteTime": {
     "end_time": "2020-04-25T17:31:21.236795Z",
     "start_time": "2020-04-25T17:31:21.230138Z"
    }
   },
   "source": [
    "### Nemed Entity Recognition"
   ]
  },
  {
   "cell_type": "code",
   "execution_count": 96,
   "metadata": {
    "ExecuteTime": {
     "end_time": "2020-04-25T17:39:05.165211Z",
     "start_time": "2020-04-25T17:39:05.152580Z"
    }
   },
   "outputs": [],
   "source": [
    "def recongition(text, type):\n",
    "    nlp = spacy.load('en_core_web_sm')\n",
    "    doc = nlp(text)\n",
    "    out = [ent.text for ent in doc.ents if ent.label_ == type]\n",
    "    return out"
   ]
  },
  {
   "cell_type": "code",
   "execution_count": 100,
   "metadata": {
    "ExecuteTime": {
     "end_time": "2020-04-25T17:42:48.669068Z",
     "start_time": "2020-04-25T17:42:47.711660Z"
    }
   },
   "outputs": [
    {
     "data": {
      "text/plain": [
       "['Further',\n",
       " 'Grace Hopper',\n",
       " 'Thomas Edison',\n",
       " 'Grace Hopper',\n",
       " 'J. Robert Oppenheimer',\n",
       " 'Ernest Lawrence',\n",
       " 'GillS. Gill',\n",
       " 'Robert V. D. Campbell',\n",
       " 'B. Demuth',\n",
       " 'John B. Jackson',\n",
       " 'Edmund Klein',\n",
       " 'N. Metropolis',\n",
       " 'Walter Orvedahl',\n",
       " 'James H. Richardson',\n",
       " 'Xbox',\n",
       " 'Java',\n",
       " 'tool|lint',\n",
       " 'Crash',\n",
       " 'Stephen Wormuller',\n",
       " 'Dobbs Journal',\n",
       " 'Wolf',\n",
       " 'Edward Gauss',\n",
       " 'E. J. Gauss |',\n",
       " 'Andreas Zeller',\n",
       " 'Morgan Kaufmann',\n",
       " 'Kent Beck',\n",
       " 'process\".<ref name=\"veracode-antidebugging\">{{cite',\n",
       " 'Tyler |date=2008-',\n",
       " 'Veracode |accessdate=2009',\n",
       " 'elimination.<ref name=\"soft-prot\">[http://people.seas.harvard.edu/~mgagnon/software_protection_through_anti_debugging.pdf Software Protection through Anti-Debugging',\n",
       " 'N Gagnon',\n",
       " 'Stephen Taylor',\n",
       " 'Anup Ghosh',\n",
       " 'Ross J. Anderson |']"
      ]
     },
     "execution_count": 100,
     "metadata": {},
     "output_type": "execute_result"
    }
   ],
   "source": [
    "recongition(article, \"PERSON\")"
   ]
  },
  {
   "cell_type": "code",
   "execution_count": 103,
   "metadata": {
    "ExecuteTime": {
     "end_time": "2020-04-25T17:44:20.964679Z",
     "start_time": "2020-04-25T17:44:20.279880Z"
    }
   },
   "outputs": [
    {
     "data": {
      "text/plain": [
       "['Harvard',\n",
       " 'Harvard University -PRON-',\n",
       " 'UC Berkeley',\n",
       " 'the Journal of the Royal Aeronautical Society',\n",
       " 'Airforce June',\n",
       " 'Hopper',\n",
       " 'the EDSAC Proceedings of the Royal Society of London Series A',\n",
       " 'Physical Sciences Vol',\n",
       " 'the Association for Computing digital',\n",
       " 'ACM National',\n",
       " 'ACM',\n",
       " 'ACM',\n",
       " 'Walter Orvedahl',\n",
       " 'ACM',\n",
       " 'the Compatible Time Sharing System Press Kidwell',\n",
       " 'the Elusive Computer Aldrich Kidwell',\n",
       " 'the Elusive Computer Bug IEEE Annals',\n",
       " 'Java',\n",
       " 'Lint',\n",
       " 'ICE',\n",
       " 'ACM',\n",
       " 'the Wolf Fence Algorithm',\n",
       " 'Commit',\n",
       " 'Morgan Kaufmann ISBN',\n",
       " 'Microsoft',\n",
       " 'Security Engineering',\n",
       " 'DOS']"
      ]
     },
     "execution_count": 103,
     "metadata": {},
     "output_type": "execute_result"
    }
   ],
   "source": [
    "recongition(a_stop, \"ORG\")"
   ]
  },
  {
   "cell_type": "code",
   "execution_count": 102,
   "metadata": {
    "ExecuteTime": {
     "end_time": "2020-04-25T17:44:09.232357Z",
     "start_time": "2020-04-25T17:44:08.406763Z"
    }
   },
   "outputs": [
    {
     "data": {
      "text/plain": [
       "['Manhattan',\n",
       " 'Pittsburgh',\n",
       " 'Pittsburgh',\n",
       " 'Toronto',\n",
       " 'Xbox',\n",
       " 'analyzer',\n",
       " 'Alaska']"
      ]
     },
     "execution_count": 102,
     "metadata": {},
     "output_type": "execute_result"
    }
   ],
   "source": [
    "recongition(a_stop, \"GPE\")"
   ]
  },
  {
   "cell_type": "code",
   "execution_count": 104,
   "metadata": {
    "ExecuteTime": {
     "end_time": "2020-04-25T17:46:20.447296Z",
     "start_time": "2020-04-25T17:46:19.642160Z"
    }
   },
   "outputs": [
    {
     "data": {
      "text/plain": [
       "['the Grace Hopper', 'Los Alamos NM']"
      ]
     },
     "execution_count": 104,
     "metadata": {},
     "output_type": "execute_result"
    }
   ],
   "source": [
    "recongition(a_stop, \"FAC\")"
   ]
  }
 ],
 "metadata": {
  "kernelspec": {
   "display_name": "Python 3",
   "language": "python",
   "name": "python3"
  },
  "language_info": {
   "codemirror_mode": {
    "name": "ipython",
    "version": 3
   },
   "file_extension": ".py",
   "mimetype": "text/x-python",
   "name": "python",
   "nbconvert_exporter": "python",
   "pygments_lexer": "ipython3",
   "version": "3.7.3"
  },
  "toc": {
   "base_numbering": 1,
   "nav_menu": {},
   "number_sections": true,
   "sideBar": true,
   "skip_h1_title": false,
   "title_cell": "Table of Contents",
   "title_sidebar": "Contents",
   "toc_cell": false,
   "toc_position": {},
   "toc_section_display": true,
   "toc_window_display": false
  },
  "varInspector": {
   "cols": {
    "lenName": 16,
    "lenType": 16,
    "lenVar": 40
   },
   "kernels_config": {
    "python": {
     "delete_cmd_postfix": "",
     "delete_cmd_prefix": "del ",
     "library": "var_list.py",
     "varRefreshCmd": "print(var_dic_list())"
    },
    "r": {
     "delete_cmd_postfix": ") ",
     "delete_cmd_prefix": "rm(",
     "library": "var_list.r",
     "varRefreshCmd": "cat(var_dic_list()) "
    }
   },
   "types_to_exclude": [
    "module",
    "function",
    "builtin_function_or_method",
    "instance",
    "_Feature"
   ],
   "window_display": false
  }
 },
 "nbformat": 4,
 "nbformat_minor": 4
}
