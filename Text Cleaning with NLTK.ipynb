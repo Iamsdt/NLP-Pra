{
 "cells": [
  {
   "cell_type": "code",
   "execution_count": 1,
   "metadata": {
    "ExecuteTime": {
     "end_time": "2020-04-26T16:36:51.539279Z",
     "start_time": "2020-04-26T16:36:51.519268Z"
    }
   },
   "outputs": [],
   "source": [
    "article = '\\'\\'\\'Debugging\\'\\'\\' is the process of finding and resolving of defects that prevent correct operation of computer software or a system.  \\n\\nNumerous books have been written about debugging (see below: #Further reading|Further reading), as it involves numerous aspects, including interactive debugging, control flow, integration testing, Logfile|log files, monitoring (Application monitoring|application, System Monitoring|system), memory dumps, Profiling (computer programming)|profiling, Statistical Process Control, and special design tactics to improve detection while simplifying changes.\\n\\nOrigin\\nA computer log entry from the Mark&nbsp;II, with a moth taped to the page\\n\\nThe terms \"bug\" and \"debugging\" are popularly attributed to Admiral Grace Hopper in the 1940s.[http://foldoc.org/Grace+Hopper Grace Hopper]  from FOLDOC While she was working on a Harvard Mark II|Mark II Computer at Harvard University, her associates discovered a moth stuck in a relay and thereby impeding operation, whereupon she remarked that they were \"debugging\" the system. However the term \"bug\" in the meaning of technical error dates back at least to 1878 and Thomas Edison (see software bug for a full discussion), and \"debugging\" seems to have been used as a term in aeronautics before entering the world of computers. Indeed, in an interview Grace Hopper remarked that she was not coining the term{{Citation needed|date=July 2015}}. The moth fit the already existing terminology, so it was saved.  A letter from J. Robert Oppenheimer (director of the WWII atomic bomb \"Manhattan\" project at Los Alamos, NM) used the term in a letter to Dr. Ernest Lawrence at UC Berkeley, dated October 27, 1944,http://bancroft.berkeley.edu/Exhibits/physics/images/bigscience25.jpg regarding the recruitment of additional technical staff.\\n\\nThe Oxford English Dictionary entry for \"debug\" quotes the term \"debugging\" used in reference to airplane engine testing in a 1945 article in the Journal of the Royal Aeronautical Society. An article in \"Airforce\" (June 1945 p.&nbsp;50) also refers to debugging, this time of aircraft cameras.  Hopper\\'s computer bug|bug was found on September 9, 1947. The term was not adopted by computer programmers until the early 1950s.\\nThe seminal article by GillS. Gill, [http://www.jstor.org/stable/98663 The Diagnosis of Mistakes in Programmes on the EDSAC], Proceedings of the Royal Society of London. Series A, Mathematical and Physical Sciences, Vol. 206, No. 1087 (May 22, 1951), pp. 538-554 in 1951 is the earliest in-depth discussion of programming errors, but it does not use the term \"bug\" or \"debugging\".\\nIn the Association for Computing Machinery|ACM\\'s digital library, the term \"debugging\" is first used in three papers from 1952 ACM National Meetings.Robert V. D. Campbell, [http://portal.acm.org/citation.cfm?id=609784.609786 Evolution of automatic computation], Proceedings of the 1952 ACM national meeting (Pittsburgh), p 29-32, 1952.Alex Orden, [http://portal.acm.org/citation.cfm?id=609784.609793 Solution of systems of linear inequalities on a digital computer], Proceedings of the 1952 ACM national meeting (Pittsburgh), p. 91-95, 1952.Howard B. Demuth, John B. Jackson, Edmund Klein, N. Metropolis, Walter Orvedahl, James H. Richardson, [http://portal.acm.org/citation.cfm?id=800259.808982 MANIAC], Proceedings of the 1952 ACM national meeting (Toronto), p. 13-16 Two of the three use the term in quotation marks.\\nBy 1963 \"debugging\" was a common enough term to be mentioned in passing without explanation on page 1 of the Compatible Time-Sharing System|CTSS manual.[http://www.bitsavers.org/pdf/mit/ctss/CTSS_ProgrammersGuide.pdf The Compatible Time-Sharing System], M.I.T. Press, 1963\\n\\nKidwell\\'s article \\'\\'Stalking the Elusive Computer Bug\\'\\'Peggy Aldrich Kidwell, [http://ieeexplore.ieee.org/xpl/freeabs_all.jsp?tp=&arnumber=728224&isnumber=15706 Stalking the Elusive Computer Bug], IEEE Annals of the History of Computing, 1998. discusses the etymology of \"bug\" and \"debug\" in greater detail.\\n\\nScope\\nAs software and electronic systems have become generally more complex, the various common debugging techniques have expanded with more methods to detect anomalies, assess impact, and schedule software patches or full updates to a system. The words \"anomaly\" and \"discrepancy\" can be used, as being more neutral terms, to avoid the words \"error\" and \"defect\" or \"bug\" where there might be an implication that all so-called \\'\\'errors\\'\\', \\'\\'defects\\'\\' or \\'\\'bugs\\'\\' must be fixed (at all costs). Instead, an impact assessment can be made to determine if changes to remove an \\'\\'anomaly\\'\\' (or \\'\\'discrepancy\\'\\') would be cost-effective for the system, or perhaps a scheduled new release might render the change(s) unnecessary. Not all issues are life-critical or mission-critical in a system. Also, it is important to avoid the situation where a change might be more upsetting to users, long-term, than living with the known problem(s) (where the \"cure would be worse than the disease\"). Basing decisions of the acceptability of some anomalies can avoid a culture of a \"zero-defects\" mandate, where people might be tempted to deny the existence of problems so that the result would appear as zero \\'\\'defects\\'\\'. Considering the collateral issues, such as the cost-versus-benefit impact assessment, then broader debugging techniques will expand to determine the frequency of anomalies (how often the same \"bugs\" occur) to help assess their impact to the overall system.\\n\\nTools\\nDebugging on video game consoles is usually done with special hardware such as this Xbox (console)|Xbox debug unit intended for developers.\\n\\nDebugging ranges in complexity from fixing simple errors to performing lengthy and tiresome tasks of data collection, analysis, and scheduling updates.  The debugging skill of the programmer can be a major factor in the ability to debug a problem, but the difficulty of software debugging varies greatly with the complexity of the system, and also depends, to some extent, on the programming language(s) used and the available tools, such as \\'\\'debuggers\\'\\'. Debuggers are software tools which enable the programmer to monitor the execution (computers)|execution of a program, stop it, restart it, set breakpoints, and change values in memory. The term \\'\\'debugger\\'\\' can also refer to the person who is doing the debugging.\\n\\nGenerally, high-level programming languages, such as Java (programming language)|Java, make debugging easier, because they have features such as exception handling that make real sources of erratic behaviour easier to spot. In programming languages such as C (programming language)|C or assembly language|assembly, bugs may cause silent problems such as memory corruption, and it is often difficult to see where the initial problem happened. In those cases, memory debugging|memory debugger tools may be needed.\\n\\nIn certain situations, general purpose software tools that are language specific in nature can be very useful.  These take the form of \\'\\'List of tools for static code analysis|static code analysis tools\\'\\'.  These tools look for a very specific set of known problems, some common and some rare, within the source code.  All such issues detected by these tools would rarely be picked up by a compiler or interpreter, thus they are not syntax checkers, but more semantic checkers.  Some tools claim to be able to detect 300+ unique problems. Both commercial and free tools exist in various languages.  These tools can be extremely useful when checking very large source trees, where it is impractical to do code walkthroughs.  A typical example of a problem detected would be a variable dereference that occurs \\'\\'before\\'\\' the variable is assigned a value.  Another example would be to perform strong type checking when the language does not require such.  Thus, they are better at locating likely errors, versus actual errors.  As a result, these tools have a reputation of false positives.  The old Unix \\'\\'Lint programming tool|lint\\'\\' program is an early example.\\n\\nFor debugging electronic hardware (e.g., computer hardware) as well as low-level software (e.g., BIOSes, device drivers) and firmware, instruments such as oscilloscopes, logic analyzers or in-circuit emulator|in-circuit emulators (ICEs) are often used, alone or in combination.  An ICE may perform many of the typical software debugger\\'s tasks on low-level software and firmware.\\n\\nDebugging process \\nNormally the first step in debugging is to attempt to reproduce the problem. This can be a non-trivial task, for example as with Parallel computing|parallel processes or some unusual software bugs. Also, specific user environment and usage history can make it difficult to reproduce the problem.\\n\\nAfter the bug is reproduced, the input of the program may need to be simplified to make it easier to debug. For example, a bug in a compiler can make it Crash (computing)|crash when parsing some large source file. However, after simplification of the test case, only few lines from the original source file can be sufficient to reproduce the same crash. Such simplification can be made manually, using a Divide and conquer algorithm|divide-and-conquer approach. The programmer will try to remove some parts of original test case and check if the problem still exists. When debugging the problem in a Graphical user interface|GUI, the programmer can try to skip some user interaction from the original problem description and check if remaining actions are sufficient for bugs to appear.\\n\\nAfter the test case is sufficiently simplified, a programmer can use a debugger tool to examine program states (values of variables, plus the call stack) and track down the origin of the problem(s). Alternatively, Tracing (software)|tracing can be used. In simple cases, tracing is just a few print statements, which output the values of variables at certain points of program execution.{{citation needed|date=February 2016}}\\n\\n Techniques \\n \\'\\'Interactive debugging\\'\\'\\n \\'\\'{{visible anchor|Print debugging}}\\'\\' (or tracing) is the act of watching (live or recorded) trace statements, or print statements, that indicate the flow of execution of a process. This is sometimes called \\'\\'{{visible anchor|printf debugging}}\\'\\', due to the use of the printf function in C. This kind of debugging was turned on by the command TRON in the original versions of the novice-oriented BASIC programming language. TRON stood for, \"Trace On.\" TRON caused the line numbers of each BASIC command line to print as the program ran.\\n \\'\\'Remote debugging\\'\\' is the process of debugging a program running on a system different from the debugger. To start remote debugging, a debugger connects to a remote system over a network. The debugger can then control the execution of the program on the remote system and retrieve information about its state.\\n \\'\\'Post-mortem debugging\\'\\' is debugging of the program after it has already Crash (computing)|crashed. Related techniques often include various tracing techniques (for example,[http://www.drdobbs.com/tools/185300443 Postmortem Debugging, Stephen Wormuller, Dr. Dobbs Journal, 2006]) and/or analysis of memory dump (or core dump) of the crashed process. The dump of the process could be obtained automatically by the system (for example, when process has terminated due to an unhandled exception), or by a programmer-inserted instruction, or manually by the interactive user.\\n \\'\\'\"Wolf fence\" algorithm:\\'\\' Edward Gauss described this simple but very useful and now famous algorithm in a 1982 article for communications of the ACM as follows: \"There\\'s one wolf in Alaska; how do you find it? First build a fence down the middle of the state, wait for the wolf to howl, determine which side of the fence it is on. Repeat process on that side only, until you get to the point where you can see the wolf.\"<ref name=\"communications of the ACM\">{{cite journal | title=\"Pracniques: The \"Wolf Fence\" Algorithm for Debugging\", | author=E. J. Gauss | year=1982}} This is implemented e.g. in the Git (software)|Git version control system as the command \\'\\'git bisect\\'\\', which uses the above algorithm to determine which Commit (data management)|commit introduced a particular bug.\\n \\'\\'Delta Debugging\\'\\'{{snd}} a technique of automating test case simplification.Andreas Zeller: <cite>Why Programs Fail: A Guide to Systematic Debugging</cite>, Morgan Kaufmann, 2005. ISBN 1-55860-866-4{{rp|p.123}}<!-- for redirect from \\'Saff Squeeze\\' -->\\n \\'\\'Saff Squeeze\\'\\'{{snd}} a technique of isolating failure within the test using progressive inlining of parts of the failing test.[http://www.threeriversinstitute.org/HitEmHighHitEmLow.html Kent Beck, Hit \\'em High, Hit \\'em Low: Regression Testing and the Saff Squeeze]\\n\\nDebugging for embedded systems\\nIn contrast to the general purpose computer software design environment, a primary characteristic of embedded environments is the sheer number of different platforms available to the developers (CPU architectures, vendors, operating systems and their variants). Embedded systems are, by definition, not general-purpose designs: they are typically developed for a single task (or small range of tasks), and the platform is chosen specifically to optimize that application. Not only does this fact make life tough for embedded system developers, it also makes debugging and testing of these systems harder as well, since different debugging tools are needed in different platforms.\\n\\nto identify and fix bugs in the system (e.g. logical or synchronization problems in the code, or a design error in the hardware);\\nto collect information about the operating states of the system that may then be used to analyze the system: to find ways to boost its performance or to optimize other important characteristics (e.g. energy consumption, reliability, real-time response etc.).\\n\\nAnti-debugging\\nAnti-debugging is \"the implementation of one or more techniques within computer code that hinders attempts at reverse engineering or debugging a target process\".<ref name=\"veracode-antidebugging\">{{cite web |url=http://www.veracode.com/blog/2008/12/anti-debugging-series-part-i/ |title=Anti-Debugging Series - Part I |last=Shields |first=Tyler |date=2008-12-02 |work=Veracode |accessdate=2009-03-17}} It is actively used by recognized publishers in copy protection|copy-protection schemas, but is also used by malware to complicate its detection and elimination.<ref name=\"soft-prot\">[http://people.seas.harvard.edu/~mgagnon/software_protection_through_anti_debugging.pdf Software Protection through Anti-Debugging Michael N Gagnon, Stephen Taylor, Anup Ghosh] Techniques used in anti-debugging include:\\nAPI-based: check for the existence of a debugger using system information\\nException-based: check to see if exceptions are interfered with\\nProcess and thread blocks: check whether process and thread blocks have been manipulated\\nModified code: check for code modifications made by a debugger handling software breakpoints\\nHardware- and register-based: check for hardware breakpoints and CPU registers\\nTiming and latency: check the time taken for the execution of instructions\\nDetecting and penalizing debugger<ref name=\"soft-prot\" /><!-- reference does not exist -->\\n\\nAn early example of anti-debugging existed in early versions of Microsoft Word which, if a debugger was detected, produced a message that said: \"The tree of evil bears bitter fruit. Now trashing program disk.\", after which it caused the floppy disk drive to emit alarming noises with the intent of scaring the user away from attempting it again.<ref name=\"SecurityEngineeringRA\">{{cite book | url=http://www.cl.cam.ac.uk/~rja14/book.html | author=Ross J. Anderson | title=Security Engineering | isbn = 0-471-38922-6 | page=684 }}<ref name=\"toastytech\">{{cite web | url=http://toastytech.com/guis/word1153.html | title=Microsoft Word for DOS 1.15}}\\n'"
   ]
  },
  {
   "cell_type": "code",
   "execution_count": 15,
   "metadata": {
    "ExecuteTime": {
     "end_time": "2020-04-26T16:51:57.649707Z",
     "start_time": "2020-04-26T16:51:57.611317Z"
    }
   },
   "outputs": [
    {
     "name": "stdout",
     "output_type": "stream",
     "text": [
      "[\"'\", \"''\", 'debugging', \"''\", \"'\", 'is', 'the', 'process', 'of', 'finding']\n"
     ]
    },
    {
     "data": {
      "text/plain": [
       "2908"
      ]
     },
     "execution_count": 15,
     "metadata": {},
     "output_type": "execute_result"
    }
   ],
   "source": [
    "from nltk.tokenize import word_tokenize\n",
    "\n",
    "tokens = word_tokenize(article.lower())\n",
    "print(tokens[:10])\n",
    "len(tokens)"
   ]
  },
  {
   "cell_type": "code",
   "execution_count": 28,
   "metadata": {
    "ExecuteTime": {
     "end_time": "2020-04-26T17:07:07.215773Z",
     "start_time": "2020-04-26T17:07:07.209884Z"
    }
   },
   "outputs": [],
   "source": [
    "from collections import Counter\n",
    "\n",
    "def check_most_common(tokens, num=10):\n",
    "    bow_simple = Counter(tokens)\n",
    "    # Print the 10 most common tokens\n",
    "    print(bow_simple.most_common(num))"
   ]
  },
  {
   "cell_type": "code",
   "execution_count": 29,
   "metadata": {
    "ExecuteTime": {
     "end_time": "2020-04-26T17:07:23.586110Z",
     "start_time": "2020-04-26T17:07:23.579067Z"
    }
   },
   "outputs": [
    {
     "name": "stdout",
     "output_type": "stream",
     "text": [
      "[(',', 151), ('the', 150), ('.', 87), ('of', 81), (\"''\", 66), ('to', 63), ('a', 60), ('``', 47), ('in', 44), ('and', 41)]\n"
     ]
    }
   ],
   "source": [
    "check_most_common(tokens, 10)"
   ]
  },
  {
   "cell_type": "code",
   "execution_count": 22,
   "metadata": {
    "ExecuteTime": {
     "end_time": "2020-04-26T17:03:21.699235Z",
     "start_time": "2020-04-26T17:03:21.683672Z"
    }
   },
   "outputs": [
    {
     "name": "stdout",
     "output_type": "stream",
     "text": [
      "['debugging', 'is', 'the', 'process', 'of', 'finding', 'and', 'resolving', 'of', 'defects']\n",
      "2144\n",
      "Before:  15854\n",
      "After  13012\n"
     ]
    }
   ],
   "source": [
    "alpha_only = [t for t in tokens if t.isalpha()]\n",
    "print(alpha_only[:10])\n",
    "print(len(alpha_only))\n",
    "alpha = ' '.join(alpha_only)\n",
    "\n",
    "print(\"Before: \", len(article))\n",
    "print(\"After \", len(alpha))"
   ]
  },
  {
   "cell_type": "code",
   "execution_count": 30,
   "metadata": {
    "ExecuteTime": {
     "end_time": "2020-04-26T17:07:34.394047Z",
     "start_time": "2020-04-26T17:07:34.385551Z"
    }
   },
   "outputs": [
    {
     "name": "stdout",
     "output_type": "stream",
     "text": [
      "[('the', 150), ('of', 81), ('to', 63), ('a', 60), ('in', 44), ('and', 41), ('debugging', 40), ('for', 26), ('is', 25), ('or', 25)]\n"
     ]
    }
   ],
   "source": [
    "check_most_common(alpha_only, 10)"
   ]
  },
  {
   "cell_type": "code",
   "execution_count": 23,
   "metadata": {
    "ExecuteTime": {
     "end_time": "2020-04-26T17:04:16.330049Z",
     "start_time": "2020-04-26T17:04:16.135463Z"
    }
   },
   "outputs": [
    {
     "name": "stdout",
     "output_type": "stream",
     "text": [
      "['debugging', 'process', 'finding', 'resolving', 'defects', 'prevent', 'correct', 'operation', 'computer', 'software']\n",
      "1271\n",
      "Before:  15854\n",
      "Alpha  13012\n",
      "After  9791\n"
     ]
    }
   ],
   "source": [
    "from nltk.corpus import stopwords\n",
    "\n",
    "# Remove all stop words: no_stops\n",
    "no_stops = [t for t in alpha_only if t not in stopwords.words('english')]\n",
    "print(no_stops[:10])\n",
    "print(len(no_stops))\n",
    "stop = ' '.join(no_stops)\n",
    "\n",
    "print(\"Before: \", len(article))\n",
    "print(\"Alpha \", len(alpha))\n",
    "print(\"After \", len(stop))"
   ]
  },
  {
   "cell_type": "code",
   "execution_count": 31,
   "metadata": {
    "ExecuteTime": {
     "end_time": "2020-04-26T17:07:54.482630Z",
     "start_time": "2020-04-26T17:07:54.473651Z"
    }
   },
   "outputs": [
    {
     "name": "stdout",
     "output_type": "stream",
     "text": [
      "[('debugging', 40), ('system', 19), ('software', 16), ('tools', 14), ('process', 12), ('computer', 12), ('used', 12), ('bug', 11), ('http', 11), ('term', 11)]\n"
     ]
    }
   ],
   "source": [
    "check_most_common(no_stops, 10)"
   ]
  },
  {
   "cell_type": "markdown",
   "metadata": {},
   "source": [
    "# WordNetLemmatizer"
   ]
  },
  {
   "cell_type": "code",
   "execution_count": 37,
   "metadata": {
    "ExecuteTime": {
     "end_time": "2020-04-26T17:15:33.839138Z",
     "start_time": "2020-04-26T17:15:33.817118Z"
    }
   },
   "outputs": [
    {
     "name": "stdout",
     "output_type": "stream",
     "text": [
      "['debugging', 'process', 'finding', 'resolving', 'defect', 'prevent', 'correct', 'operation', 'computer', 'software']\n",
      "1271\n",
      "Before:  15854\n",
      "Alpha  13012\n",
      "Stop  9791\n",
      "Lemma  9613\n"
     ]
    }
   ],
   "source": [
    "from nltk.stem import WordNetLemmatizer\n",
    "\n",
    "net = WordNetLemmatizer()\n",
    "lemma = [net.lemmatize(s) for s in no_stops]\n",
    "\n",
    "\n",
    "print(lemma[:10])\n",
    "print(len(lemma))\n",
    "lemmas = ' '.join(lemma)\n",
    "\n",
    "print(\"Before: \", len(article))\n",
    "print(\"Alpha \", len(alpha))\n",
    "print(\"Stop \", len(stop))\n",
    "print(\"Lemma \", len(lemmas))"
   ]
  },
  {
   "cell_type": "code",
   "execution_count": 43,
   "metadata": {
    "ExecuteTime": {
     "end_time": "2020-04-26T17:17:06.951470Z",
     "start_time": "2020-04-26T17:17:06.938566Z"
    }
   },
   "outputs": [
    {
     "data": {
      "text/plain": [
       "'process'"
      ]
     },
     "execution_count": 43,
     "metadata": {},
     "output_type": "execute_result"
    }
   ],
   "source": [
    "net.lemmatize(\"process\")"
   ]
  },
  {
   "cell_type": "code",
   "execution_count": 38,
   "metadata": {
    "ExecuteTime": {
     "end_time": "2020-04-26T17:16:02.886057Z",
     "start_time": "2020-04-26T17:16:02.874336Z"
    }
   },
   "outputs": [
    {
     "name": "stdout",
     "output_type": "stream",
     "text": [
      "[('debugging', 40), ('system', 25), ('bug', 17), ('software', 16), ('problem', 15), ('tool', 15), ('computer', 14), ('process', 13), ('term', 13), ('debugger', 13)]\n"
     ]
    }
   ],
   "source": [
    "check_most_common(lemma, 10)"
   ]
  },
  {
   "cell_type": "code",
   "execution_count": 45,
   "metadata": {
    "ExecuteTime": {
     "end_time": "2020-04-26T17:19:40.444765Z",
     "start_time": "2020-04-26T17:19:40.437089Z"
    }
   },
   "outputs": [
    {
     "name": "stdout",
     "output_type": "stream",
     "text": [
      "debugging process finding resolving defects prevent correct operation computer software system numerous books written debugging see reading involves numerous aspects including interactive debugging control flow integration testing files monitoring application system memory dumps profiling computer programming statistical process control special design tactics improve detection simplifying changes origin computer log entry mark nbsp ii moth taped page terms bug debugging popularly attributed admiral grace hopper http grace hopper foldoc working harvard mark ii computer harvard university associates discovered moth stuck relay thereby impeding operation whereupon remarked debugging system however term bug meaning technical error dates back least thomas edison see software bug full discussion debugging seems used term aeronautics entering world computers indeed interview grace hopper remarked coining term citation moth fit already existing terminology saved letter robert oppenheimer director wwii atomic bomb manhattan project los alamos nm used term letter ernest lawrence uc berkeley dated october http regarding recruitment additional technical staff oxford english dictionary entry debug quotes term debugging used reference airplane engine testing article journal royal aeronautical society article airforce june nbsp also refers debugging time aircraft cameras hopper computer found september term adopted computer programmers early seminal article gills gill http diagnosis mistakes programmes edsac proceedings royal society london series mathematical physical sciences vol may pp earliest discussion programming errors use term bug debugging association computing digital library term debugging first used three papers acm national campbell http evolution automatic computation proceedings acm national meeting pittsburgh p orden http solution systems linear inequalities digital computer proceedings acm national meeting pittsburgh demuth john jackson edmund klein metropolis walter orvedahl james richardson http maniac proceedings acm national meeting toronto two three use term quotation marks debugging common enough term mentioned passing without explanation page compatible manual http compatible system press kidwell article stalking elusive computer bug peggy aldrich kidwell http stalking elusive computer bug ieee annals history computing discusses etymology bug debug greater detail scope software electronic systems become generally complex various common debugging techniques expanded methods detect anomalies assess impact schedule software patches full updates system words anomaly discrepancy used neutral terms avoid words error defect bug might implication errors defects bugs must fixed costs instead impact assessment made determine changes remove anomaly discrepancy would system perhaps scheduled new release might render change unnecessary issues system also important avoid situation change might upsetting users living known problem cure would worse disease basing decisions acceptability anomalies avoid culture mandate people might tempted deny existence problems result would appear zero defects considering collateral issues impact assessment broader debugging techniques expand determine frequency anomalies often bugs occur help assess impact overall system tools debugging video game consoles usually done special hardware xbox console debug unit intended developers debugging ranges complexity fixing simple errors performing lengthy tiresome tasks data collection analysis scheduling updates debugging skill programmer major factor ability debug problem difficulty software debugging varies greatly complexity system also depends extent programming language used available tools debuggers debuggers software tools enable programmer monitor execution computers program stop restart set breakpoints change values memory term debugger also refer person debugging generally programming languages java programming language make debugging easier features exception handling make real sources erratic behaviour easier spot programming languages c programming language assembly bugs may cause silent problems memory corruption often difficult see initial problem happened cases memory debugger tools may needed certain situations general purpose software tools language specific nature useful take form list tools static code code analysis tools tools look specific set known problems common rare within source code issues detected tools would rarely picked compiler interpreter thus syntax checkers semantic checkers tools claim able detect unique problems commercial free tools exist various languages tools extremely useful checking large source trees impractical code walkthroughs typical example problem detected would variable dereference occurs variable assigned value another example would perform strong type checking language require thus better locating likely errors versus actual errors result tools reputation false positives old unix lint programming program early example debugging electronic hardware computer hardware well software bioses device drivers firmware instruments oscilloscopes logic analyzers emulators ices often used alone combination ice may perform many typical software debugger tasks software firmware debugging process normally first step debugging attempt reproduce problem task example parallel processes unusual software bugs also specific user environment usage history make difficult reproduce problem bug reproduced input program may need simplified make easier debug example bug compiler make crash computing parsing large source file however simplification test case lines original source file sufficient reproduce crash simplification made manually using divide conquer approach programmer try remove parts original test case check problem still exists debugging problem graphical user programmer try skip user interaction original problem description check remaining actions sufficient bugs appear test case sufficiently simplified programmer use debugger tool examine program states values variables plus call stack track origin problem alternatively tracing software used simple cases tracing print statements output values variables certain points program execution citation techniques interactive debugging visible debugging tracing act watching live recorded trace statements print statements indicate flow execution process sometimes called visible debugging due use printf function kind debugging turned command tron original versions basic programming language tron stood trace tron caused line numbers basic command line print program ran debugging process debugging program running system different debugger start remote debugging debugger connects remote system network debugger control execution program remote system retrieve information state debugging debugging program already crash computing related techniques often include various tracing techniques example http postmortem debugging stephen wormuller dobbs journal analysis memory dump core dump crashed process dump process could obtained automatically system example process terminated due unhandled exception instruction manually interactive user wolf fence algorithm edward gauss described simple useful famous algorithm article communications acm follows one wolf alaska find first build fence middle state wait wolf howl determine side fence repeat process side get point see wolf ref communications acm cite journal pracniques wolf fence algorithm debugging gauss implemented git software version control system command git bisect uses algorithm determine commit data management introduced particular bug debugging snd technique automating test case zeller cite programs fail guide systematic debugging morgan kaufmann isbn redirect squeeze saff squeeze snd technique isolating failure within test using progressive inlining parts failing test http kent beck hit high hit low regression testing saff squeeze debugging embedded systems contrast general purpose computer software design environment primary characteristic embedded environments sheer number different platforms available developers cpu architectures vendors operating systems variants embedded systems definition designs typically developed single task small range tasks platform chosen specifically optimize application fact make life tough embedded system developers also makes debugging testing systems harder well since different debugging tools needed different platforms identify fix bugs system logical synchronization problems code design error hardware collect information operating states system may used analyze system find ways boost performance optimize important characteristics energy consumption reliability response implementation one techniques within computer code hinders attempts reverse engineering debugging target process ref cite web series part actively used recognized publishers copy schemas also used malware complicate detection ref http software protection michael n gagnon stephen taylor anup ghosh techniques used include check existence debugger using system information check see exceptions interfered process thread blocks check whether process thread blocks manipulated modified code check code modifications made debugger handling software breakpoints check hardware breakpoints cpu registers timing latency check time taken execution instructions detecting penalizing debugger ref reference exist early example existed early versions microsoft word debugger detected produced message said tree evil bears bitter fruit trashing program disk caused floppy disk drive emit alarming noises intent scaring user away attempting ref securityengineeringra cite book anderson engineering isbn ref toastytech cite web word dos\n"
     ]
    }
   ],
   "source": [
    "print(stop)"
   ]
  },
  {
   "cell_type": "code",
   "execution_count": 44,
   "metadata": {
    "ExecuteTime": {
     "end_time": "2020-04-26T17:19:13.944319Z",
     "start_time": "2020-04-26T17:19:13.934239Z"
    }
   },
   "outputs": [
    {
     "name": "stdout",
     "output_type": "stream",
     "text": [
      "debugging process finding resolving defect prevent correct operation computer software system numerous book written debugging see reading involves numerous aspect including interactive debugging control flow integration testing file monitoring application system memory dump profiling computer programming statistical process control special design tactic improve detection simplifying change origin computer log entry mark nbsp ii moth taped page term bug debugging popularly attributed admiral grace hopper http grace hopper foldoc working harvard mark ii computer harvard university associate discovered moth stuck relay thereby impeding operation whereupon remarked debugging system however term bug meaning technical error date back least thomas edison see software bug full discussion debugging seems used term aeronautics entering world computer indeed interview grace hopper remarked coining term citation moth fit already existing terminology saved letter robert oppenheimer director wwii atomic bomb manhattan project los alamo nm used term letter ernest lawrence uc berkeley dated october http regarding recruitment additional technical staff oxford english dictionary entry debug quote term debugging used reference airplane engine testing article journal royal aeronautical society article airforce june nbsp also refers debugging time aircraft camera hopper computer found september term adopted computer programmer early seminal article gill gill http diagnosis mistake programme edsac proceeding royal society london series mathematical physical science vol may pp earliest discussion programming error use term bug debugging association computing digital library term debugging first used three paper acm national campbell http evolution automatic computation proceeding acm national meeting pittsburgh p orden http solution system linear inequality digital computer proceeding acm national meeting pittsburgh demuth john jackson edmund klein metropolis walter orvedahl james richardson http maniac proceeding acm national meeting toronto two three use term quotation mark debugging common enough term mentioned passing without explanation page compatible manual http compatible system press kidwell article stalking elusive computer bug peggy aldrich kidwell http stalking elusive computer bug ieee annals history computing discus etymology bug debug greater detail scope software electronic system become generally complex various common debugging technique expanded method detect anomaly ass impact schedule software patch full update system word anomaly discrepancy used neutral term avoid word error defect bug might implication error defect bug must fixed cost instead impact assessment made determine change remove anomaly discrepancy would system perhaps scheduled new release might render change unnecessary issue system also important avoid situation change might upsetting user living known problem cure would worse disease basing decision acceptability anomaly avoid culture mandate people might tempted deny existence problem result would appear zero defect considering collateral issue impact assessment broader debugging technique expand determine frequency anomaly often bug occur help ass impact overall system tool debugging video game console usually done special hardware xbox console debug unit intended developer debugging range complexity fixing simple error performing lengthy tiresome task data collection analysis scheduling update debugging skill programmer major factor ability debug problem difficulty software debugging varies greatly complexity system also depends extent programming language used available tool debugger debugger software tool enable programmer monitor execution computer program stop restart set breakpoints change value memory term debugger also refer person debugging generally programming language java programming language make debugging easier feature exception handling make real source erratic behaviour easier spot programming language c programming language assembly bug may cause silent problem memory corruption often difficult see initial problem happened case memory debugger tool may needed certain situation general purpose software tool language specific nature useful take form list tool static code code analysis tool tool look specific set known problem common rare within source code issue detected tool would rarely picked compiler interpreter thus syntax checker semantic checker tool claim able detect unique problem commercial free tool exist various language tool extremely useful checking large source tree impractical code walkthroughs typical example problem detected would variable dereference occurs variable assigned value another example would perform strong type checking language require thus better locating likely error versus actual error result tool reputation false positive old unix lint programming program early example debugging electronic hardware computer hardware well software bioses device driver firmware instrument oscilloscope logic analyzer emulator ice often used alone combination ice may perform many typical software debugger task software firmware debugging process normally first step debugging attempt reproduce problem task example parallel process unusual software bug also specific user environment usage history make difficult reproduce problem bug reproduced input program may need simplified make easier debug example bug compiler make crash computing parsing large source file however simplification test case line original source file sufficient reproduce crash simplification made manually using divide conquer approach programmer try remove part original test case check problem still exists debugging problem graphical user programmer try skip user interaction original problem description check remaining action sufficient bug appear test case sufficiently simplified programmer use debugger tool examine program state value variable plus call stack track origin problem alternatively tracing software used simple case tracing print statement output value variable certain point program execution citation technique interactive debugging visible debugging tracing act watching live recorded trace statement print statement indicate flow execution process sometimes called visible debugging due use printf function kind debugging turned command tron original version basic programming language tron stood trace tron caused line number basic command line print program ran debugging process debugging program running system different debugger start remote debugging debugger connects remote system network debugger control execution program remote system retrieve information state debugging debugging program already crash computing related technique often include various tracing technique example http postmortem debugging stephen wormuller dobbs journal analysis memory dump core dump crashed process dump process could obtained automatically system example process terminated due unhandled exception instruction manually interactive user wolf fence algorithm edward gauss described simple useful famous algorithm article communication acm follows one wolf alaska find first build fence middle state wait wolf howl determine side fence repeat process side get point see wolf ref communication acm cite journal pracniques wolf fence algorithm debugging gauss implemented git software version control system command git bisect us algorithm determine commit data management introduced particular bug debugging snd technique automating test case zeller cite program fail guide systematic debugging morgan kaufmann isbn redirect squeeze saff squeeze snd technique isolating failure within test using progressive inlining part failing test http kent beck hit high hit low regression testing saff squeeze debugging embedded system contrast general purpose computer software design environment primary characteristic embedded environment sheer number different platform available developer cpu architecture vendor operating system variant embedded system definition design typically developed single task small range task platform chosen specifically optimize application fact make life tough embedded system developer also make debugging testing system harder well since different debugging tool needed different platform identify fix bug system logical synchronization problem code design error hardware collect information operating state system may used analyze system find way boost performance optimize important characteristic energy consumption reliability response implementation one technique within computer code hinders attempt reverse engineering debugging target process ref cite web series part actively used recognized publisher copy schema also used malware complicate detection ref http software protection michael n gagnon stephen taylor anup ghosh technique used include check existence debugger using system information check see exception interfered process thread block check whether process thread block manipulated modified code check code modification made debugger handling software breakpoints check hardware breakpoints cpu register timing latency check time taken execution instruction detecting penalizing debugger ref reference exist early example existed early version microsoft word debugger detected produced message said tree evil bear bitter fruit trashing program disk caused floppy disk drive emit alarming noise intent scaring user away attempting ref securityengineeringra cite book anderson engineering isbn ref toastytech cite web word do\n"
     ]
    }
   ],
   "source": [
    "print(lemmas)"
   ]
  },
  {
   "cell_type": "markdown",
   "metadata": {},
   "source": [
    "# Remove with Reg patters"
   ]
  },
  {
   "cell_type": "code",
   "execution_count": 109,
   "metadata": {
    "ExecuteTime": {
     "end_time": "2020-04-26T18:19:26.528028Z",
     "start_time": "2020-04-26T18:19:26.523144Z"
    }
   },
   "outputs": [],
   "source": [
    "import re\n",
    "\n",
    "out = re.sub(\"<[^>]+>\",'',article)\n",
    "article_up = out"
   ]
  },
  {
   "cell_type": "code",
   "execution_count": 112,
   "metadata": {
    "ExecuteTime": {
     "end_time": "2020-04-26T18:20:20.346623Z",
     "start_time": "2020-04-26T18:20:20.342152Z"
    }
   },
   "outputs": [],
   "source": [
    "out = re.sub(\"{{.*(\\w+)}}\",'',article_up)\n",
    "article_up = out"
   ]
  },
  {
   "cell_type": "code",
   "execution_count": 113,
   "metadata": {
    "ExecuteTime": {
     "end_time": "2020-04-26T18:24:34.888390Z",
     "start_time": "2020-04-26T18:24:34.880129Z"
    }
   },
   "outputs": [],
   "source": [
    "pa = \"\\(.*(\\w+)\\)\"\n",
    "\n",
    "out = re.sub(pa,'',article_up)\n",
    "article_up = out"
   ]
  },
  {
   "cell_type": "code",
   "execution_count": 115,
   "metadata": {
    "ExecuteTime": {
     "end_time": "2020-04-26T18:25:30.325175Z",
     "start_time": "2020-04-26T18:25:30.313027Z"
    }
   },
   "outputs": [],
   "source": [
    "pa = \"\\[.*(\\w+)\\]\"\n",
    "\n",
    "out = re.sub(pa,'',article_up)\n",
    "article_up = out"
   ]
  },
  {
   "cell_type": "code",
   "execution_count": 116,
   "metadata": {
    "ExecuteTime": {
     "end_time": "2020-04-26T18:25:32.572461Z",
     "start_time": "2020-04-26T18:25:32.560451Z"
    }
   },
   "outputs": [
    {
     "data": {
      "text/plain": [
       "'\\'\\'\\'Debugging\\'\\'\\' is the process of finding and resolving of defects that prevent correct operation of computer software or a system.  \\n\\nNumerous books have been written about debugging |profiling, Statistical Process Control, and special design tactics to improve detection while simplifying changes.\\n\\nOrigin\\nA computer log entry from the Mark&nbsp;II, with a moth taped to the page\\n\\nThe terms \"bug\" and \"debugging\" are popularly attributed to Admiral Grace Hopper in the 1940s.  from FOLDOC While she was working on a Harvard Mark II|Mark II Computer at Harvard University, her associates discovered a moth stuck in a relay and thereby impeding operation, whereupon she remarked that they were \"debugging\" the system. However the term \"bug\" in the meaning of technical error dates back at least to 1878 and Thomas Edison  used the term in a letter to Dr. Ernest Lawrence at UC Berkeley, dated October 27, 1944,http://bancroft.berkeley.edu/Exhibits/physics/images/bigscience25.jpg regarding the recruitment of additional technical staff.\\n\\nThe Oxford English Dictionary entry for \"debug\" quotes the term \"debugging\" used in reference to airplane engine testing in a 1945 article in the Journal of the Royal Aeronautical Society. An article in \"Airforce\"  also refers to debugging, this time of aircraft cameras.  Hopper\\'s computer bug|bug was found on September 9, 1947. The term was not adopted by computer programmers until the early 1950s.\\nThe seminal article by GillS. Gill, , Proceedings of the Royal Society of London. Series A, Mathematical and Physical Sciences, Vol. 206, No. 1087 , pp. 538-554 in 1951 is the earliest in-depth discussion of programming errors, but it does not use the term \"bug\" or \"debugging\".\\nIn the Association for Computing Machinery|ACM\\'s digital library, the term \"debugging\" is first used in three papers from 1952 ACM National Meetings.Robert V. D. Campbell, , Proceedings of the 1952 ACM national meeting , p. 13-16 Two of the three use the term in quotation marks.\\nBy 1963 \"debugging\" was a common enough term to be mentioned in passing without explanation on page 1 of the Compatible Time-Sharing System|CTSS manual., M.I.T. Press, 1963\\n\\nKidwell\\'s article \\'\\'Stalking the Elusive Computer Bug\\'\\'Peggy Aldrich Kidwell, , IEEE Annals of the History of Computing, 1998. discusses the etymology of \"bug\" and \"debug\" in greater detail.\\n\\nScope\\nAs software and electronic systems have become generally more complex, the various common debugging techniques have expanded with more methods to detect anomalies, assess impact, and schedule software patches or full updates to a system. The words \"anomaly\" and \"discrepancy\" can be used, as being more neutral terms, to avoid the words \"error\" and \"defect\" or \"bug\" where there might be an implication that all so-called \\'\\'errors\\'\\', \\'\\'defects\\'\\' or \\'\\'bugs\\'\\' must be fixed  to help assess their impact to the overall system.\\n\\nTools\\nDebugging on video game consoles is usually done with special hardware such as this Xbox |Xbox debug unit intended for developers.\\n\\nDebugging ranges in complexity from fixing simple errors to performing lengthy and tiresome tasks of data collection, analysis, and scheduling updates.  The debugging skill of the programmer can be a major factor in the ability to debug a problem, but the difficulty of software debugging varies greatly with the complexity of the system, and also depends, to some extent, on the programming language|execution of a program, stop it, restart it, set breakpoints, and change values in memory. The term \\'\\'debugger\\'\\' can also refer to the person who is doing the debugging.\\n\\nGenerally, high-level programming languages, such as Java |C or assembly language|assembly, bugs may cause silent problems such as memory corruption, and it is often difficult to see where the initial problem happened. In those cases, memory debugging|memory debugger tools may be needed.\\n\\nIn certain situations, general purpose software tools that are language specific in nature can be very useful.  These take the form of \\'\\'List of tools for static code analysis|static code analysis tools\\'\\'.  These tools look for a very specific set of known problems, some common and some rare, within the source code.  All such issues detected by these tools would rarely be picked up by a compiler or interpreter, thus they are not syntax checkers, but more semantic checkers.  Some tools claim to be able to detect 300+ unique problems. Both commercial and free tools exist in various languages.  These tools can be extremely useful when checking very large source trees, where it is impractical to do code walkthroughs.  A typical example of a problem detected would be a variable dereference that occurs \\'\\'before\\'\\' the variable is assigned a value.  Another example would be to perform strong type checking when the language does not require such.  Thus, they are better at locating likely errors, versus actual errors.  As a result, these tools have a reputation of false positives.  The old Unix \\'\\'Lint programming tool|lint\\'\\' program is an early example.\\n\\nFor debugging electronic hardware  are often used, alone or in combination.  An ICE may perform many of the typical software debugger\\'s tasks on low-level software and firmware.\\n\\nDebugging process \\nNormally the first step in debugging is to attempt to reproduce the problem. This can be a non-trivial task, for example as with Parallel computing|parallel processes or some unusual software bugs. Also, specific user environment and usage history can make it difficult to reproduce the problem.\\n\\nAfter the bug is reproduced, the input of the program may need to be simplified to make it easier to debug. For example, a bug in a compiler can make it Crash |crash when parsing some large source file. However, after simplification of the test case, only few lines from the original source file can be sufficient to reproduce the same crash. Such simplification can be made manually, using a Divide and conquer algorithm|divide-and-conquer approach. The programmer will try to remove some parts of original test case and check if the problem still exists. When debugging the problem in a Graphical user interface|GUI, the programmer can try to skip some user interaction from the original problem description and check if remaining actions are sufficient for bugs to appear.\\n\\nAfter the test case is sufficiently simplified, a programmer can use a debugger tool to examine program states |tracing can be used. In simple cases, tracing is just a few print statements, which output the values of variables at certain points of program execution.\\n\\n Techniques \\n \\'\\'Interactive debugging\\'\\'\\n \\'\\'\\'\\', due to the use of the printf function in C. This kind of debugging was turned on by the command TRON in the original versions of the novice-oriented BASIC programming language. TRON stood for, \"Trace On.\" TRON caused the line numbers of each BASIC command line to print as the program ran.\\n \\'\\'Remote debugging\\'\\' is the process of debugging a program running on a system different from the debugger. To start remote debugging, a debugger connects to a remote system over a network. The debugger can then control the execution of the program on the remote system and retrieve information about its state.\\n \\'\\'Post-mortem debugging\\'\\' is debugging of the program after it has already Crash , or by a programmer-inserted instruction, or manually by the interactive user.\\n \\'\\'\"Wolf fence\" algorithm:\\'\\' Edward Gauss described this simple but very useful and now famous algorithm in a 1982 article for communications of the ACM as follows: \"There\\'s one wolf in Alaska; how do you find it? First build a fence down the middle of the state, wait for the wolf to howl, determine which side of the fence it is on. Repeat process on that side only, until you get to the point where you can see the wolf.\" This is implemented e.g. in the Git |commit introduced a particular bug.\\n \\'\\'Delta Debugging\\'\\'\\n \\'\\'Saff Squeeze\\'\\' a technique of isolating failure within the test using progressive inlining of parts of the failing test.\\n\\nDebugging for embedded systems\\nIn contrast to the general purpose computer software design environment, a primary characteristic of embedded environments is the sheer number of different platforms available to the developers , and the platform is chosen specifically to optimize that application. Not only does this fact make life tough for embedded system developers, it also makes debugging and testing of these systems harder as well, since different debugging tools are needed in different platforms.\\n\\nto identify and fix bugs in the system ;\\nto collect information about the operating states of the system that may then be used to analyze the system: to find ways to boost its performance or to optimize other important characteristics (e.g. energy consumption, reliability, real-time response etc.).\\n\\nAnti-debugging\\nAnti-debugging is \"the implementation of one or more techniques within computer code that hinders attempts at reverse engineering or debugging a target process\". It is actively used by recognized publishers in copy protection|copy-protection schemas, but is also used by malware to complicate its detection and elimination. Techniques used in anti-debugging include:\\nAPI-based: check for the existence of a debugger using system information\\nException-based: check to see if exceptions are interfered with\\nProcess and thread blocks: check whether process and thread blocks have been manipulated\\nModified code: check for code modifications made by a debugger handling software breakpoints\\nHardware- and register-based: check for hardware breakpoints and CPU registers\\nTiming and latency: check the time taken for the execution of instructions\\nDetecting and penalizing debugger\\n\\nAn early example of anti-debugging existed in early versions of Microsoft Word which, if a debugger was detected, produced a message that said: \"The tree of evil bears bitter fruit. Now trashing program disk.\", after which it caused the floppy disk drive to emit alarming noises with the intent of scaring the user away from attempting it again.\\n'"
      ]
     },
     "execution_count": 116,
     "metadata": {},
     "output_type": "execute_result"
    }
   ],
   "source": [
    "article_up"
   ]
  },
  {
   "cell_type": "markdown",
   "metadata": {
    "ExecuteTime": {
     "end_time": "2020-04-26T18:14:40.447751Z",
     "start_time": "2020-04-26T18:14:40.440674Z"
    }
   },
   "source": [
    "# Tokenize"
   ]
  },
  {
   "cell_type": "code",
   "execution_count": 118,
   "metadata": {
    "ExecuteTime": {
     "end_time": "2020-04-26T18:26:43.272251Z",
     "start_time": "2020-04-26T18:26:43.238577Z"
    }
   },
   "outputs": [
    {
     "name": "stdout",
     "output_type": "stream",
     "text": [
      "[\"'\", \"''\", 'debugging', \"''\", \"'\", 'is', 'the', 'process', 'of', 'finding']\n"
     ]
    },
    {
     "data": {
      "text/plain": [
       "1840"
      ]
     },
     "execution_count": 118,
     "metadata": {},
     "output_type": "execute_result"
    }
   ],
   "source": [
    "tokens = word_tokenize(article_up.lower())\n",
    "print(tokens[:10])\n",
    "len(tokens)"
   ]
  },
  {
   "cell_type": "code",
   "execution_count": 119,
   "metadata": {
    "ExecuteTime": {
     "end_time": "2020-04-26T18:26:56.974723Z",
     "start_time": "2020-04-26T18:26:56.966069Z"
    }
   },
   "outputs": [
    {
     "name": "stdout",
     "output_type": "stream",
     "text": [
      "[('the', 107), (',', 86), ('.', 71), ('of', 56), ('to', 51), ('a', 46), (\"''\", 41), ('in', 37), ('and', 35), ('``', 34)]\n"
     ]
    }
   ],
   "source": [
    "check_most_common(tokens, 10)"
   ]
  },
  {
   "cell_type": "code",
   "execution_count": 121,
   "metadata": {
    "ExecuteTime": {
     "end_time": "2020-04-26T18:27:33.602941Z",
     "start_time": "2020-04-26T18:27:33.591116Z"
    }
   },
   "outputs": [
    {
     "name": "stdout",
     "output_type": "stream",
     "text": [
      "['debugging', 'is', 'the', 'process', 'of', 'finding', 'and', 'resolving', 'of', 'defects']\n",
      "1510\n",
      "Before:  10100\n",
      "After  9018\n"
     ]
    }
   ],
   "source": [
    "alpha_only = [t for t in tokens if t.isalpha()]\n",
    "print(alpha_only[:10])\n",
    "print(len(alpha_only))\n",
    "alpha = ' '.join(alpha_only)\n",
    "\n",
    "print(\"Before: \", len(article_up))\n",
    "print(\"After \", len(alpha))"
   ]
  },
  {
   "cell_type": "code",
   "execution_count": 123,
   "metadata": {
    "ExecuteTime": {
     "end_time": "2020-04-26T18:27:50.454535Z",
     "start_time": "2020-04-26T18:27:50.446503Z"
    }
   },
   "outputs": [
    {
     "name": "stdout",
     "output_type": "stream",
     "text": [
      "[('the', 107), ('of', 56), ('to', 51), ('a', 46), ('in', 37), ('and', 35), ('debugging', 31), ('is', 22), ('for', 18), ('be', 18)]\n"
     ]
    }
   ],
   "source": [
    "check_most_common(alpha_only, 10)"
   ]
  },
  {
   "cell_type": "code",
   "execution_count": 124,
   "metadata": {
    "ExecuteTime": {
     "end_time": "2020-04-26T18:28:30.808099Z",
     "start_time": "2020-04-26T18:28:30.670413Z"
    }
   },
   "outputs": [
    {
     "name": "stdout",
     "output_type": "stream",
     "text": [
      "['debugging', 'process', 'finding', 'resolving', 'defects', 'prevent', 'correct', 'operation', 'computer', 'software']\n",
      "862\n",
      "Before:  15854\n",
      "Alpha  9018\n",
      "After  6627\n"
     ]
    }
   ],
   "source": [
    "# Remove all stop words: no_stops\n",
    "no_stops = [t for t in alpha_only if t not in stopwords.words('english')]\n",
    "print(no_stops[:10])\n",
    "print(len(no_stops))\n",
    "stop = ' '.join(no_stops)\n",
    "\n",
    "print(\"Before: \", len(article))\n",
    "print(\"Alpha \", len(alpha))\n",
    "print(\"After \", len(stop))"
   ]
  },
  {
   "cell_type": "code",
   "execution_count": 125,
   "metadata": {
    "ExecuteTime": {
     "end_time": "2020-04-26T18:28:54.692619Z",
     "start_time": "2020-04-26T18:28:54.685108Z"
    }
   },
   "outputs": [
    {
     "name": "stdout",
     "output_type": "stream",
     "text": [
      "[('debugging', 31), ('system', 13), ('tools', 12), ('debugger', 11), ('software', 10), ('used', 10), ('program', 10), ('bug', 9), ('term', 9), ('process', 8)]\n"
     ]
    }
   ],
   "source": [
    "check_most_common(no_stops, 10)"
   ]
  },
  {
   "cell_type": "code",
   "execution_count": 126,
   "metadata": {
    "ExecuteTime": {
     "end_time": "2020-04-26T18:29:22.425434Z",
     "start_time": "2020-04-26T18:29:22.405956Z"
    }
   },
   "outputs": [
    {
     "name": "stdout",
     "output_type": "stream",
     "text": [
      "['debugging', 'process', 'finding', 'resolving', 'defect', 'prevent', 'correct', 'operation', 'computer', 'software']\n",
      "862\n",
      "Before:  15854\n",
      "Alpha  9018\n",
      "Stop  6627\n",
      "Lemma  6508\n"
     ]
    }
   ],
   "source": [
    "from nltk.stem import WordNetLemmatizer\n",
    "\n",
    "net = WordNetLemmatizer()\n",
    "lemma = [net.lemmatize(s) for s in no_stops]\n",
    "\n",
    "\n",
    "print(lemma[:10])\n",
    "print(len(lemma))\n",
    "lemmas = ' '.join(lemma)\n",
    "\n",
    "print(\"Before: \", len(article))\n",
    "print(\"Alpha \", len(alpha))\n",
    "print(\"Stop \", len(stop))\n",
    "print(\"Lemma \", len(lemmas))"
   ]
  },
  {
   "cell_type": "code",
   "execution_count": 127,
   "metadata": {
    "ExecuteTime": {
     "end_time": "2020-04-26T18:29:35.931408Z",
     "start_time": "2020-04-26T18:29:35.925031Z"
    }
   },
   "outputs": [
    {
     "name": "stdout",
     "output_type": "stream",
     "text": [
      "[('debugging', 31), ('system', 13), ('tools', 12), ('debugger', 11), ('software', 10), ('used', 10), ('program', 10), ('bug', 9), ('term', 9), ('process', 8)]\n"
     ]
    }
   ],
   "source": [
    "check_most_common(no_stops, 10)"
   ]
  },
  {
   "cell_type": "code",
   "execution_count": 128,
   "metadata": {
    "ExecuteTime": {
     "end_time": "2020-04-26T18:29:47.612229Z",
     "start_time": "2020-04-26T18:29:47.604995Z"
    }
   },
   "outputs": [
    {
     "name": "stdout",
     "output_type": "stream",
     "text": [
      "'''Debugging''' is the process of finding and resolving of defects that prevent correct operation of computer software or a system.  \n",
      "\n",
      "Numerous books have been written about debugging (see below: #Further reading|Further reading), as it involves numerous aspects, including interactive debugging, control flow, integration testing, Logfile|log files, monitoring (Application monitoring|application, System Monitoring|system), memory dumps, Profiling (computer programming)|profiling, Statistical Process Control, and special design tactics to improve detection while simplifying changes.\n",
      "\n",
      "Origin\n",
      "A computer log entry from the Mark&nbsp;II, with a moth taped to the page\n",
      "\n",
      "The terms \"bug\" and \"debugging\" are popularly attributed to Admiral Grace Hopper in the 1940s.[http://foldoc.org/Grace+Hopper Grace Hopper]  from FOLDOC While she was working on a Harvard Mark II|Mark II Computer at Harvard University, her associates discovered a moth stuck in a relay and thereby impeding operation, whereupon she remarked that they were \"debugging\" the system. However the term \"bug\" in the meaning of technical error dates back at least to 1878 and Thomas Edison (see software bug for a full discussion), and \"debugging\" seems to have been used as a term in aeronautics before entering the world of computers. Indeed, in an interview Grace Hopper remarked that she was not coining the term{{Citation needed|date=July 2015}}. The moth fit the already existing terminology, so it was saved.  A letter from J. Robert Oppenheimer (director of the WWII atomic bomb \"Manhattan\" project at Los Alamos, NM) used the term in a letter to Dr. Ernest Lawrence at UC Berkeley, dated October 27, 1944,http://bancroft.berkeley.edu/Exhibits/physics/images/bigscience25.jpg regarding the recruitment of additional technical staff.\n",
      "\n",
      "The Oxford English Dictionary entry for \"debug\" quotes the term \"debugging\" used in reference to airplane engine testing in a 1945 article in the Journal of the Royal Aeronautical Society. An article in \"Airforce\" (June 1945 p.&nbsp;50) also refers to debugging, this time of aircraft cameras.  Hopper's computer bug|bug was found on September 9, 1947. The term was not adopted by computer programmers until the early 1950s.\n",
      "The seminal article by GillS. Gill, [http://www.jstor.org/stable/98663 The Diagnosis of Mistakes in Programmes on the EDSAC], Proceedings of the Royal Society of London. Series A, Mathematical and Physical Sciences, Vol. 206, No. 1087 (May 22, 1951), pp. 538-554 in 1951 is the earliest in-depth discussion of programming errors, but it does not use the term \"bug\" or \"debugging\".\n",
      "In the Association for Computing Machinery|ACM's digital library, the term \"debugging\" is first used in three papers from 1952 ACM National Meetings.Robert V. D. Campbell, [http://portal.acm.org/citation.cfm?id=609784.609786 Evolution of automatic computation], Proceedings of the 1952 ACM national meeting (Pittsburgh), p 29-32, 1952.Alex Orden, [http://portal.acm.org/citation.cfm?id=609784.609793 Solution of systems of linear inequalities on a digital computer], Proceedings of the 1952 ACM national meeting (Pittsburgh), p. 91-95, 1952.Howard B. Demuth, John B. Jackson, Edmund Klein, N. Metropolis, Walter Orvedahl, James H. Richardson, [http://portal.acm.org/citation.cfm?id=800259.808982 MANIAC], Proceedings of the 1952 ACM national meeting (Toronto), p. 13-16 Two of the three use the term in quotation marks.\n",
      "By 1963 \"debugging\" was a common enough term to be mentioned in passing without explanation on page 1 of the Compatible Time-Sharing System|CTSS manual.[http://www.bitsavers.org/pdf/mit/ctss/CTSS_ProgrammersGuide.pdf The Compatible Time-Sharing System], M.I.T. Press, 1963\n",
      "\n",
      "Kidwell's article ''Stalking the Elusive Computer Bug''Peggy Aldrich Kidwell, [http://ieeexplore.ieee.org/xpl/freeabs_all.jsp?tp=&arnumber=728224&isnumber=15706 Stalking the Elusive Computer Bug], IEEE Annals of the History of Computing, 1998. discusses the etymology of \"bug\" and \"debug\" in greater detail.\n",
      "\n",
      "Scope\n",
      "As software and electronic systems have become generally more complex, the various common debugging techniques have expanded with more methods to detect anomalies, assess impact, and schedule software patches or full updates to a system. The words \"anomaly\" and \"discrepancy\" can be used, as being more neutral terms, to avoid the words \"error\" and \"defect\" or \"bug\" where there might be an implication that all so-called ''errors'', ''defects'' or ''bugs'' must be fixed (at all costs). Instead, an impact assessment can be made to determine if changes to remove an ''anomaly'' (or ''discrepancy'') would be cost-effective for the system, or perhaps a scheduled new release might render the change(s) unnecessary. Not all issues are life-critical or mission-critical in a system. Also, it is important to avoid the situation where a change might be more upsetting to users, long-term, than living with the known problem(s) (where the \"cure would be worse than the disease\"). Basing decisions of the acceptability of some anomalies can avoid a culture of a \"zero-defects\" mandate, where people might be tempted to deny the existence of problems so that the result would appear as zero ''defects''. Considering the collateral issues, such as the cost-versus-benefit impact assessment, then broader debugging techniques will expand to determine the frequency of anomalies (how often the same \"bugs\" occur) to help assess their impact to the overall system.\n",
      "\n",
      "Tools\n",
      "Debugging on video game consoles is usually done with special hardware such as this Xbox (console)|Xbox debug unit intended for developers.\n",
      "\n",
      "Debugging ranges in complexity from fixing simple errors to performing lengthy and tiresome tasks of data collection, analysis, and scheduling updates.  The debugging skill of the programmer can be a major factor in the ability to debug a problem, but the difficulty of software debugging varies greatly with the complexity of the system, and also depends, to some extent, on the programming language(s) used and the available tools, such as ''debuggers''. Debuggers are software tools which enable the programmer to monitor the execution (computers)|execution of a program, stop it, restart it, set breakpoints, and change values in memory. The term ''debugger'' can also refer to the person who is doing the debugging.\n",
      "\n",
      "Generally, high-level programming languages, such as Java (programming language)|Java, make debugging easier, because they have features such as exception handling that make real sources of erratic behaviour easier to spot. In programming languages such as C (programming language)|C or assembly language|assembly, bugs may cause silent problems such as memory corruption, and it is often difficult to see where the initial problem happened. In those cases, memory debugging|memory debugger tools may be needed.\n",
      "\n",
      "In certain situations, general purpose software tools that are language specific in nature can be very useful.  These take the form of ''List of tools for static code analysis|static code analysis tools''.  These tools look for a very specific set of known problems, some common and some rare, within the source code.  All such issues detected by these tools would rarely be picked up by a compiler or interpreter, thus they are not syntax checkers, but more semantic checkers.  Some tools claim to be able to detect 300+ unique problems. Both commercial and free tools exist in various languages.  These tools can be extremely useful when checking very large source trees, where it is impractical to do code walkthroughs.  A typical example of a problem detected would be a variable dereference that occurs ''before'' the variable is assigned a value.  Another example would be to perform strong type checking when the language does not require such.  Thus, they are better at locating likely errors, versus actual errors.  As a result, these tools have a reputation of false positives.  The old Unix ''Lint programming tool|lint'' program is an early example.\n",
      "\n",
      "For debugging electronic hardware (e.g., computer hardware) as well as low-level software (e.g., BIOSes, device drivers) and firmware, instruments such as oscilloscopes, logic analyzers or in-circuit emulator|in-circuit emulators (ICEs) are often used, alone or in combination.  An ICE may perform many of the typical software debugger's tasks on low-level software and firmware.\n",
      "\n",
      "Debugging process \n",
      "Normally the first step in debugging is to attempt to reproduce the problem. This can be a non-trivial task, for example as with Parallel computing|parallel processes or some unusual software bugs. Also, specific user environment and usage history can make it difficult to reproduce the problem.\n",
      "\n",
      "After the bug is reproduced, the input of the program may need to be simplified to make it easier to debug. For example, a bug in a compiler can make it Crash (computing)|crash when parsing some large source file. However, after simplification of the test case, only few lines from the original source file can be sufficient to reproduce the same crash. Such simplification can be made manually, using a Divide and conquer algorithm|divide-and-conquer approach. The programmer will try to remove some parts of original test case and check if the problem still exists. When debugging the problem in a Graphical user interface|GUI, the programmer can try to skip some user interaction from the original problem description and check if remaining actions are sufficient for bugs to appear.\n",
      "\n",
      "After the test case is sufficiently simplified, a programmer can use a debugger tool to examine program states (values of variables, plus the call stack) and track down the origin of the problem(s). Alternatively, Tracing (software)|tracing can be used. In simple cases, tracing is just a few print statements, which output the values of variables at certain points of program execution.{{citation needed|date=February 2016}}\n",
      "\n",
      " Techniques \n",
      " ''Interactive debugging''\n",
      " ''{{visible anchor|Print debugging}}'' (or tracing) is the act of watching (live or recorded) trace statements, or print statements, that indicate the flow of execution of a process. This is sometimes called ''{{visible anchor|printf debugging}}'', due to the use of the printf function in C. This kind of debugging was turned on by the command TRON in the original versions of the novice-oriented BASIC programming language. TRON stood for, \"Trace On.\" TRON caused the line numbers of each BASIC command line to print as the program ran.\n",
      " ''Remote debugging'' is the process of debugging a program running on a system different from the debugger. To start remote debugging, a debugger connects to a remote system over a network. The debugger can then control the execution of the program on the remote system and retrieve information about its state.\n",
      " ''Post-mortem debugging'' is debugging of the program after it has already Crash (computing)|crashed. Related techniques often include various tracing techniques (for example,[http://www.drdobbs.com/tools/185300443 Postmortem Debugging, Stephen Wormuller, Dr. Dobbs Journal, 2006]) and/or analysis of memory dump (or core dump) of the crashed process. The dump of the process could be obtained automatically by the system (for example, when process has terminated due to an unhandled exception), or by a programmer-inserted instruction, or manually by the interactive user.\n",
      " ''\"Wolf fence\" algorithm:'' Edward Gauss described this simple but very useful and now famous algorithm in a 1982 article for communications of the ACM as follows: \"There's one wolf in Alaska; how do you find it? First build a fence down the middle of the state, wait for the wolf to howl, determine which side of the fence it is on. Repeat process on that side only, until you get to the point where you can see the wolf.\"<ref name=\"communications of the ACM\">{{cite journal | title=\"Pracniques: The \"Wolf Fence\" Algorithm for Debugging\", | author=E. J. Gauss | year=1982}} This is implemented e.g. in the Git (software)|Git version control system as the command ''git bisect'', which uses the above algorithm to determine which Commit (data management)|commit introduced a particular bug.\n",
      " ''Delta Debugging''{{snd}} a technique of automating test case simplification.Andreas Zeller: <cite>Why Programs Fail: A Guide to Systematic Debugging</cite>, Morgan Kaufmann, 2005. ISBN 1-55860-866-4{{rp|p.123}}<!-- for redirect from 'Saff Squeeze' -->\n",
      " ''Saff Squeeze''{{snd}} a technique of isolating failure within the test using progressive inlining of parts of the failing test.[http://www.threeriversinstitute.org/HitEmHighHitEmLow.html Kent Beck, Hit 'em High, Hit 'em Low: Regression Testing and the Saff Squeeze]\n",
      "\n",
      "Debugging for embedded systems\n",
      "In contrast to the general purpose computer software design environment, a primary characteristic of embedded environments is the sheer number of different platforms available to the developers (CPU architectures, vendors, operating systems and their variants). Embedded systems are, by definition, not general-purpose designs: they are typically developed for a single task (or small range of tasks), and the platform is chosen specifically to optimize that application. Not only does this fact make life tough for embedded system developers, it also makes debugging and testing of these systems harder as well, since different debugging tools are needed in different platforms.\n",
      "\n",
      "to identify and fix bugs in the system (e.g. logical or synchronization problems in the code, or a design error in the hardware);\n",
      "to collect information about the operating states of the system that may then be used to analyze the system: to find ways to boost its performance or to optimize other important characteristics (e.g. energy consumption, reliability, real-time response etc.).\n",
      "\n",
      "Anti-debugging\n",
      "Anti-debugging is \"the implementation of one or more techniques within computer code that hinders attempts at reverse engineering or debugging a target process\".<ref name=\"veracode-antidebugging\">{{cite web |url=http://www.veracode.com/blog/2008/12/anti-debugging-series-part-i/ |title=Anti-Debugging Series - Part I |last=Shields |first=Tyler |date=2008-12-02 |work=Veracode |accessdate=2009-03-17}} It is actively used by recognized publishers in copy protection|copy-protection schemas, but is also used by malware to complicate its detection and elimination.<ref name=\"soft-prot\">[http://people.seas.harvard.edu/~mgagnon/software_protection_through_anti_debugging.pdf Software Protection through Anti-Debugging Michael N Gagnon, Stephen Taylor, Anup Ghosh] Techniques used in anti-debugging include:\n",
      "API-based: check for the existence of a debugger using system information\n",
      "Exception-based: check to see if exceptions are interfered with\n",
      "Process and thread blocks: check whether process and thread blocks have been manipulated\n",
      "Modified code: check for code modifications made by a debugger handling software breakpoints\n",
      "Hardware- and register-based: check for hardware breakpoints and CPU registers\n",
      "Timing and latency: check the time taken for the execution of instructions\n",
      "Detecting and penalizing debugger<ref name=\"soft-prot\" /><!-- reference does not exist -->\n",
      "\n",
      "An early example of anti-debugging existed in early versions of Microsoft Word which, if a debugger was detected, produced a message that said: \"The tree of evil bears bitter fruit. Now trashing program disk.\", after which it caused the floppy disk drive to emit alarming noises with the intent of scaring the user away from attempting it again.<ref name=\"SecurityEngineeringRA\">{{cite book | url=http://www.cl.cam.ac.uk/~rja14/book.html | author=Ross J. Anderson | title=Security Engineering | isbn = 0-471-38922-6 | page=684 }}<ref name=\"toastytech\">{{cite web | url=http://toastytech.com/guis/word1153.html | title=Microsoft Word for DOS 1.15}}\n",
      "\n"
     ]
    }
   ],
   "source": [
    "print(article)"
   ]
  },
  {
   "cell_type": "code",
   "execution_count": 129,
   "metadata": {
    "ExecuteTime": {
     "end_time": "2020-04-26T18:29:56.647628Z",
     "start_time": "2020-04-26T18:29:56.643270Z"
    }
   },
   "outputs": [
    {
     "name": "stdout",
     "output_type": "stream",
     "text": [
      "debugging process finding resolving defect prevent correct operation computer software system numerous book written debugging statistical process control special design tactic improve detection simplifying change origin computer log entry mark nbsp ii moth taped page term bug debugging popularly attributed admiral grace hopper foldoc working harvard mark ii computer harvard university associate discovered moth stuck relay thereby impeding operation whereupon remarked debugging system however term bug meaning technical error date back least thomas edison used term letter ernest lawrence uc berkeley dated october http regarding recruitment additional technical staff oxford english dictionary entry debug quote term debugging used reference airplane engine testing article journal royal aeronautical society article airforce also refers debugging time aircraft camera hopper computer found september term adopted computer programmer early seminal article gill gill proceeding royal society london series mathematical physical science vol pp earliest discussion programming error use term bug debugging association computing digital library term debugging first used three paper acm national campbell proceeding acm national meeting two three use term quotation mark debugging common enough term mentioned passing without explanation page compatible press kidwell article stalking elusive computer bug peggy aldrich kidwell ieee annals history computing discus etymology bug debug greater detail scope software electronic system become generally complex various common debugging technique expanded method detect anomaly ass impact schedule software patch full update system word anomaly discrepancy used neutral term avoid word error defect bug might implication error defect bug must fixed help ass impact overall system tool debugging video game console usually done special hardware xbox debug unit intended developer debugging range complexity fixing simple error performing lengthy tiresome task data collection analysis scheduling update debugging skill programmer major factor ability debug problem difficulty software debugging varies greatly complexity system also depends extent programming program stop restart set breakpoints change value memory term debugger also refer person debugging generally programming language java assembly bug may cause silent problem memory corruption often difficult see initial problem happened case memory debugger tool may needed certain situation general purpose software tool language specific nature useful take form list tool static code code analysis tool tool look specific set known problem common rare within source code issue detected tool would rarely picked compiler interpreter thus syntax checker semantic checker tool claim able detect unique problem commercial free tool exist various language tool extremely useful checking large source tree impractical code walkthroughs typical example problem detected would variable dereference occurs variable assigned value another example would perform strong type checking language require thus better locating likely error versus actual error result tool reputation false positive old unix lint programming program early example debugging electronic hardware often used alone combination ice may perform many typical software debugger task software firmware debugging process normally first step debugging attempt reproduce problem task example parallel process unusual software bug also specific user environment usage history make difficult reproduce problem bug reproduced input program may need simplified make easier debug example bug compiler make crash parsing large source file however simplification test case line original source file sufficient reproduce crash simplification made manually using divide conquer approach programmer try remove part original test case check problem still exists debugging problem graphical user programmer try skip user interaction original problem description check remaining action sufficient bug appear test case sufficiently simplified programmer use debugger tool examine program state used simple case tracing print statement output value variable certain point program execution technique interactive debugging due use printf function kind debugging turned command tron original version basic programming language tron stood trace tron caused line number basic command line print program ran debugging process debugging program running system different debugger start remote debugging debugger connects remote system network debugger control execution program remote system retrieve information state debugging debugging program already crash instruction manually interactive user wolf fence algorithm edward gauss described simple useful famous algorithm article communication acm follows one wolf alaska find first build fence middle state wait wolf howl determine side fence repeat process side get point see wolf implemented git introduced particular bug debugging saff squeeze technique isolating failure within test using progressive inlining part failing test debugging embedded system contrast general purpose computer software design environment primary characteristic embedded environment sheer number different platform available developer platform chosen specifically optimize application fact make life tough embedded system developer also make debugging testing system harder well since different debugging tool needed different platform identify fix bug system collect information operating state system may used analyze system find way boost performance optimize important characteristic energy consumption reliability response implementation one technique within computer code hinders attempt reverse engineering debugging target process actively used recognized publisher copy schema also used malware complicate detection elimination technique used include check existence debugger using system information check see exception interfered process thread block check whether process thread block manipulated modified code check code modification made debugger handling software breakpoints check hardware breakpoints cpu register timing latency check time taken execution instruction detecting penalizing debugger early example existed early version microsoft word debugger detected produced message said tree evil bear bitter fruit trashing program disk caused floppy disk drive emit alarming noise intent scaring user away attempting\n"
     ]
    }
   ],
   "source": [
    "print(lemmas)"
   ]
  },
  {
   "cell_type": "code",
   "execution_count": 133,
   "metadata": {
    "ExecuteTime": {
     "end_time": "2020-04-26T18:32:10.525280Z",
     "start_time": "2020-04-26T18:32:10.517843Z"
    }
   },
   "outputs": [
    {
     "data": {
      "text/plain": [
       "485"
      ]
     },
     "execution_count": 133,
     "metadata": {},
     "output_type": "execute_result"
    }
   ],
   "source": [
    "uniq = set(lemma)\n",
    "len(uniq)"
   ]
  },
  {
   "cell_type": "code",
   "execution_count": 134,
   "metadata": {
    "ExecuteTime": {
     "end_time": "2020-04-26T18:32:46.621475Z",
     "start_time": "2020-04-26T18:32:46.616924Z"
    }
   },
   "outputs": [
    {
     "name": "stdout",
     "output_type": "stream",
     "text": [
      "{'admiral', 'specific', 'needed', 'isolating', 'game', 'take', 'series', 'nbsp', 'library', 'testing', 'tron', 'berkeley', 'science', 'information', 'simplified', 'walkthroughs', 'usually', 'exception', 'simple', 'interactive', 'handling', 'ass', 'unusual', 'optimize', 'numerous', 'able', 'attempt', 'issue', 'normally', 'fixing', 'quote', 'computing', 'fact', 'detail', 'reproduced', 'tactic', 'form', 'become', 'edward', 'compiler', 'trace', 'network', 'discrepancy', 'firmware', 'attributed', 'general', 'extent', 'impact', 'using', 'expanded', 'written', 'since', 'manipulated', 'whether', 'platform', 'unique', 'implementation', 'often', 'collection', 'ice', 'sufficiently', 'available', 'timing', 'full', 'case', 'output', 'modified', 'recognized', 'extremely', 'remove', 'perform', 'complex', 'english', 'old', 'bug', 'peggy', 'graphical', 'combination', 'tool', 'date', 'avoid', 'wolf', 'discus', 'meaning', 'schedule', 'additional', 'part', 'moth', 'may', 'one', 'assigned', 'remaining', 'test', 'variable', 'complexity', 'line', 'exist', 'git', 'regarding', 'operation', 'better', 'application', 'remote', 'command', 'intent', 'use', 'interpreter', 'simplifying', 'improve', 'journal', 'parsing', 'description', 'book', 'number', 'consumption', 'greatly', 'grace', 'check', 'printf', 'collect', 'execution', 'response', 'contrast', 'useful', 'implication', 'ran', 'relay', 'unix', 'scaring', 'early', 'edison', 'two', 'get', 'rarely', 'identify', 'environment', 'engineering', 'side', 'difficulty', 'tree', 'tough', 'squeeze', 'without', 'anomaly', 'corruption', 'occurs', 'debugger', 'vol', 'fence', 'data', 'middle', 'performance', 'drive', 'type', 'false', 'gauss', 'finding', 'another', 'reproduce', 'debugging', 'running', 'oxford', 'silent', 'gill', 'harder', 'error', 'generally', 'detected', 'major', 'life', 'analyze', 'turned', 'discussion', 'claim', 'etymology', 'alaska', 'target', 'engine', 'reputation', 'video', 'explanation', 'rare', 'taken', 'xbox', 'history', 'disk', 'language', 'due', 'version', 'society', 'kidwell', 'manually', 'result', 'determine', 'process', 'floppy', 'checking', 'energy', 'developer', 'primary', 'conquer', 'change', 'inlining', 'crash', 'bitter', 'code', 'said', 'locating', 'likely', 'complicate', 'mark', 'done', 'console', 'well', 'statement', 'overall', 'failure', 'bear', 'help', 'see', 'caused', 'special', 'basic', 'progressive', 'hardware', 'simplification', 'positive', 'problem', 'initial', 'electronic', 'various', 'strong', 'technique', 'point', 'lawrence', 'free', 'nature', 'parallel', 'need', 'input', 'working', 'camera', 'detection', 'correct', 'restart', 'wait', 'statistical', 'also', 'divide', 'print', 'difficult', 'control', 'described', 'static', 'neutral', 'malware', 'software', 'pp', 'digital', 'set', 'association', 'function', 'characteristic', 'penalizing', 'saff', 'paper', 'september', 'block', 'hopper', 'existed', 'three', 'semantic', 'programming', 'retrieve', 'meeting', 'programmer', 'however', 'press', 'whereupon', 'impeding', 'dated', 'system', 'depends', 'famous', 'ii', 'common', 'university', 'actively', 'scheduling', 'value', 'ieee', 'purpose', 'step', 'thus', 'thread', 'origin', 'method', 'taped', 'program', 'aircraft', 'original', 'sufficient', 'stuck', 'seminal', 'greater', 'require', 'large', 'fixed', 'person', 'time', 'london', 'stalking', 'within', 'message', 'connects', 'particular', 'known', 'follows', 'staff', 'include', 'prevent', 'examine', 'reference', 'still', 'analysis', 'alone', 'elusive', 'defect', 'skip', 'away', 'quotation', 'letter', 'emit', 'situation', 'discovered', 'file', 'failing', 'interaction', 'versus', 'national', 'fix', 'actual', 'syntax', 'design', 'start', 'exists', 'computer', 'lint', 'ernest', 'aeronautical', 'passing', 'enough', 'detect', 'uc', 'tiresome', 'performing', 'picked', 'implemented', 'make', 'acm', 'adopted', 'trashing', 'thomas', 'way', 'article', 'task', 'breakpoints', 'physical', 'refers', 'refer', 'introduced', 'important', 'certain', 'thereby', 'page', 'approach', 'lengthy', 'typical', 'word', 'proceeding', 'sheer', 'royal', 'different', 'airforce', 'least', 'mentioned', 'easier', 'update', 'existence', 'happened', 'noise', 'skill', 'latency', 'technical', 'entry', 'assembly', 'schema', 'http', 'made', 'try', 'source', 'elimination', 'harvard', 'chosen', 'reliability', 'term', 'operating', 'java', 'impractical', 'tracing', 'attempting', 'compatible', 'stop', 'october', 'might', 'debug', 'intended', 'appear', 'evil', 'communication', 'produced', 'found', 'microsoft', 'specifically', 'action', 'kind', 'already', 'example', 'publisher', 'varies', 'would', 'factor', 'howl', 'commercial', 'checker', 'user', 'campbell', 'modification', 'resolving', 'cpu', 'aldrich', 'foldoc', 'log', 'detecting', 'annals', 'interfered', 'back', 'boost', 'range', 'remarked', 'recruitment', 'earliest', 'register', 'ability', 'dereference', 'unit', 'look', 'scope', 'stood', 'alarming', 'patch', 'cause', 'popularly', 'fruit', 'first', 'airplane', 'algorithm', 'many', 'embedded', 'associate', 'hinders', 'copy', 'instruction', 'build', 'repeat', 'state', 'memory', 'dictionary', 'list', 'must', 'usage', 'mathematical', 'used', 'reverse', 'find'}\n"
     ]
    }
   ],
   "source": [
    "print(uniq)"
   ]
  }
 ],
 "metadata": {
  "kernelspec": {
   "display_name": "Python 3",
   "language": "python",
   "name": "python3"
  },
  "language_info": {
   "codemirror_mode": {
    "name": "ipython",
    "version": 3
   },
   "file_extension": ".py",
   "mimetype": "text/x-python",
   "name": "python",
   "nbconvert_exporter": "python",
   "pygments_lexer": "ipython3",
   "version": "3.7.3"
  },
  "toc": {
   "base_numbering": 1,
   "nav_menu": {},
   "number_sections": true,
   "sideBar": true,
   "skip_h1_title": false,
   "title_cell": "Table of Contents",
   "title_sidebar": "Contents",
   "toc_cell": false,
   "toc_position": {},
   "toc_section_display": true,
   "toc_window_display": false
  },
  "varInspector": {
   "cols": {
    "lenName": 16,
    "lenType": 16,
    "lenVar": 40
   },
   "kernels_config": {
    "python": {
     "delete_cmd_postfix": "",
     "delete_cmd_prefix": "del ",
     "library": "var_list.py",
     "varRefreshCmd": "print(var_dic_list())"
    },
    "r": {
     "delete_cmd_postfix": ") ",
     "delete_cmd_prefix": "rm(",
     "library": "var_list.r",
     "varRefreshCmd": "cat(var_dic_list()) "
    }
   },
   "types_to_exclude": [
    "module",
    "function",
    "builtin_function_or_method",
    "instance",
    "_Feature"
   ],
   "window_display": false
  }
 },
 "nbformat": 4,
 "nbformat_minor": 4
}
