{
 "cells": [
  {
   "cell_type": "markdown",
   "metadata": {},
   "source": [
    "# Cosine Similarity"
   ]
  },
  {
   "cell_type": "code",
   "execution_count": 1,
   "metadata": {
    "ExecuteTime": {
     "end_time": "2020-04-26T14:41:34.115416Z",
     "start_time": "2020-04-26T14:41:33.918194Z"
    }
   },
   "outputs": [
    {
     "name": "stdout",
     "output_type": "stream",
     "text": [
      "[0.73881883]\n"
     ]
    }
   ],
   "source": [
    "from sklearn.metrics.pairwise import cosine_similarity\n",
    "\n",
    "A = (4,7,1)\n",
    "B = (5,2,3)\n",
    "\n",
    "# Compute the cosine score of A and B\n",
    "score = cosine_similarity([A], [B])\n",
    "\n",
    "# Print the cosine score\n",
    "print(score[0])"
   ]
  },
  {
   "cell_type": "code",
   "execution_count": 2,
   "metadata": {
    "ExecuteTime": {
     "end_time": "2020-04-26T14:41:37.902503Z",
     "start_time": "2020-04-26T14:41:37.300945Z"
    }
   },
   "outputs": [
    {
     "name": "stdout",
     "output_type": "stream",
     "text": [
      "[[0.         0.         0.62276601 0.62276601 0.         0.4736296\n",
      "  0.         0.        ]\n",
      " [0.57735027 0.         0.         0.         0.57735027 0.\n",
      "  0.57735027 0.        ]\n",
      " [0.         0.62276601 0.         0.         0.         0.4736296\n",
      "  0.         0.62276601]]\n"
     ]
    },
    {
     "data": {
      "text/plain": [
       "(3, 8)"
      ]
     },
     "execution_count": 2,
     "metadata": {},
     "output_type": "execute_result"
    }
   ],
   "source": [
    "import pandas as pd\n",
    "from sklearn.feature_extraction.text import TfidfVectorizer\n",
    "\n",
    "# Create TfidfVectorizer object\n",
    "vectorizer = TfidfVectorizer(stop_words='english')\n",
    "\n",
    "corpus = pd.Series([\n",
    "'The lion is the king of the jungle',\n",
    "'Lions have lifespans of a decade',\n",
    "'The lion is an endangered species'\n",
    "])\n",
    "\n",
    "# Generate matrix of word vectors\n",
    "tfidf_matrix = vectorizer.fit_transform(corpus)\n",
    "\n",
    "print(tfidf_matrix.toarray())\n",
    "tfidf_matrix.shape"
   ]
  },
  {
   "cell_type": "code",
   "execution_count": 3,
   "metadata": {
    "ExecuteTime": {
     "end_time": "2020-04-26T14:41:41.549953Z",
     "start_time": "2020-04-26T14:41:41.536189Z"
    }
   },
   "outputs": [
    {
     "name": "stdout",
     "output_type": "stream",
     "text": [
      "[0. 1. 0.]\n",
      "[(0, 0.0), (1, 1.0), (2, 0.0)]\n"
     ]
    },
    {
     "data": {
      "text/plain": [
       "['The lion is the king of the jungle', 'The lion is an endangered species']"
      ]
     },
     "execution_count": 3,
     "metadata": {},
     "output_type": "execute_result"
    }
   ],
   "source": [
    "from sklearn.metrics.pairwise import linear_kernel\n",
    "cosine_sim = linear_kernel(tfidf_matrix, tfidf_matrix)\n",
    "data = corpus.values\n",
    "\n",
    "idx = 1\n",
    "print(cosine_sim[idx])\n",
    "sim_scores = list(enumerate(cosine_sim[idx]))\n",
    "print(sim_scores)\n",
    "sim_scores = sorted(sim_scores, key=lambda x: x[1], reverse=True)\n",
    "sim_scores = sim_scores[1:11]\n",
    "movie_indices = [i[0] for i in sim_scores]\n",
    "[data[i] for i in movie_indices]"
   ]
  },
  {
   "cell_type": "markdown",
   "metadata": {},
   "source": [
    "# Ted talk recommendations"
   ]
  },
  {
   "cell_type": "code",
   "execution_count": 4,
   "metadata": {
    "ExecuteTime": {
     "end_time": "2020-04-26T14:41:44.277218Z",
     "start_time": "2020-04-26T14:41:44.162062Z"
    }
   },
   "outputs": [],
   "source": [
    "import pandas as pd\n",
    "ted = pd.read_csv('data/ted.csv')"
   ]
  },
  {
   "cell_type": "code",
   "execution_count": 5,
   "metadata": {
    "ExecuteTime": {
     "end_time": "2020-04-26T14:41:46.983382Z",
     "start_time": "2020-04-26T14:41:46.955491Z"
    }
   },
   "outputs": [
    {
     "data": {
      "text/html": [
       "<div>\n",
       "<style scoped>\n",
       "    .dataframe tbody tr th:only-of-type {\n",
       "        vertical-align: middle;\n",
       "    }\n",
       "\n",
       "    .dataframe tbody tr th {\n",
       "        vertical-align: top;\n",
       "    }\n",
       "\n",
       "    .dataframe thead th {\n",
       "        text-align: right;\n",
       "    }\n",
       "</style>\n",
       "<table border=\"1\" class=\"dataframe\">\n",
       "  <thead>\n",
       "    <tr style=\"text-align: right;\">\n",
       "      <th></th>\n",
       "      <th>transcript</th>\n",
       "      <th>url</th>\n",
       "    </tr>\n",
       "  </thead>\n",
       "  <tbody>\n",
       "    <tr>\n",
       "      <th>0</th>\n",
       "      <td>We're going to talk — my — a new lecture, just...</td>\n",
       "      <td>https://www.ted.com/talks/al_seckel_says_our_b...</td>\n",
       "    </tr>\n",
       "    <tr>\n",
       "      <th>1</th>\n",
       "      <td>This is a representation of your brain, and yo...</td>\n",
       "      <td>https://www.ted.com/talks/aaron_o_connell_maki...</td>\n",
       "    </tr>\n",
       "    <tr>\n",
       "      <th>2</th>\n",
       "      <td>It's a great honor today to share with you The...</td>\n",
       "      <td>https://www.ted.com/talks/carter_emmart_demos_...</td>\n",
       "    </tr>\n",
       "    <tr>\n",
       "      <th>3</th>\n",
       "      <td>My passions are music, technology and making t...</td>\n",
       "      <td>https://www.ted.com/talks/jared_ficklin_new_wa...</td>\n",
       "    </tr>\n",
       "    <tr>\n",
       "      <th>4</th>\n",
       "      <td>It used to be that if you wanted to get a comp...</td>\n",
       "      <td>https://www.ted.com/talks/jeremy_howard_the_wo...</td>\n",
       "    </tr>\n",
       "  </tbody>\n",
       "</table>\n",
       "</div>"
      ],
      "text/plain": [
       "                                          transcript  \\\n",
       "0  We're going to talk — my — a new lecture, just...   \n",
       "1  This is a representation of your brain, and yo...   \n",
       "2  It's a great honor today to share with you The...   \n",
       "3  My passions are music, technology and making t...   \n",
       "4  It used to be that if you wanted to get a comp...   \n",
       "\n",
       "                                                 url  \n",
       "0  https://www.ted.com/talks/al_seckel_says_our_b...  \n",
       "1  https://www.ted.com/talks/aaron_o_connell_maki...  \n",
       "2  https://www.ted.com/talks/carter_emmart_demos_...  \n",
       "3  https://www.ted.com/talks/jared_ficklin_new_wa...  \n",
       "4  https://www.ted.com/talks/jeremy_howard_the_wo...  "
      ]
     },
     "execution_count": 5,
     "metadata": {},
     "output_type": "execute_result"
    }
   ],
   "source": [
    "ted.head()"
   ]
  },
  {
   "cell_type": "code",
   "execution_count": 6,
   "metadata": {
    "ExecuteTime": {
     "end_time": "2020-04-26T14:41:49.241472Z",
     "start_time": "2020-04-26T14:41:49.225313Z"
    }
   },
   "outputs": [
    {
     "name": "stdout",
     "output_type": "stream",
     "text": [
      "<class 'pandas.core.frame.DataFrame'>\n",
      "RangeIndex: 500 entries, 0 to 499\n",
      "Data columns (total 2 columns):\n",
      " #   Column      Non-Null Count  Dtype \n",
      "---  ------      --------------  ----- \n",
      " 0   transcript  500 non-null    object\n",
      " 1   url         500 non-null    object\n",
      "dtypes: object(2)\n",
      "memory usage: 7.9+ KB\n"
     ]
    }
   ],
   "source": [
    "ted.info()"
   ]
  },
  {
   "cell_type": "code",
   "execution_count": 7,
   "metadata": {
    "ExecuteTime": {
     "end_time": "2020-04-26T14:41:51.564606Z",
     "start_time": "2020-04-26T14:41:51.536900Z"
    }
   },
   "outputs": [
    {
     "name": "stdout",
     "output_type": "stream",
     "text": [
      "<class 'pandas.core.frame.DataFrame'>\n",
      "Int64Index: 500 entries, 0 to 499\n",
      "Data columns (total 2 columns):\n",
      " #   Column      Non-Null Count  Dtype \n",
      "---  ------      --------------  ----- \n",
      " 0   transcript  500 non-null    object\n",
      " 1   url         500 non-null    object\n",
      "dtypes: object(2)\n",
      "memory usage: 11.7+ KB\n"
     ]
    }
   ],
   "source": [
    "ted.dropna().info()"
   ]
  },
  {
   "cell_type": "markdown",
   "metadata": {},
   "source": [
    "No null values"
   ]
  },
  {
   "cell_type": "code",
   "execution_count": 8,
   "metadata": {
    "ExecuteTime": {
     "end_time": "2020-04-26T14:41:55.427623Z",
     "start_time": "2020-04-26T14:41:54.798902Z"
    }
   },
   "outputs": [],
   "source": [
    "from sklearn.metrics.pairwise import linear_kernel\n",
    "\n",
    "# Initialize the TfidfVectorizer\n",
    "tfidf = TfidfVectorizer(stop_words='english')\n",
    "\n",
    "# Construct the TF-IDF matrix\n",
    "tfidf_matrix = tfidf.fit_transform(ted.transcript.values)\n",
    "cosine_sim = linear_kernel(tfidf_matrix, tfidf_matrix)"
   ]
  },
  {
   "cell_type": "code",
   "execution_count": 9,
   "metadata": {
    "ExecuteTime": {
     "end_time": "2020-04-26T14:42:07.527240Z",
     "start_time": "2020-04-26T14:42:07.507712Z"
    }
   },
   "outputs": [
    {
     "data": {
      "text/plain": [
       "[transcript    Let's imagine a sculptor building a statue, ju...\n",
       " url           https://www.ted.com/talks/george_tulevski_the_...\n",
       " Name: 143, dtype: object,\n",
       " transcript    I'd like to apologize, first of all, to all of...\n",
       " url           https://www.ted.com/talks/robin_ince_science_v...\n",
       " Name: 222, dtype: object,\n",
       " transcript    The AlloSphere: it's a three-story metal spher...\n",
       " url           https://www.ted.com/talks/joann_kuchera_morin_...\n",
       " Name: 414, dtype: object,\n",
       " transcript    I'll just start talking about the 17th century...\n",
       " url           https://www.ted.com/talks/kary_mullis_on_what_...\n",
       " Name: 65, dtype: object,\n",
       " transcript    I'm here today to start a revolution. Now befo...\n",
       " url           https://www.ted.com/talks/steve_keil_a_manifes...\n",
       " Name: 353, dtype: object,\n",
       " transcript    We grew up interacting with the physical objec...\n",
       " url           https://www.ted.com/talks/pranav_mistry_the_th...\n",
       " Name: 271, dtype: object,\n",
       " transcript    In the year 1919, a virtually unknown German m...\n",
       " url           https://www.ted.com/talks/brian_greene_on_stri...\n",
       " Name: 77, dtype: object,\n",
       " transcript    On Mondays and Thursdays, I learn how to die. ...\n",
       " url           https://www.ted.com/talks/ricardo_semler_how_t...\n",
       " Name: 223, dtype: object,\n",
       " transcript    If you take 10,000 people at random, 9,999 hav...\n",
       " url           https://www.ted.com/talks/martin_rees_asks_is_...\n",
       " Name: 211, dtype: object,\n",
       " transcript    Today I want to tell you about a project being...\n",
       " url           https://www.ted.com/talks/nancy_kanwisher_the_...\n",
       " Name: 314, dtype: object]"
      ]
     },
     "execution_count": 9,
     "metadata": {},
     "output_type": "execute_result"
    }
   ],
   "source": [
    "idx = 1\n",
    "inp = ted.iloc[idx].transcript\n",
    "\n",
    "sim_scores = list(enumerate(cosine_sim[idx]))\n",
    "sim_scores = sorted(sim_scores, key=lambda x: x[1], reverse=True)\n",
    "sim_scores = sim_scores[1:11]\n",
    "# Get the movie indices\n",
    "recommender = [i[0] for i in sim_scores]\n",
    "[ted.iloc[i] for i in recommender]"
   ]
  },
  {
   "cell_type": "markdown",
   "metadata": {
    "ExecuteTime": {
     "end_time": "2020-04-25T18:52:01.785263Z",
     "start_time": "2020-04-25T18:52:01.781169Z"
    }
   },
   "source": [
    "# Movies Recommender"
   ]
  },
  {
   "cell_type": "code",
   "execution_count": 10,
   "metadata": {
    "ExecuteTime": {
     "end_time": "2020-04-26T14:43:15.836924Z",
     "start_time": "2020-04-26T14:43:15.832655Z"
    }
   },
   "outputs": [],
   "source": [
    "url = \"https://assets.datacamp.com/production/repositories/4375/datasets/83f27c4ad045c098d3db5596154316e4ee0a28a8/movie_overviews.csv\""
   ]
  },
  {
   "cell_type": "code",
   "execution_count": 11,
   "metadata": {
    "ExecuteTime": {
     "end_time": "2020-04-26T14:43:47.329192Z",
     "start_time": "2020-04-26T14:43:35.924642Z"
    }
   },
   "outputs": [
    {
     "data": {
      "text/plain": [
       "('data/movie_overviews.csv', <http.client.HTTPMessage at 0x7f14889cb400>)"
      ]
     },
     "execution_count": 11,
     "metadata": {},
     "output_type": "execute_result"
    }
   ],
   "source": [
    "import urllib.request \n",
    "urllib.request.urlretrieve(url, 'data/movie_overviews.csv')"
   ]
  },
  {
   "cell_type": "code",
   "execution_count": 12,
   "metadata": {
    "ExecuteTime": {
     "end_time": "2020-04-26T14:44:10.983719Z",
     "start_time": "2020-04-26T14:44:10.876434Z"
    }
   },
   "outputs": [
    {
     "data": {
      "text/html": [
       "<div>\n",
       "<style scoped>\n",
       "    .dataframe tbody tr th:only-of-type {\n",
       "        vertical-align: middle;\n",
       "    }\n",
       "\n",
       "    .dataframe tbody tr th {\n",
       "        vertical-align: top;\n",
       "    }\n",
       "\n",
       "    .dataframe thead th {\n",
       "        text-align: right;\n",
       "    }\n",
       "</style>\n",
       "<table border=\"1\" class=\"dataframe\">\n",
       "  <thead>\n",
       "    <tr style=\"text-align: right;\">\n",
       "      <th></th>\n",
       "      <th>id</th>\n",
       "      <th>title</th>\n",
       "      <th>overview</th>\n",
       "      <th>tagline</th>\n",
       "    </tr>\n",
       "  </thead>\n",
       "  <tbody>\n",
       "    <tr>\n",
       "      <th>0</th>\n",
       "      <td>862</td>\n",
       "      <td>Toy Story</td>\n",
       "      <td>Led by Woody, Andy's toys live happily in his ...</td>\n",
       "      <td>NaN</td>\n",
       "    </tr>\n",
       "    <tr>\n",
       "      <th>1</th>\n",
       "      <td>8844</td>\n",
       "      <td>Jumanji</td>\n",
       "      <td>When siblings Judy and Peter discover an encha...</td>\n",
       "      <td>Roll the dice and unleash the excitement!</td>\n",
       "    </tr>\n",
       "    <tr>\n",
       "      <th>2</th>\n",
       "      <td>15602</td>\n",
       "      <td>Grumpier Old Men</td>\n",
       "      <td>A family wedding reignites the ancient feud be...</td>\n",
       "      <td>Still Yelling. Still Fighting. Still Ready for...</td>\n",
       "    </tr>\n",
       "    <tr>\n",
       "      <th>3</th>\n",
       "      <td>31357</td>\n",
       "      <td>Waiting to Exhale</td>\n",
       "      <td>Cheated on, mistreated and stepped on, the wom...</td>\n",
       "      <td>Friends are the people who let you be yourself...</td>\n",
       "    </tr>\n",
       "    <tr>\n",
       "      <th>4</th>\n",
       "      <td>11862</td>\n",
       "      <td>Father of the Bride Part II</td>\n",
       "      <td>Just when George Banks has recovered from his ...</td>\n",
       "      <td>Just When His World Is Back To Normal... He's ...</td>\n",
       "    </tr>\n",
       "  </tbody>\n",
       "</table>\n",
       "</div>"
      ],
      "text/plain": [
       "      id                        title  \\\n",
       "0    862                    Toy Story   \n",
       "1   8844                      Jumanji   \n",
       "2  15602             Grumpier Old Men   \n",
       "3  31357            Waiting to Exhale   \n",
       "4  11862  Father of the Bride Part II   \n",
       "\n",
       "                                            overview  \\\n",
       "0  Led by Woody, Andy's toys live happily in his ...   \n",
       "1  When siblings Judy and Peter discover an encha...   \n",
       "2  A family wedding reignites the ancient feud be...   \n",
       "3  Cheated on, mistreated and stepped on, the wom...   \n",
       "4  Just when George Banks has recovered from his ...   \n",
       "\n",
       "                                             tagline  \n",
       "0                                                NaN  \n",
       "1          Roll the dice and unleash the excitement!  \n",
       "2  Still Yelling. Still Fighting. Still Ready for...  \n",
       "3  Friends are the people who let you be yourself...  \n",
       "4  Just When His World Is Back To Normal... He's ...  "
      ]
     },
     "execution_count": 12,
     "metadata": {},
     "output_type": "execute_result"
    }
   ],
   "source": [
    "movies = pd.read_csv('data/movie_overviews.csv')\n",
    "movies.head()"
   ]
  },
  {
   "cell_type": "code",
   "execution_count": 16,
   "metadata": {
    "ExecuteTime": {
     "end_time": "2020-04-26T14:47:44.541349Z",
     "start_time": "2020-04-26T14:47:44.518682Z"
    }
   },
   "outputs": [
    {
     "name": "stdout",
     "output_type": "stream",
     "text": [
      "<class 'pandas.core.frame.DataFrame'>\n",
      "RangeIndex: 9099 entries, 0 to 9098\n",
      "Data columns (total 4 columns):\n",
      " #   Column    Non-Null Count  Dtype \n",
      "---  ------    --------------  ----- \n",
      " 0   id        9099 non-null   int64 \n",
      " 1   title     9099 non-null   object\n",
      " 2   overview  9087 non-null   object\n",
      " 3   tagline   7033 non-null   object\n",
      "dtypes: int64(1), object(3)\n",
      "memory usage: 284.5+ KB\n"
     ]
    }
   ],
   "source": [
    "movies.info()"
   ]
  },
  {
   "cell_type": "code",
   "execution_count": 20,
   "metadata": {
    "ExecuteTime": {
     "end_time": "2020-04-26T14:49:31.065489Z",
     "start_time": "2020-04-26T14:49:31.051342Z"
    }
   },
   "outputs": [
    {
     "data": {
      "text/plain": [
       "\"When siblings Judy and Peter discover an enchanted board game that opens the door to a magical world, they unwittingly invite Alan -- an adult who's been trapped inside the game for 26 years -- into their living room. Alan's only hope for freedom is to finish the game, which proves risky as all three find themselves running from giant rhinoceroses, evil monkeys and other terrifying creatures.\""
      ]
     },
     "execution_count": 20,
     "metadata": {},
     "output_type": "execute_result"
    }
   ],
   "source": [
    "summary = movies.overview.dropna()\n",
    "overview = summary.values\n",
    "overview[1]"
   ]
  },
  {
   "cell_type": "code",
   "execution_count": 21,
   "metadata": {
    "ExecuteTime": {
     "end_time": "2020-04-26T14:49:36.627397Z",
     "start_time": "2020-04-26T14:49:36.269665Z"
    }
   },
   "outputs": [],
   "source": [
    "vectorizer = TfidfVectorizer(stop_words='english', max_df=2.0)\n",
    "vector = vectorizer.fit_transform(overview)"
   ]
  },
  {
   "cell_type": "code",
   "execution_count": 26,
   "metadata": {
    "ExecuteTime": {
     "end_time": "2020-04-26T14:53:04.397668Z",
     "start_time": "2020-04-26T14:53:03.574369Z"
    }
   },
   "outputs": [],
   "source": [
    "cosine_sim = cosine_similarity(vector, vector)"
   ]
  },
  {
   "cell_type": "code",
   "execution_count": 31,
   "metadata": {
    "ExecuteTime": {
     "end_time": "2020-04-26T14:55:00.654086Z",
     "start_time": "2020-04-26T14:55:00.634303Z"
    }
   },
   "outputs": [
    {
     "data": {
      "text/plain": [
       "[\"Wreck-It Ralph is the 9-foot-tall, 643-pound villain of an arcade video game named Fix-It Felix Jr., in which the game's titular hero fixes buildings that Ralph destroys. Wanting to prove he can be a good guy and not just a villain, Ralph escapes his game and lands in Hero's Duty, a first-person shooter where he helps the game's hero battle against alien invaders. He later enters Sugar Rush, a kart racing game set on tracks made of candies, cookies and other sweets. There, Ralph meets Vanellope von Schweetz who has learned that her game is faced with a dire threat that could affect the entire arcade, and one that Ralph may have inadvertently started.\",\n",
       " \"Video game experts are recruited by the military to fight 1980s-era video game characters who've attacked New York.\",\n",
       " 'A game designer on the run from assassins must play her latest virtual reality creation with a marketing trainee to determine if the game has been damaged.',\n",
       " 'After the mysterious, brutal death of an old friend, a group of teenagers find themselves in possession of \"Stay Alive,\" an ultra-realistic 3-D videogame based on the spine-chilling true story of a 17th century noblewoman, known as \"The Blood Countess.\" The gamers don\\'t know anything about the game other than they\\'re not supposed to have it... and they\\'re dying to play it. Not able to resist temptation, the kids begin to play the grisly game but soon make a chilling connection -- they are each being murdered one-by-one in the same way as the characters they played in the game. As the line between the game world and the real world disappears, the teens must find a way to defeat the vicious and merciless Blood Countess, all the while trying to... stay alive.',\n",
       " 'Mind-control technology has taken society by a storm, a multiplayer on-line game called \"Slayers\" allows players to control human prisoners in mass-scale. Simon controls Kable, the online champion of the game. Kable\\'s ultimate challenge becomes regaining his identity and independence by defeating the game\\'s mastermind.',\n",
       " \"Even though he's 35, Alex acts more like he's 13, spending his days as the world's oldest video game tester and his evenings developing the next big Xbox game. But he gets kicked out of his apartment and is forced to move in with his grandmother.\",\n",
       " 'A video game expert Alex Rogan finds himself transported to another planet after conquering The Last Starfighter video game only to find out it was just a test. He was recruited to join the team of best Starfighters to defend their world from the attack.',\n",
       " 'The classic role-playing game comes to life in this magical adventure. The empire of Izmer is a divided land: Elite magicians called Mages rule while lowly commoners are powerless. When Empress Savina (Thora Birch) vows to bring equality and prosperity to her land, the evil Mage Profion (Jeremy Irons) plots to depose her. But this good-vs.-evil battle is no game!',\n",
       " \"Trapped in their New York brownstone's panic room, a hidden chamber built as a sanctuary in the event of break-ins, newly divorced Meg Altman and her young daughter Sarah play a deadly game of cat-and-mouse with three intruders - Burnham, Raoul and Junior - during a brutal home invasion. But the room itself is the focal point because what the intruders really want is inside it.\",\n",
       " \"Le Chiffre, a banker to the world's terrorists, is scheduled to participate in a high-stakes poker game in Montenegro, where he intends to use his winnings to establish his financial grip on the terrorist market. M sends Bond – on his maiden mission as a 00 Agent – to attend this game and prevent Le Chiffre from winning. With the help of Vesper Lynd and Felix Leiter, Bond enters the most important poker game in his already dangerous career.\"]"
      ]
     },
     "execution_count": 31,
     "metadata": {},
     "output_type": "execute_result"
    }
   ],
   "source": [
    "idx = 1\n",
    "inp = summary.iloc[idx]\n",
    "\n",
    "sim_scores = list(enumerate(cosine_sim[idx]))\n",
    "sim_scores = sorted(sim_scores, key=lambda x: x[1], reverse=True)\n",
    "sim_scores = sim_scores[1:11]\n",
    "# Get the movie indices\n",
    "recommender = [i[0] for i in sim_scores]\n",
    "[summary.iloc[i] for i in recommender]"
   ]
  },
  {
   "cell_type": "markdown",
   "metadata": {},
   "source": [
    "## Real recommender"
   ]
  },
  {
   "cell_type": "code",
   "execution_count": 39,
   "metadata": {
    "ExecuteTime": {
     "end_time": "2020-04-26T15:00:36.294659Z",
     "start_time": "2020-04-26T15:00:36.258146Z"
    }
   },
   "outputs": [
    {
     "name": "stdout",
     "output_type": "stream",
     "text": [
      "<class 'pandas.core.frame.DataFrame'>\n",
      "RangeIndex: 9099 entries, 0 to 9098\n",
      "Data columns (total 4 columns):\n",
      " #   Column    Non-Null Count  Dtype \n",
      "---  ------    --------------  ----- \n",
      " 0   id        9099 non-null   int64 \n",
      " 1   title     9099 non-null   object\n",
      " 2   overview  9087 non-null   object\n",
      " 3   tagline   7033 non-null   object\n",
      "dtypes: int64(1), object(3)\n",
      "memory usage: 284.5+ KB\n"
     ]
    }
   ],
   "source": [
    "movies.info()"
   ]
  },
  {
   "cell_type": "code",
   "execution_count": 48,
   "metadata": {
    "ExecuteTime": {
     "end_time": "2020-04-26T15:03:06.833030Z",
     "start_time": "2020-04-26T15:03:06.823810Z"
    }
   },
   "outputs": [],
   "source": [
    "final_movies = movies[movies.overview.notnull()]"
   ]
  },
  {
   "cell_type": "code",
   "execution_count": 49,
   "metadata": {
    "ExecuteTime": {
     "end_time": "2020-04-26T15:03:07.724780Z",
     "start_time": "2020-04-26T15:03:07.707886Z"
    }
   },
   "outputs": [
    {
     "name": "stdout",
     "output_type": "stream",
     "text": [
      "<class 'pandas.core.frame.DataFrame'>\n",
      "Int64Index: 9087 entries, 0 to 9098\n",
      "Data columns (total 4 columns):\n",
      " #   Column    Non-Null Count  Dtype \n",
      "---  ------    --------------  ----- \n",
      " 0   id        9087 non-null   int64 \n",
      " 1   title     9087 non-null   object\n",
      " 2   overview  9087 non-null   object\n",
      " 3   tagline   7033 non-null   object\n",
      "dtypes: int64(1), object(3)\n",
      "memory usage: 355.0+ KB\n"
     ]
    }
   ],
   "source": [
    "final_movies.info()"
   ]
  },
  {
   "cell_type": "code",
   "execution_count": 51,
   "metadata": {
    "ExecuteTime": {
     "end_time": "2020-04-26T15:03:40.488660Z",
     "start_time": "2020-04-26T15:03:39.074424Z"
    }
   },
   "outputs": [],
   "source": [
    "inp = final_movies.overview.values\n",
    "vectorizer = TfidfVectorizer(stop_words='english', max_df=2.0)\n",
    "vector = vectorizer.fit_transform(inp)\n",
    "cosine_sim = linear_kernel(vector, vector)"
   ]
  },
  {
   "cell_type": "code",
   "execution_count": 57,
   "metadata": {
    "ExecuteTime": {
     "end_time": "2020-04-26T15:11:56.492884Z",
     "start_time": "2020-04-26T15:11:56.435752Z"
    }
   },
   "outputs": [
    {
     "data": {
      "text/plain": [
       "['Wreck-It Ralph',\n",
       " 'Pixels',\n",
       " 'eXistenZ',\n",
       " 'Stay Alive',\n",
       " 'Gamer',\n",
       " \"Grandma's Boy\",\n",
       " 'The Last Starfighter',\n",
       " 'Dungeons & Dragons',\n",
       " 'Panic Room',\n",
       " 'Casino Royale']"
      ]
     },
     "execution_count": 57,
     "metadata": {},
     "output_type": "execute_result"
    }
   ],
   "source": [
    "idx = 1\n",
    "search = final_movies.overview.iloc[idx]\n",
    "indices = pd.Series(final_movies.index, index=final_movies['overview'])\n",
    "idx2 = indices[search]\n",
    "\n",
    "sim_scores = list(enumerate(cosine_sim[idx2]))\n",
    "sim_scores = sorted(sim_scores, key=lambda x: x[1], reverse=True)\n",
    "sim_scores = sim_scores[1:11]\n",
    "# Get the movie indices\n",
    "recommender = [i[0] for i in sim_scores]\n",
    "[final_movies.iloc[i].title for i in recommender]"
   ]
  },
  {
   "cell_type": "markdown",
   "metadata": {},
   "source": [
    "## Analysis"
   ]
  },
  {
   "cell_type": "code",
   "execution_count": 86,
   "metadata": {
    "ExecuteTime": {
     "end_time": "2020-04-26T16:40:14.472304Z",
     "start_time": "2020-04-26T16:40:12.442867Z"
    }
   },
   "outputs": [
    {
     "data": {
      "text/plain": [
       "['Guardians of the Galaxy',\n",
       " 'Quarantine',\n",
       " 'Night of the Living Dead',\n",
       " \"Amityville: It's About Time\",\n",
       " 'The Giant Spider Invasion',\n",
       " 'Peter Pan',\n",
       " 'The Wizard of Oz',\n",
       " 'The Smurfs',\n",
       " 'Zathura: A Space Adventure',\n",
       " 'Martha Marcy May Marlene']"
      ]
     },
     "execution_count": 86,
     "metadata": {},
     "output_type": "execute_result"
    }
   ],
   "source": [
    "inp = final_movies.overview.values\n",
    "vectorizer = TfidfVectorizer(stop_words='english', max_df=0.7, ngram_range=(2, 3))\n",
    "vector = vectorizer.fit_transform(inp)\n",
    "cosine_sim = linear_kernel(vector, vector)\n",
    "\n",
    "idx = 1\n",
    "search = final_movies.overview.iloc[idx]\n",
    "indices = pd.Series(final_movies.index, index=final_movies['overview'])\n",
    "idx2 = indices[search]\n",
    "\n",
    "sim_scores = list(enumerate(cosine_sim[idx2]))\n",
    "sim_scores = sorted(sim_scores, key=lambda x: x[1], reverse=True)\n",
    "sim_scores = sim_scores[1:11]\n",
    "# Get the movie indices\n",
    "recommender = [i[0] for i in sim_scores]\n",
    "[final_movies.iloc[i].title for i in recommender]"
   ]
  },
  {
   "cell_type": "code",
   "execution_count": 87,
   "metadata": {
    "ExecuteTime": {
     "end_time": "2020-04-26T16:40:29.334592Z",
     "start_time": "2020-04-26T16:40:29.327527Z"
    }
   },
   "outputs": [],
   "source": [
    "indices = pd.Series(final_movies.index, index=final_movies['overview'])\n",
    "\n",
    "def get_recommendation(overview, similarity):\n",
    "  \n",
    "    id = indices[overview]\n",
    "\n",
    "    scores = list(enumerate(similarity[id]))\n",
    "    scores = sorted(scores, key=lambda x: x[1], reverse=True)\n",
    "    scores = scores[1:11]\n",
    "    # Get the movie indices\n",
    "    recommender = [i[0] for i in scores]\n",
    "    return recommender"
   ]
  },
  {
   "cell_type": "code",
   "execution_count": 88,
   "metadata": {
    "ExecuteTime": {
     "end_time": "2020-04-26T16:40:32.253505Z",
     "start_time": "2020-04-26T16:40:32.240159Z"
    }
   },
   "outputs": [],
   "source": [
    "def rec(idx):\n",
    "    movie = final_movies.iloc[idx]\n",
    "    print(\"Title: \", movie.title)\n",
    "    print(\"Over view: \", movie.overview)\n",
    "    output = get_recommendation(movie.overview, cosine_sim)\n",
    "    print(\"Recommanded Movies title: \\n\\n\", '\\n'.join([final_movies.iloc[i].title for i in output]))"
   ]
  },
  {
   "cell_type": "code",
   "execution_count": 89,
   "metadata": {
    "ExecuteTime": {
     "end_time": "2020-04-26T16:40:33.850591Z",
     "start_time": "2020-04-26T16:40:33.826898Z"
    }
   },
   "outputs": [
    {
     "name": "stdout",
     "output_type": "stream",
     "text": [
      "Title:  Jumanji\n",
      "Over view:  When siblings Judy and Peter discover an enchanted board game that opens the door to a magical world, they unwittingly invite Alan -- an adult who's been trapped inside the game for 26 years -- into their living room. Alan's only hope for freedom is to finish the game, which proves risky as all three find themselves running from giant rhinoceroses, evil monkeys and other terrifying creatures.\n",
      "Recommanded Movies title: \n",
      "\n",
      " Guardians of the Galaxy\n",
      "Quarantine\n",
      "Night of the Living Dead\n",
      "Amityville: It's About Time\n",
      "The Giant Spider Invasion\n",
      "Peter Pan\n",
      "The Wizard of Oz\n",
      "The Smurfs\n",
      "Zathura: A Space Adventure\n",
      "Martha Marcy May Marlene\n"
     ]
    }
   ],
   "source": [
    "rec(1)"
   ]
  },
  {
   "cell_type": "code",
   "execution_count": 90,
   "metadata": {
    "ExecuteTime": {
     "end_time": "2020-04-26T16:40:42.505893Z",
     "start_time": "2020-04-26T16:40:42.492343Z"
    }
   },
   "outputs": [
    {
     "name": "stdout",
     "output_type": "stream",
     "text": [
      "Title:  Grumpier Old Men\n",
      "Over view:  A family wedding reignites the ancient feud between next-door neighbors and fishing buddies John and Max. Meanwhile, a sultry Italian divorcée opens a restaurant at the local bait shop, alarming the locals who worry she'll scare the fish away. But she's less interested in seafood than she is in cooking up a hot time with Max.\n",
      "Recommanded Movies title: \n",
      "\n",
      " Grumpy Old Men\n",
      "The Hundred-Foot Journey\n",
      "Thor\n",
      "Leon: The Professional\n",
      "The Anniversary Party\n",
      "Toy Story\n",
      "Jumanji\n",
      "Waiting to Exhale\n",
      "Father of the Bride Part II\n",
      "Heat\n"
     ]
    }
   ],
   "source": [
    "rec(2)"
   ]
  },
  {
   "cell_type": "code",
   "execution_count": 91,
   "metadata": {
    "ExecuteTime": {
     "end_time": "2020-04-26T16:40:46.331358Z",
     "start_time": "2020-04-26T16:40:46.310877Z"
    }
   },
   "outputs": [
    {
     "name": "stdout",
     "output_type": "stream",
     "text": [
      "Title:  Braveheart\n",
      "Over view:  Enraged at the slaughter of Murron, his new bride and childhood love, Scottish warrior William Wallace slays a platoon of the local English lord's soldiers. This leads the village to revolt and, eventually, the entire country to rise up against English rule.\n",
      "Recommanded Movies title: \n",
      "\n",
      " Certified Copy\n",
      "Killers\n",
      "Black Death\n",
      "Trouble Every Day\n",
      "Toy Story\n",
      "Jumanji\n",
      "Grumpier Old Men\n",
      "Waiting to Exhale\n",
      "Father of the Bride Part II\n",
      "Heat\n"
     ]
    }
   ],
   "source": [
    "rec(100)"
   ]
  },
  {
   "cell_type": "code",
   "execution_count": 92,
   "metadata": {
    "ExecuteTime": {
     "end_time": "2020-04-26T16:41:10.076161Z",
     "start_time": "2020-04-26T16:41:10.051528Z"
    }
   },
   "outputs": [
    {
     "name": "stdout",
     "output_type": "stream",
     "text": [
      "Title:  Jeffrey\n",
      "Over view:  Jeffery, a young gay man in New York, decides that sex is too much and decided to become celibate. He immediately meets the man of his dreams and must decide whether or not love is worth the danger of a boyfriend dying.\n",
      "Recommanded Movies title: \n",
      "\n",
      " Boys Life: Three Stories of Love, Lust, and Liberation\n",
      "Summertime\n",
      "Leon: The Professional\n",
      "Ladybird Ladybird\n",
      "Boy Crazy\n",
      "Six Degrees of Separation\n",
      "Belle Époque\n",
      "The Beastmaster\n",
      "The Age of Adaline\n",
      "The Butcher's Wife\n"
     ]
    }
   ],
   "source": [
    "rec(150)"
   ]
  },
  {
   "cell_type": "code",
   "execution_count": 93,
   "metadata": {
    "ExecuteTime": {
     "end_time": "2020-04-26T16:41:35.131878Z",
     "start_time": "2020-04-26T16:41:35.119816Z"
    }
   },
   "outputs": [
    {
     "name": "stdout",
     "output_type": "stream",
     "text": [
      "Title:  Miami Rhapsody\n",
      "Over view:  Gwyn Marcus has always wanted a marriage like her parents. She has just accepted the proposal of her boyfriend Matt, but she has misgivings about their future together. Her fear of commitment grows as she learns of the various affairs that her family is having. With her sister getting married and her brother already married, her mother is growing concerned about Gwyn's being the last single person in the family. But the more she thinks about marriage, the more she must search for the balance between career, marriage and family.\n",
      "Recommanded Movies title: \n",
      "\n",
      " St. Vincent\n",
      "Shag\n",
      "Sex and the City\n",
      "The Human Condition I: No Greater Love\n",
      "The Daytrippers\n",
      "My Best Friend's Wedding\n",
      "La Cage aux folles\n",
      "Leap Year\n",
      "Margot at the Wedding\n",
      "Walking and Talking\n"
     ]
    }
   ],
   "source": [
    "rec(250)"
   ]
  }
 ],
 "metadata": {
  "kernelspec": {
   "display_name": "Python 3",
   "language": "python",
   "name": "python3"
  },
  "language_info": {
   "codemirror_mode": {
    "name": "ipython",
    "version": 3
   },
   "file_extension": ".py",
   "mimetype": "text/x-python",
   "name": "python",
   "nbconvert_exporter": "python",
   "pygments_lexer": "ipython3",
   "version": "3.7.3"
  },
  "toc": {
   "base_numbering": 1,
   "nav_menu": {},
   "number_sections": true,
   "sideBar": true,
   "skip_h1_title": false,
   "title_cell": "Table of Contents",
   "title_sidebar": "Contents",
   "toc_cell": false,
   "toc_position": {},
   "toc_section_display": true,
   "toc_window_display": false
  },
  "varInspector": {
   "cols": {
    "lenName": 16,
    "lenType": 16,
    "lenVar": 40
   },
   "kernels_config": {
    "python": {
     "delete_cmd_postfix": "",
     "delete_cmd_prefix": "del ",
     "library": "var_list.py",
     "varRefreshCmd": "print(var_dic_list())"
    },
    "r": {
     "delete_cmd_postfix": ") ",
     "delete_cmd_prefix": "rm(",
     "library": "var_list.r",
     "varRefreshCmd": "cat(var_dic_list()) "
    }
   },
   "types_to_exclude": [
    "module",
    "function",
    "builtin_function_or_method",
    "instance",
    "_Feature"
   ],
   "window_display": false
  }
 },
 "nbformat": 4,
 "nbformat_minor": 4
}
